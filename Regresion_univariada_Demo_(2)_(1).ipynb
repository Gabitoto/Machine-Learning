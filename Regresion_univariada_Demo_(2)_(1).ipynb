{
  "nbformat": 4,
  "nbformat_minor": 0,
  "metadata": {
    "colab": {
      "provenance": [],
      "include_colab_link": true
    },
    "kernelspec": {
      "name": "python3",
      "display_name": "Python 3"
    },
    "language_info": {
      "name": "python"
    }
  },
  "cells": [
    {
      "cell_type": "markdown",
      "metadata": {
        "id": "view-in-github",
        "colab_type": "text"
      },
      "source": [
        "<a href=\"https://colab.research.google.com/github/Gabitoto/Gabitoto/blob/main/Regresion_univariada_Demo_(2)_(1).ipynb\" target=\"_parent\"><img src=\"https://colab.research.google.com/assets/colab-badge.svg\" alt=\"Open In Colab\"/></a>"
      ]
    },
    {
      "cell_type": "markdown",
      "source": [
        "# **Regresión Univariada con Python**\n",
        "\n",
        "La idea es tomar un conjunto de datos en un dataframe y realizar una regresion lineal, aprovechando para demostrar algunas caracteristicas de Python y bibliotecas comunes."
      ],
      "metadata": {
        "id": "_rldVxBwgY92"
      }
    },
    {
      "cell_type": "markdown",
      "source": [
        "![image.png](data:image/png;base64,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)"
      ],
      "metadata": {
        "id": "XxI2-OJygMUm"
      }
    },
    {
      "cell_type": "code",
      "source": [
        "import pandas as pd\n",
        "import numpy as np\n",
        "import matplotlib.pyplot as plt\n",
        "import matplotlib\n",
        "import seaborn as sns"
      ],
      "metadata": {
        "id": "Et8Y0hIUEhg1"
      },
      "execution_count": 1,
      "outputs": []
    },
    {
      "cell_type": "markdown",
      "source": [
        "---\n",
        "## **Acceso al dataset y visualizacion**\n",
        "\n",
        "El dataset contiene información de años de experiencia (X) versus salario (Y), y se hipotetiza que X puede servir para predecir Y."
      ],
      "metadata": {
        "id": "DzfaPyiWmMZJ"
      }
    },
    {
      "cell_type": "code",
      "execution_count": 3,
      "metadata": {
        "colab": {
          "base_uri": "https://localhost:8080/"
        },
        "id": "eQGPKv0EEIeC",
        "outputId": "426ea50f-3d92-4748-d7c7-de8a4568a3ce"
      },
      "outputs": [
        {
          "output_type": "stream",
          "name": "stdout",
          "text": [
            "--2023-07-04 00:56:42--  https://raw.githubusercontent.com/anujahlawat/salary-hike/main/Salary_Data.csv\n",
            "Resolving raw.githubusercontent.com (raw.githubusercontent.com)... 185.199.108.133, 185.199.109.133, 185.199.110.133, ...\n",
            "Connecting to raw.githubusercontent.com (raw.githubusercontent.com)|185.199.108.133|:443... connected.\n",
            "HTTP request sent, awaiting response... 200 OK\n",
            "Length: 454 [text/plain]\n",
            "Saving to: ‘Salary_Data.csv’\n",
            "\n",
            "\rSalary_Data.csv       0%[                    ]       0  --.-KB/s               \rSalary_Data.csv     100%[===================>]     454  --.-KB/s    in 0s      \n",
            "\n",
            "2023-07-04 00:56:42 (16.8 MB/s) - ‘Salary_Data.csv’ saved [454/454]\n",
            "\n"
          ]
        }
      ],
      "source": [
        "# Acceso al dataset\n",
        "!wget \"https://raw.githubusercontent.com/anujahlawat/salary-hike/main/Salary_Data.csv\""
      ]
    },
    {
      "cell_type": "code",
      "source": [
        "# Acceso alternativo con gdown\n",
        "import gdown\n",
        "url = \"https://raw.githubusercontent.com/anujahlawat/salary-hike/main/Salary_Data.csv\"\n",
        "gdown.download(url, 'salary.csv', quiet=False)"
      ],
      "metadata": {
        "colab": {
          "base_uri": "https://localhost:8080/",
          "height": 108
        },
        "id": "VBhamBDEhY3N",
        "outputId": "2f071a27-d74b-4211-c1f9-1e116723daf6"
      },
      "execution_count": null,
      "outputs": [
        {
          "output_type": "stream",
          "name": "stderr",
          "text": [
            "Downloading...\n",
            "From: https://raw.githubusercontent.com/anujahlawat/salary-hike/main/Salary_Data.csv\n",
            "To: /content/salary.csv\n",
            "454B [00:00, 983kB/s]                    \n"
          ]
        },
        {
          "output_type": "execute_result",
          "data": {
            "text/plain": [
              "'salary.csv'"
            ],
            "application/vnd.google.colaboratory.intrinsic+json": {
              "type": "string"
            }
          },
          "metadata": {},
          "execution_count": 4
        }
      ]
    },
    {
      "cell_type": "code",
      "source": [
        "data = pd.read_csv(\"Salary_Data.csv\")\n",
        "#data = pd.read_csv(\"salary.csv\") # Carga en un CSV\n",
        "print(data.shape)# Dimensiones\n",
        "data.head(10)"
      ],
      "metadata": {
        "colab": {
          "base_uri": "https://localhost:8080/",
          "height": 380
        },
        "id": "64M1rm3nEUSx",
        "outputId": "8d51a672-cacf-494e-abb8-ce9e4aeae31c"
      },
      "execution_count": 4,
      "outputs": [
        {
          "output_type": "stream",
          "name": "stdout",
          "text": [
            "(30, 2)\n"
          ]
        },
        {
          "output_type": "execute_result",
          "data": {
            "text/plain": [
              "   YearsExperience   Salary\n",
              "0              1.1  39343.0\n",
              "1              1.3  46205.0\n",
              "2              1.5  37731.0\n",
              "3              2.0  43525.0\n",
              "4              2.2  39891.0\n",
              "5              2.9  56642.0\n",
              "6              3.0  60150.0\n",
              "7              3.2  54445.0\n",
              "8              3.2  64445.0\n",
              "9              3.7  57189.0"
            ],
            "text/html": [
              "\n",
              "  <div id=\"df-7465978c-7c85-4f89-9d70-15851c8ea415\">\n",
              "    <div class=\"colab-df-container\">\n",
              "      <div>\n",
              "<style scoped>\n",
              "    .dataframe tbody tr th:only-of-type {\n",
              "        vertical-align: middle;\n",
              "    }\n",
              "\n",
              "    .dataframe tbody tr th {\n",
              "        vertical-align: top;\n",
              "    }\n",
              "\n",
              "    .dataframe thead th {\n",
              "        text-align: right;\n",
              "    }\n",
              "</style>\n",
              "<table border=\"1\" class=\"dataframe\">\n",
              "  <thead>\n",
              "    <tr style=\"text-align: right;\">\n",
              "      <th></th>\n",
              "      <th>YearsExperience</th>\n",
              "      <th>Salary</th>\n",
              "    </tr>\n",
              "  </thead>\n",
              "  <tbody>\n",
              "    <tr>\n",
              "      <th>0</th>\n",
              "      <td>1.1</td>\n",
              "      <td>39343.0</td>\n",
              "    </tr>\n",
              "    <tr>\n",
              "      <th>1</th>\n",
              "      <td>1.3</td>\n",
              "      <td>46205.0</td>\n",
              "    </tr>\n",
              "    <tr>\n",
              "      <th>2</th>\n",
              "      <td>1.5</td>\n",
              "      <td>37731.0</td>\n",
              "    </tr>\n",
              "    <tr>\n",
              "      <th>3</th>\n",
              "      <td>2.0</td>\n",
              "      <td>43525.0</td>\n",
              "    </tr>\n",
              "    <tr>\n",
              "      <th>4</th>\n",
              "      <td>2.2</td>\n",
              "      <td>39891.0</td>\n",
              "    </tr>\n",
              "    <tr>\n",
              "      <th>5</th>\n",
              "      <td>2.9</td>\n",
              "      <td>56642.0</td>\n",
              "    </tr>\n",
              "    <tr>\n",
              "      <th>6</th>\n",
              "      <td>3.0</td>\n",
              "      <td>60150.0</td>\n",
              "    </tr>\n",
              "    <tr>\n",
              "      <th>7</th>\n",
              "      <td>3.2</td>\n",
              "      <td>54445.0</td>\n",
              "    </tr>\n",
              "    <tr>\n",
              "      <th>8</th>\n",
              "      <td>3.2</td>\n",
              "      <td>64445.0</td>\n",
              "    </tr>\n",
              "    <tr>\n",
              "      <th>9</th>\n",
              "      <td>3.7</td>\n",
              "      <td>57189.0</td>\n",
              "    </tr>\n",
              "  </tbody>\n",
              "</table>\n",
              "</div>\n",
              "      <button class=\"colab-df-convert\" onclick=\"convertToInteractive('df-7465978c-7c85-4f89-9d70-15851c8ea415')\"\n",
              "              title=\"Convert this dataframe to an interactive table.\"\n",
              "              style=\"display:none;\">\n",
              "        \n",
              "  <svg xmlns=\"http://www.w3.org/2000/svg\" height=\"24px\"viewBox=\"0 0 24 24\"\n",
              "       width=\"24px\">\n",
              "    <path d=\"M0 0h24v24H0V0z\" fill=\"none\"/>\n",
              "    <path d=\"M18.56 5.44l.94 2.06.94-2.06 2.06-.94-2.06-.94-.94-2.06-.94 2.06-2.06.94zm-11 1L8.5 8.5l.94-2.06 2.06-.94-2.06-.94L8.5 2.5l-.94 2.06-2.06.94zm10 10l.94 2.06.94-2.06 2.06-.94-2.06-.94-.94-2.06-.94 2.06-2.06.94z\"/><path d=\"M17.41 7.96l-1.37-1.37c-.4-.4-.92-.59-1.43-.59-.52 0-1.04.2-1.43.59L10.3 9.45l-7.72 7.72c-.78.78-.78 2.05 0 2.83L4 21.41c.39.39.9.59 1.41.59.51 0 1.02-.2 1.41-.59l7.78-7.78 2.81-2.81c.8-.78.8-2.07 0-2.86zM5.41 20L4 18.59l7.72-7.72 1.47 1.35L5.41 20z\"/>\n",
              "  </svg>\n",
              "      </button>\n",
              "      \n",
              "  <style>\n",
              "    .colab-df-container {\n",
              "      display:flex;\n",
              "      flex-wrap:wrap;\n",
              "      gap: 12px;\n",
              "    }\n",
              "\n",
              "    .colab-df-convert {\n",
              "      background-color: #E8F0FE;\n",
              "      border: none;\n",
              "      border-radius: 50%;\n",
              "      cursor: pointer;\n",
              "      display: none;\n",
              "      fill: #1967D2;\n",
              "      height: 32px;\n",
              "      padding: 0 0 0 0;\n",
              "      width: 32px;\n",
              "    }\n",
              "\n",
              "    .colab-df-convert:hover {\n",
              "      background-color: #E2EBFA;\n",
              "      box-shadow: 0px 1px 2px rgba(60, 64, 67, 0.3), 0px 1px 3px 1px rgba(60, 64, 67, 0.15);\n",
              "      fill: #174EA6;\n",
              "    }\n",
              "\n",
              "    [theme=dark] .colab-df-convert {\n",
              "      background-color: #3B4455;\n",
              "      fill: #D2E3FC;\n",
              "    }\n",
              "\n",
              "    [theme=dark] .colab-df-convert:hover {\n",
              "      background-color: #434B5C;\n",
              "      box-shadow: 0px 1px 3px 1px rgba(0, 0, 0, 0.15);\n",
              "      filter: drop-shadow(0px 1px 2px rgba(0, 0, 0, 0.3));\n",
              "      fill: #FFFFFF;\n",
              "    }\n",
              "  </style>\n",
              "\n",
              "      <script>\n",
              "        const buttonEl =\n",
              "          document.querySelector('#df-7465978c-7c85-4f89-9d70-15851c8ea415 button.colab-df-convert');\n",
              "        buttonEl.style.display =\n",
              "          google.colab.kernel.accessAllowed ? 'block' : 'none';\n",
              "\n",
              "        async function convertToInteractive(key) {\n",
              "          const element = document.querySelector('#df-7465978c-7c85-4f89-9d70-15851c8ea415');\n",
              "          const dataTable =\n",
              "            await google.colab.kernel.invokeFunction('convertToInteractive',\n",
              "                                                     [key], {});\n",
              "          if (!dataTable) return;\n",
              "\n",
              "          const docLinkHtml = 'Like what you see? Visit the ' +\n",
              "            '<a target=\"_blank\" href=https://colab.research.google.com/notebooks/data_table.ipynb>data table notebook</a>'\n",
              "            + ' to learn more about interactive tables.';\n",
              "          element.innerHTML = '';\n",
              "          dataTable['output_type'] = 'display_data';\n",
              "          await google.colab.output.renderOutput(dataTable, element);\n",
              "          const docLink = document.createElement('div');\n",
              "          docLink.innerHTML = docLinkHtml;\n",
              "          element.appendChild(docLink);\n",
              "        }\n",
              "      </script>\n",
              "    </div>\n",
              "  </div>\n",
              "  "
            ]
          },
          "metadata": {},
          "execution_count": 4
        }
      ]
    },
    {
      "cell_type": "code",
      "source": [
        "data.describe() # Estadistica descriptiva"
      ],
      "metadata": {
        "colab": {
          "base_uri": "https://localhost:8080/",
          "height": 300
        },
        "id": "GxrW-wiGEfdM",
        "outputId": "6bd282f6-495a-45dc-af75-af94aee62e95"
      },
      "execution_count": null,
      "outputs": [
        {
          "output_type": "execute_result",
          "data": {
            "text/plain": [
              "       YearsExperience         Salary\n",
              "count        30.000000      30.000000\n",
              "mean          5.313333   76003.000000\n",
              "std           2.837888   27414.429785\n",
              "min           1.100000   37731.000000\n",
              "25%           3.200000   56720.750000\n",
              "50%           4.700000   65237.000000\n",
              "75%           7.700000  100544.750000\n",
              "max          10.500000  122391.000000"
            ],
            "text/html": [
              "\n",
              "  <div id=\"df-1decf2ee-874b-4171-a0d0-e66d72ca1b4d\">\n",
              "    <div class=\"colab-df-container\">\n",
              "      <div>\n",
              "<style scoped>\n",
              "    .dataframe tbody tr th:only-of-type {\n",
              "        vertical-align: middle;\n",
              "    }\n",
              "\n",
              "    .dataframe tbody tr th {\n",
              "        vertical-align: top;\n",
              "    }\n",
              "\n",
              "    .dataframe thead th {\n",
              "        text-align: right;\n",
              "    }\n",
              "</style>\n",
              "<table border=\"1\" class=\"dataframe\">\n",
              "  <thead>\n",
              "    <tr style=\"text-align: right;\">\n",
              "      <th></th>\n",
              "      <th>YearsExperience</th>\n",
              "      <th>Salary</th>\n",
              "    </tr>\n",
              "  </thead>\n",
              "  <tbody>\n",
              "    <tr>\n",
              "      <th>count</th>\n",
              "      <td>30.000000</td>\n",
              "      <td>30.000000</td>\n",
              "    </tr>\n",
              "    <tr>\n",
              "      <th>mean</th>\n",
              "      <td>5.313333</td>\n",
              "      <td>76003.000000</td>\n",
              "    </tr>\n",
              "    <tr>\n",
              "      <th>std</th>\n",
              "      <td>2.837888</td>\n",
              "      <td>27414.429785</td>\n",
              "    </tr>\n",
              "    <tr>\n",
              "      <th>min</th>\n",
              "      <td>1.100000</td>\n",
              "      <td>37731.000000</td>\n",
              "    </tr>\n",
              "    <tr>\n",
              "      <th>25%</th>\n",
              "      <td>3.200000</td>\n",
              "      <td>56720.750000</td>\n",
              "    </tr>\n",
              "    <tr>\n",
              "      <th>50%</th>\n",
              "      <td>4.700000</td>\n",
              "      <td>65237.000000</td>\n",
              "    </tr>\n",
              "    <tr>\n",
              "      <th>75%</th>\n",
              "      <td>7.700000</td>\n",
              "      <td>100544.750000</td>\n",
              "    </tr>\n",
              "    <tr>\n",
              "      <th>max</th>\n",
              "      <td>10.500000</td>\n",
              "      <td>122391.000000</td>\n",
              "    </tr>\n",
              "  </tbody>\n",
              "</table>\n",
              "</div>\n",
              "      <button class=\"colab-df-convert\" onclick=\"convertToInteractive('df-1decf2ee-874b-4171-a0d0-e66d72ca1b4d')\"\n",
              "              title=\"Convert this dataframe to an interactive table.\"\n",
              "              style=\"display:none;\">\n",
              "        \n",
              "  <svg xmlns=\"http://www.w3.org/2000/svg\" height=\"24px\"viewBox=\"0 0 24 24\"\n",
              "       width=\"24px\">\n",
              "    <path d=\"M0 0h24v24H0V0z\" fill=\"none\"/>\n",
              "    <path d=\"M18.56 5.44l.94 2.06.94-2.06 2.06-.94-2.06-.94-.94-2.06-.94 2.06-2.06.94zm-11 1L8.5 8.5l.94-2.06 2.06-.94-2.06-.94L8.5 2.5l-.94 2.06-2.06.94zm10 10l.94 2.06.94-2.06 2.06-.94-2.06-.94-.94-2.06-.94 2.06-2.06.94z\"/><path d=\"M17.41 7.96l-1.37-1.37c-.4-.4-.92-.59-1.43-.59-.52 0-1.04.2-1.43.59L10.3 9.45l-7.72 7.72c-.78.78-.78 2.05 0 2.83L4 21.41c.39.39.9.59 1.41.59.51 0 1.02-.2 1.41-.59l7.78-7.78 2.81-2.81c.8-.78.8-2.07 0-2.86zM5.41 20L4 18.59l7.72-7.72 1.47 1.35L5.41 20z\"/>\n",
              "  </svg>\n",
              "      </button>\n",
              "      \n",
              "  <style>\n",
              "    .colab-df-container {\n",
              "      display:flex;\n",
              "      flex-wrap:wrap;\n",
              "      gap: 12px;\n",
              "    }\n",
              "\n",
              "    .colab-df-convert {\n",
              "      background-color: #E8F0FE;\n",
              "      border: none;\n",
              "      border-radius: 50%;\n",
              "      cursor: pointer;\n",
              "      display: none;\n",
              "      fill: #1967D2;\n",
              "      height: 32px;\n",
              "      padding: 0 0 0 0;\n",
              "      width: 32px;\n",
              "    }\n",
              "\n",
              "    .colab-df-convert:hover {\n",
              "      background-color: #E2EBFA;\n",
              "      box-shadow: 0px 1px 2px rgba(60, 64, 67, 0.3), 0px 1px 3px 1px rgba(60, 64, 67, 0.15);\n",
              "      fill: #174EA6;\n",
              "    }\n",
              "\n",
              "    [theme=dark] .colab-df-convert {\n",
              "      background-color: #3B4455;\n",
              "      fill: #D2E3FC;\n",
              "    }\n",
              "\n",
              "    [theme=dark] .colab-df-convert:hover {\n",
              "      background-color: #434B5C;\n",
              "      box-shadow: 0px 1px 3px 1px rgba(0, 0, 0, 0.15);\n",
              "      filter: drop-shadow(0px 1px 2px rgba(0, 0, 0, 0.3));\n",
              "      fill: #FFFFFF;\n",
              "    }\n",
              "  </style>\n",
              "\n",
              "      <script>\n",
              "        const buttonEl =\n",
              "          document.querySelector('#df-1decf2ee-874b-4171-a0d0-e66d72ca1b4d button.colab-df-convert');\n",
              "        buttonEl.style.display =\n",
              "          google.colab.kernel.accessAllowed ? 'block' : 'none';\n",
              "\n",
              "        async function convertToInteractive(key) {\n",
              "          const element = document.querySelector('#df-1decf2ee-874b-4171-a0d0-e66d72ca1b4d');\n",
              "          const dataTable =\n",
              "            await google.colab.kernel.invokeFunction('convertToInteractive',\n",
              "                                                     [key], {});\n",
              "          if (!dataTable) return;\n",
              "\n",
              "          const docLinkHtml = 'Like what you see? Visit the ' +\n",
              "            '<a target=\"_blank\" href=https://colab.research.google.com/notebooks/data_table.ipynb>data table notebook</a>'\n",
              "            + ' to learn more about interactive tables.';\n",
              "          element.innerHTML = '';\n",
              "          dataTable['output_type'] = 'display_data';\n",
              "          await google.colab.output.renderOutput(dataTable, element);\n",
              "          const docLink = document.createElement('div');\n",
              "          docLink.innerHTML = docLinkHtml;\n",
              "          element.appendChild(docLink);\n",
              "        }\n",
              "      </script>\n",
              "    </div>\n",
              "  </div>\n",
              "  "
            ]
          },
          "metadata": {},
          "execution_count": 6
        }
      ]
    },
    {
      "cell_type": "code",
      "source": [
        "data.info()"
      ],
      "metadata": {
        "colab": {
          "base_uri": "https://localhost:8080/"
        },
        "id": "EHOX55_xn5-L",
        "outputId": "1faa055f-bf98-471c-958a-26759d72efab"
      },
      "execution_count": null,
      "outputs": [
        {
          "output_type": "stream",
          "name": "stdout",
          "text": [
            "<class 'pandas.core.frame.DataFrame'>\n",
            "RangeIndex: 30 entries, 0 to 29\n",
            "Data columns (total 2 columns):\n",
            " #   Column           Non-Null Count  Dtype  \n",
            "---  ------           --------------  -----  \n",
            " 0   YearsExperience  30 non-null     float64\n",
            " 1   Salary           30 non-null     float64\n",
            "dtypes: float64(2)\n",
            "memory usage: 608.0 bytes\n"
          ]
        }
      ]
    },
    {
      "cell_type": "code",
      "source": [
        "# Un primer grafico de puntos (usando seaborn)\n",
        "sns.scatterplot(x=data['YearsExperience'], y=data['Salary'], color='red')\n",
        "plt.title(\"Salario en funcion de los años de experiencia\")\n",
        "plt.show()"
      ],
      "metadata": {
        "colab": {
          "base_uri": "https://localhost:8080/",
          "height": 472
        },
        "id": "DQKjhye1EwlK",
        "outputId": "40f1f9e6-1863-493e-c3b1-b849047c7335"
      },
      "execution_count": null,
      "outputs": [
        {
          "output_type": "display_data",
          "data": {
            "text/plain": [
              "<Figure size 640x480 with 1 Axes>"
            ],
            "image/png": "[encoded data removed]"
          },
          "metadata": {}
        }
      ]
    },
    {
      "cell_type": "code",
      "source": [
        "# Grafico de lineas (usando mathplotlib)\n",
        "plt.plot(data['YearsExperience'], data['Salary'])\n",
        "plt.title(\"Salario en funcion de los años de experiencia\")\n",
        "plt.show()"
      ],
      "metadata": {
        "colab": {
          "base_uri": "https://localhost:8080/",
          "height": 452
        },
        "id": "3M3ii3XZE38E",
        "outputId": "67907900-4404-4d3e-952e-762b88914998"
      },
      "execution_count": null,
      "outputs": [
        {
          "output_type": "display_data",
          "data": {
            "text/plain": [
              "<Figure size 640x480 with 1 Axes>"
            ],
            "image/png": "[encoded data removed]"
          },
          "metadata": {}
        }
      ]
    },
    {
      "cell_type": "code",
      "source": [
        "# Como boxplot\n",
        "plt.boxplot(data['Salary'])\n",
        "plt.show()"
      ],
      "metadata": {
        "colab": {
          "base_uri": "https://localhost:8080/",
          "height": 200
        },
        "id": "5xsV-vQBEzFp",
        "outputId": "ed882297-58e8-490d-b473-0b28864f4de6"
      },
      "execution_count": 2,
      "outputs": [
        {
          "output_type": "error",
          "ename": "NameError",
          "evalue": "ignored",
          "traceback": [
            "\u001b[0;31m---------------------------------------------------------------------------\u001b[0m",
            "\u001b[0;31mNameError\u001b[0m                                 Traceback (most recent call last)",
            "\u001b[0;32m<ipython-input-2-974e27b5a590>\u001b[0m in \u001b[0;36m<cell line: 2>\u001b[0;34m()\u001b[0m\n\u001b[1;32m      1\u001b[0m \u001b[0;31m# Como boxplot\u001b[0m\u001b[0;34m\u001b[0m\u001b[0;34m\u001b[0m\u001b[0m\n\u001b[0;32m----> 2\u001b[0;31m \u001b[0mplt\u001b[0m\u001b[0;34m.\u001b[0m\u001b[0mboxplot\u001b[0m\u001b[0;34m(\u001b[0m\u001b[0mdata\u001b[0m\u001b[0;34m[\u001b[0m\u001b[0;34m'Salary'\u001b[0m\u001b[0;34m]\u001b[0m\u001b[0;34m)\u001b[0m\u001b[0;34m\u001b[0m\u001b[0;34m\u001b[0m\u001b[0m\n\u001b[0m\u001b[1;32m      3\u001b[0m \u001b[0mplt\u001b[0m\u001b[0;34m.\u001b[0m\u001b[0mshow\u001b[0m\u001b[0;34m(\u001b[0m\u001b[0;34m)\u001b[0m\u001b[0;34m\u001b[0m\u001b[0;34m\u001b[0m\u001b[0m\n",
            "\u001b[0;31mNameError\u001b[0m: name 'data' is not defined"
          ]
        }
      ]
    },
    {
      "cell_type": "code",
      "source": [
        "# Calculamos la correlacion entre ambas variables. Si es buena, entonces podriamos construir un modelo\n",
        "correlation = data.corr() #if we got good correlation between x and y then we can go for model building\n",
        "correlation"
      ],
      "metadata": {
        "colab": {
          "base_uri": "https://localhost:8080/",
          "height": 112
        },
        "id": "MRirLCKfE5B_",
        "outputId": "274a7873-f3ae-4c70-e381-7f2d3d8f7cab"
      },
      "execution_count": null,
      "outputs": [
        {
          "output_type": "execute_result",
          "data": {
            "text/plain": [
              "                 YearsExperience    Salary\n",
              "YearsExperience         1.000000  0.978242\n",
              "Salary                  0.978242  1.000000"
            ],
            "text/html": [
              "\n",
              "  <div id=\"df-8fa9fa3e-4dfe-4f51-a9a6-4db9f16352ae\">\n",
              "    <div class=\"colab-df-container\">\n",
              "      <div>\n",
              "<style scoped>\n",
              "    .dataframe tbody tr th:only-of-type {\n",
              "        vertical-align: middle;\n",
              "    }\n",
              "\n",
              "    .dataframe tbody tr th {\n",
              "        vertical-align: top;\n",
              "    }\n",
              "\n",
              "    .dataframe thead th {\n",
              "        text-align: right;\n",
              "    }\n",
              "</style>\n",
              "<table border=\"1\" class=\"dataframe\">\n",
              "  <thead>\n",
              "    <tr style=\"text-align: right;\">\n",
              "      <th></th>\n",
              "      <th>YearsExperience</th>\n",
              "      <th>Salary</th>\n",
              "    </tr>\n",
              "  </thead>\n",
              "  <tbody>\n",
              "    <tr>\n",
              "      <th>YearsExperience</th>\n",
              "      <td>1.000000</td>\n",
              "      <td>0.978242</td>\n",
              "    </tr>\n",
              "    <tr>\n",
              "      <th>Salary</th>\n",
              "      <td>0.978242</td>\n",
              "      <td>1.000000</td>\n",
              "    </tr>\n",
              "  </tbody>\n",
              "</table>\n",
              "</div>\n",
              "      <button class=\"colab-df-convert\" onclick=\"convertToInteractive('df-8fa9fa3e-4dfe-4f51-a9a6-4db9f16352ae')\"\n",
              "              title=\"Convert this dataframe to an interactive table.\"\n",
              "              style=\"display:none;\">\n",
              "        \n",
              "  <svg xmlns=\"http://www.w3.org/2000/svg\" height=\"24px\"viewBox=\"0 0 24 24\"\n",
              "       width=\"24px\">\n",
              "    <path d=\"M0 0h24v24H0V0z\" fill=\"none\"/>\n",
              "    <path d=\"M18.56 5.44l.94 2.06.94-2.06 2.06-.94-2.06-.94-.94-2.06-.94 2.06-2.06.94zm-11 1L8.5 8.5l.94-2.06 2.06-.94-2.06-.94L8.5 2.5l-.94 2.06-2.06.94zm10 10l.94 2.06.94-2.06 2.06-.94-2.06-.94-.94-2.06-.94 2.06-2.06.94z\"/><path d=\"M17.41 7.96l-1.37-1.37c-.4-.4-.92-.59-1.43-.59-.52 0-1.04.2-1.43.59L10.3 9.45l-7.72 7.72c-.78.78-.78 2.05 0 2.83L4 21.41c.39.39.9.59 1.41.59.51 0 1.02-.2 1.41-.59l7.78-7.78 2.81-2.81c.8-.78.8-2.07 0-2.86zM5.41 20L4 18.59l7.72-7.72 1.47 1.35L5.41 20z\"/>\n",
              "  </svg>\n",
              "      </button>\n",
              "      \n",
              "  <style>\n",
              "    .colab-df-container {\n",
              "      display:flex;\n",
              "      flex-wrap:wrap;\n",
              "      gap: 12px;\n",
              "    }\n",
              "\n",
              "    .colab-df-convert {\n",
              "      background-color: #E8F0FE;\n",
              "      border: none;\n",
              "      border-radius: 50%;\n",
              "      cursor: pointer;\n",
              "      display: none;\n",
              "      fill: #1967D2;\n",
              "      height: 32px;\n",
              "      padding: 0 0 0 0;\n",
              "      width: 32px;\n",
              "    }\n",
              "\n",
              "    .colab-df-convert:hover {\n",
              "      background-color: #E2EBFA;\n",
              "      box-shadow: 0px 1px 2px rgba(60, 64, 67, 0.3), 0px 1px 3px 1px rgba(60, 64, 67, 0.15);\n",
              "      fill: #174EA6;\n",
              "    }\n",
              "\n",
              "    [theme=dark] .colab-df-convert {\n",
              "      background-color: #3B4455;\n",
              "      fill: #D2E3FC;\n",
              "    }\n",
              "\n",
              "    [theme=dark] .colab-df-convert:hover {\n",
              "      background-color: #434B5C;\n",
              "      box-shadow: 0px 1px 3px 1px rgba(0, 0, 0, 0.15);\n",
              "      filter: drop-shadow(0px 1px 2px rgba(0, 0, 0, 0.3));\n",
              "      fill: #FFFFFF;\n",
              "    }\n",
              "  </style>\n",
              "\n",
              "      <script>\n",
              "        const buttonEl =\n",
              "          document.querySelector('#df-8fa9fa3e-4dfe-4f51-a9a6-4db9f16352ae button.colab-df-convert');\n",
              "        buttonEl.style.display =\n",
              "          google.colab.kernel.accessAllowed ? 'block' : 'none';\n",
              "\n",
              "        async function convertToInteractive(key) {\n",
              "          const element = document.querySelector('#df-8fa9fa3e-4dfe-4f51-a9a6-4db9f16352ae');\n",
              "          const dataTable =\n",
              "            await google.colab.kernel.invokeFunction('convertToInteractive',\n",
              "                                                     [key], {});\n",
              "          if (!dataTable) return;\n",
              "\n",
              "          const docLinkHtml = 'Like what you see? Visit the ' +\n",
              "            '<a target=\"_blank\" href=https://colab.research.google.com/notebooks/data_table.ipynb>data table notebook</a>'\n",
              "            + ' to learn more about interactive tables.';\n",
              "          element.innerHTML = '';\n",
              "          dataTable['output_type'] = 'display_data';\n",
              "          await google.colab.output.renderOutput(dataTable, element);\n",
              "          const docLink = document.createElement('div');\n",
              "          docLink.innerHTML = docLinkHtml;\n",
              "          element.appendChild(docLink);\n",
              "        }\n",
              "      </script>\n",
              "    </div>\n",
              "  </div>\n",
              "  "
            ]
          },
          "metadata": {},
          "execution_count": 12
        }
      ]
    },
    {
      "cell_type": "code",
      "source": [
        "# Visualizacion alternativa de la correlacion como heatmap\n",
        "sns.heatmap(correlation, annot=True, vmin=-1, vmax=1, cmap=\"Blues\")\n",
        "plt.show()"
      ],
      "metadata": {
        "colab": {
          "base_uri": "https://localhost:8080/",
          "height": 435
        },
        "id": "tjpxU-KBaJV-",
        "outputId": "22c5ea6e-6dd8-463c-c425-dcc86b8cd15e"
      },
      "execution_count": null,
      "outputs": [
        {
          "output_type": "display_data",
          "data": {
            "text/plain": [
              "<Figure size 640x480 with 2 Axes>"
            ],
            "image/png": "[encoded data removed]"
          },
          "metadata": {}
        }
      ]
    },
    {
      "cell_type": "markdown",
      "source": [
        "## **Modelo de Regresion (*statsmodel*)**"
      ],
      "metadata": {
        "id": "X1JlYhT6oaRj"
      }
    },
    {
      "cell_type": "code",
      "source": [
        "import statsmodels.formula.api as sms\n",
        "\n",
        "# Salary (y) es una funcion lineal de YearsExperience (x)\n",
        "model = sms.ols(\"Salary~YearsExperience\", data=data).fit()\n",
        "print(model.summary())\n",
        "\n",
        "# we get a good value for R-squared\n",
        "# null hypothesis: beta_1 (coeff. of YearsExperience) = 0\n",
        "# alternative hypothesis: beta_1 != 0\n",
        "# p-low  null-go, hence null hypothesis rejected and alternative hypothesis accepted\n",
        "# This means that here is a relation between x and y"
      ],
      "metadata": {
        "colab": {
          "base_uri": "https://localhost:8080/"
        },
        "id": "V_vGvASdFFhk",
        "outputId": "db8e8245-6b63-473b-f99b-fcb060fdf01d"
      },
      "execution_count": null,
      "outputs": [
        {
          "output_type": "stream",
          "name": "stdout",
          "text": [
            "                            OLS Regression Results                            \n",
            "==============================================================================\n",
            "Dep. Variable:                 Salary   R-squared:                       0.957\n",
            "Model:                            OLS   Adj. R-squared:                  0.955\n",
            "Method:                 Least Squares   F-statistic:                     622.5\n",
            "Date:                Mon, 03 Jul 2023   Prob (F-statistic):           1.14e-20\n",
            "Time:                        15:24:52   Log-Likelihood:                -301.44\n",
            "No. Observations:                  30   AIC:                             606.9\n",
            "Df Residuals:                      28   BIC:                             609.7\n",
            "Df Model:                           1                                         \n",
            "Covariance Type:            nonrobust                                         \n",
            "===================================================================================\n",
            "                      coef    std err          t      P>|t|      [0.025      0.975]\n",
            "-----------------------------------------------------------------------------------\n",
            "Intercept        2.579e+04   2273.053     11.347      0.000    2.11e+04    3.04e+04\n",
            "YearsExperience  9449.9623    378.755     24.950      0.000    8674.119    1.02e+04\n",
            "==============================================================================\n",
            "Omnibus:                        2.140   Durbin-Watson:                   1.648\n",
            "Prob(Omnibus):                  0.343   Jarque-Bera (JB):                1.569\n",
            "Skew:                           0.363   Prob(JB):                        0.456\n",
            "Kurtosis:                       2.147   Cond. No.                         13.2\n",
            "==============================================================================\n",
            "\n",
            "Notes:\n",
            "[1] Standard Errors assume that the covariance matrix of the errors is correctly specified.\n"
          ]
        }
      ]
    },
    {
      "cell_type": "code",
      "source": [
        "y_pred = model.predict(data[\"YearsExperience\"])\n",
        "#predicted_salary = pd.Series(data = y_pred, name='PredictedSalary')\n",
        "\n",
        "data['PredictedSalary'] = y_pred\n",
        "data.head()"
      ],
      "metadata": {
        "colab": {
          "base_uri": "https://localhost:8080/",
          "height": 206
        },
        "id": "X2W9UdSnFLi8",
        "outputId": "6e32c90f-5433-4ab8-e300-2eac63fdae07"
      },
      "execution_count": null,
      "outputs": [
        {
          "output_type": "execute_result",
          "data": {
            "text/plain": [
              "   YearsExperience   Salary  PredictedSalary\n",
              "0              1.1  39343.0     36187.158752\n",
              "1              1.3  46205.0     38077.151217\n",
              "2              1.5  37731.0     39967.143681\n",
              "3              2.0  43525.0     44692.124842\n",
              "4              2.2  39891.0     46582.117306"
            ],
            "text/html": [
              "\n",
              "  <div id=\"df-232a8622-ae1d-40db-a9a0-5d2e4a796502\">\n",
              "    <div class=\"colab-df-container\">\n",
              "      <div>\n",
              "<style scoped>\n",
              "    .dataframe tbody tr th:only-of-type {\n",
              "        vertical-align: middle;\n",
              "    }\n",
              "\n",
              "    .dataframe tbody tr th {\n",
              "        vertical-align: top;\n",
              "    }\n",
              "\n",
              "    .dataframe thead th {\n",
              "        text-align: right;\n",
              "    }\n",
              "</style>\n",
              "<table border=\"1\" class=\"dataframe\">\n",
              "  <thead>\n",
              "    <tr style=\"text-align: right;\">\n",
              "      <th></th>\n",
              "      <th>YearsExperience</th>\n",
              "      <th>Salary</th>\n",
              "      <th>PredictedSalary</th>\n",
              "    </tr>\n",
              "  </thead>\n",
              "  <tbody>\n",
              "    <tr>\n",
              "      <th>0</th>\n",
              "      <td>1.1</td>\n",
              "      <td>39343.0</td>\n",
              "      <td>36187.158752</td>\n",
              "    </tr>\n",
              "    <tr>\n",
              "      <th>1</th>\n",
              "      <td>1.3</td>\n",
              "      <td>46205.0</td>\n",
              "      <td>38077.151217</td>\n",
              "    </tr>\n",
              "    <tr>\n",
              "      <th>2</th>\n",
              "      <td>1.5</td>\n",
              "      <td>37731.0</td>\n",
              "      <td>39967.143681</td>\n",
              "    </tr>\n",
              "    <tr>\n",
              "      <th>3</th>\n",
              "      <td>2.0</td>\n",
              "      <td>43525.0</td>\n",
              "      <td>44692.124842</td>\n",
              "    </tr>\n",
              "    <tr>\n",
              "      <th>4</th>\n",
              "      <td>2.2</td>\n",
              "      <td>39891.0</td>\n",
              "      <td>46582.117306</td>\n",
              "    </tr>\n",
              "  </tbody>\n",
              "</table>\n",
              "</div>\n",
              "      <button class=\"colab-df-convert\" onclick=\"convertToInteractive('df-232a8622-ae1d-40db-a9a0-5d2e4a796502')\"\n",
              "              title=\"Convert this dataframe to an interactive table.\"\n",
              "              style=\"display:none;\">\n",
              "        \n",
              "  <svg xmlns=\"http://www.w3.org/2000/svg\" height=\"24px\"viewBox=\"0 0 24 24\"\n",
              "       width=\"24px\">\n",
              "    <path d=\"M0 0h24v24H0V0z\" fill=\"none\"/>\n",
              "    <path d=\"M18.56 5.44l.94 2.06.94-2.06 2.06-.94-2.06-.94-.94-2.06-.94 2.06-2.06.94zm-11 1L8.5 8.5l.94-2.06 2.06-.94-2.06-.94L8.5 2.5l-.94 2.06-2.06.94zm10 10l.94 2.06.94-2.06 2.06-.94-2.06-.94-.94-2.06-.94 2.06-2.06.94z\"/><path d=\"M17.41 7.96l-1.37-1.37c-.4-.4-.92-.59-1.43-.59-.52 0-1.04.2-1.43.59L10.3 9.45l-7.72 7.72c-.78.78-.78 2.05 0 2.83L4 21.41c.39.39.9.59 1.41.59.51 0 1.02-.2 1.41-.59l7.78-7.78 2.81-2.81c.8-.78.8-2.07 0-2.86zM5.41 20L4 18.59l7.72-7.72 1.47 1.35L5.41 20z\"/>\n",
              "  </svg>\n",
              "      </button>\n",
              "      \n",
              "  <style>\n",
              "    .colab-df-container {\n",
              "      display:flex;\n",
              "      flex-wrap:wrap;\n",
              "      gap: 12px;\n",
              "    }\n",
              "\n",
              "    .colab-df-convert {\n",
              "      background-color: #E8F0FE;\n",
              "      border: none;\n",
              "      border-radius: 50%;\n",
              "      cursor: pointer;\n",
              "      display: none;\n",
              "      fill: #1967D2;\n",
              "      height: 32px;\n",
              "      padding: 0 0 0 0;\n",
              "      width: 32px;\n",
              "    }\n",
              "\n",
              "    .colab-df-convert:hover {\n",
              "      background-color: #E2EBFA;\n",
              "      box-shadow: 0px 1px 2px rgba(60, 64, 67, 0.3), 0px 1px 3px 1px rgba(60, 64, 67, 0.15);\n",
              "      fill: #174EA6;\n",
              "    }\n",
              "\n",
              "    [theme=dark] .colab-df-convert {\n",
              "      background-color: #3B4455;\n",
              "      fill: #D2E3FC;\n",
              "    }\n",
              "\n",
              "    [theme=dark] .colab-df-convert:hover {\n",
              "      background-color: #434B5C;\n",
              "      box-shadow: 0px 1px 3px 1px rgba(0, 0, 0, 0.15);\n",
              "      filter: drop-shadow(0px 1px 2px rgba(0, 0, 0, 0.3));\n",
              "      fill: #FFFFFF;\n",
              "    }\n",
              "  </style>\n",
              "\n",
              "      <script>\n",
              "        const buttonEl =\n",
              "          document.querySelector('#df-232a8622-ae1d-40db-a9a0-5d2e4a796502 button.colab-df-convert');\n",
              "        buttonEl.style.display =\n",
              "          google.colab.kernel.accessAllowed ? 'block' : 'none';\n",
              "\n",
              "        async function convertToInteractive(key) {\n",
              "          const element = document.querySelector('#df-232a8622-ae1d-40db-a9a0-5d2e4a796502');\n",
              "          const dataTable =\n",
              "            await google.colab.kernel.invokeFunction('convertToInteractive',\n",
              "                                                     [key], {});\n",
              "          if (!dataTable) return;\n",
              "\n",
              "          const docLinkHtml = 'Like what you see? Visit the ' +\n",
              "            '<a target=\"_blank\" href=https://colab.research.google.com/notebooks/data_table.ipynb>data table notebook</a>'\n",
              "            + ' to learn more about interactive tables.';\n",
              "          element.innerHTML = '';\n",
              "          dataTable['output_type'] = 'display_data';\n",
              "          await google.colab.output.renderOutput(dataTable, element);\n",
              "          const docLink = document.createElement('div');\n",
              "          docLink.innerHTML = docLinkHtml;\n",
              "          element.appendChild(docLink);\n",
              "        }\n",
              "      </script>\n",
              "    </div>\n",
              "  </div>\n",
              "  "
            ]
          },
          "metadata": {},
          "execution_count": 15
        }
      ]
    },
    {
      "cell_type": "code",
      "source": [
        "model.predict(pd.DataFrame({'YearsExperience': [2.1, 0.5]})) # Predicting in-sample and out-of-sample"
      ],
      "metadata": {
        "colab": {
          "base_uri": "https://localhost:8080/"
        },
        "id": "5BuUPddfDjtK",
        "outputId": "904f6956-0261-4579-b4cc-06c038b95cb2"
      },
      "execution_count": null,
      "outputs": [
        {
          "output_type": "execute_result",
          "data": {
            "text/plain": [
              "0    45637.121074\n",
              "1    30517.181359\n",
              "dtype: float64"
            ]
          },
          "metadata": {},
          "execution_count": 16
        }
      ]
    },
    {
      "cell_type": "code",
      "source": [
        "# Grafico para ver los valores reales y predichos por el modelo\n",
        "def plot(x, y, y_pred):\n",
        "  plt.scatter(x, y, color='red', label=\"actual\")\n",
        "  plt.scatter(x, y_pred, label=\"predicted\")\n",
        "  plt.plot(x, y_pred)\n",
        "\n",
        "  #plt.title(\"Salario en funcion de años de experiencia - actual versus predicted\")\n",
        "  #plt.xlabel(\"YearsExperience\")\n",
        "  #plt.ylabel(\"Salary\")\n",
        "  plt.legend(loc=\"upper left\")\n",
        "\n",
        "  plt.show()"
      ],
      "metadata": {
        "id": "z10lRCeVFlyH"
      },
      "execution_count": null,
      "outputs": []
    },
    {
      "cell_type": "code",
      "source": [
        "#plot(data) # Invocamos a la funcion\n",
        "plot(data['YearsExperience'], data['Salary'], data['PredictedSalary'])"
      ],
      "metadata": {
        "colab": {
          "base_uri": "https://localhost:8080/",
          "height": 430
        },
        "id": "fX8FnZGOrYPW",
        "outputId": "12911800-7c93-4c2f-bd8a-fea4f8fb3d78"
      },
      "execution_count": null,
      "outputs": [
        {
          "output_type": "display_data",
          "data": {
            "text/plain": [
              "<Figure size 640x480 with 1 Axes>"
            ],
            "image/png": "[encoded data removed]"
          },
          "metadata": {}
        }
      ]
    },
    {
      "cell_type": "code",
      "source": [
        "# Calculamos métricas de performance (R2 y RMSE)\n",
        "from sklearn.metrics import r2_score\n",
        "from sklearn.metrics import mean_squared_error\n",
        "\n",
        "print(\"R2=\", r2_score(data[\"Salary\"], y_pred))\n",
        "mse = mean_squared_error(data[\"Salary\"], y_pred)\n",
        "rmse = np.sqrt(mse)\n",
        "print(\"RMSE=\", rmse)"
      ],
      "metadata": {
        "colab": {
          "base_uri": "https://localhost:8080/"
        },
        "id": "KBOtW7gUHy7Q",
        "outputId": "6f7bcbd9-ccf1-4847-fd2b-391a8a91ff44"
      },
      "execution_count": null,
      "outputs": [
        {
          "output_type": "stream",
          "name": "stdout",
          "text": [
            "R2= 0.9569566641435086\n",
            "RMSE= 5592.043608760662\n"
          ]
        }
      ]
    },
    {
      "cell_type": "code",
      "source": [
        "sns.histplot(data['YearsExperience'], bins=15, kde=True)"
      ],
      "metadata": {
        "colab": {
          "base_uri": "https://localhost:8080/",
          "height": 467
        },
        "id": "AvaSEd2y-ML6",
        "outputId": "bfe46534-ac19-45c1-c267-0ee3eefdf276"
      },
      "execution_count": null,
      "outputs": [
        {
          "output_type": "execute_result",
          "data": {
            "text/plain": [
              "<Axes: xlabel='YearsExperience', ylabel='Count'>"
            ]
          },
          "metadata": {},
          "execution_count": 20
        },
        {
          "output_type": "display_data",
          "data": {
            "text/plain": [
              "<Figure size 640x480 with 1 Axes>"
            ],
            "image/png": "[encoded data removed]"
          },
          "metadata": {}
        }
      ]
    },
    {
      "cell_type": "code",
      "source": [
        "data['YearsExperience'].hist(bins=30)\n",
        "plt.show()"
      ],
      "metadata": {
        "colab": {
          "base_uri": "https://localhost:8080/",
          "height": 430
        },
        "id": "PH5v3FjL9BZv",
        "outputId": "33ce49a1-2f32-4c7d-cf9e-a722d4e8bba2"
      },
      "execution_count": null,
      "outputs": [
        {
          "output_type": "display_data",
          "data": {
            "text/plain": [
              "<Figure size 640x480 with 1 Axes>"
            ],
            "image/png": "[encoded data removed]"
          },
          "metadata": {}
        }
      ]
    },
    {
      "cell_type": "markdown",
      "source": [
        "## **Modelo de Regresion (*sklearn*)**"
      ],
      "metadata": {
        "id": "4hqDbMbirEdN"
      }
    },
    {
      "cell_type": "code",
      "source": [
        "from sklearn.linear_model import LinearRegression\n",
        "\n",
        "x = data['YearsExperience'].values.reshape(-1,1) # If your data has a single feature\n",
        "y = data['Salary']\n",
        "\n",
        "model = LinearRegression()\n",
        "model.fit(x,y)\n",
        "\n",
        "y_pred = model.predict(x)"
      ],
      "metadata": {
        "id": "p9oxw3SpFrB3"
      },
      "execution_count": null,
      "outputs": []
    },
    {
      "cell_type": "code",
      "source": [
        "data['PredictedSalary'] = y_pred\n",
        "data"
      ],
      "metadata": {
        "colab": {
          "base_uri": "https://localhost:8080/",
          "height": 989
        },
        "id": "gXcXxOuoEETo",
        "outputId": "4663ac65-f444-4b71-bd85-1392d01b958e"
      },
      "execution_count": null,
      "outputs": [
        {
          "output_type": "execute_result",
          "data": {
            "text/plain": [
              "    YearsExperience    Salary  PredictedSalary\n",
              "0               1.1   39343.0     36187.158752\n",
              "1               1.3   46205.0     38077.151217\n",
              "2               1.5   37731.0     39967.143681\n",
              "3               2.0   43525.0     44692.124842\n",
              "4               2.2   39891.0     46582.117306\n",
              "5               2.9   56642.0     53197.090931\n",
              "6               3.0   60150.0     54142.087163\n",
              "7               3.2   54445.0     56032.079627\n",
              "8               3.2   64445.0     56032.079627\n",
              "9               3.7   57189.0     60757.060788\n",
              "10              3.9   63218.0     62647.053252\n",
              "11              4.0   55794.0     63592.049484\n",
              "12              4.0   56957.0     63592.049484\n",
              "13              4.1   57081.0     64537.045717\n",
              "14              4.5   61111.0     68317.030645\n",
              "15              4.9   67938.0     72097.015574\n",
              "16              5.1   66029.0     73987.008038\n",
              "17              5.3   83088.0     75877.000502\n",
              "18              5.9   81363.0     81546.977895\n",
              "19              6.0   93940.0     82491.974127\n",
              "20              6.8   91738.0     90051.943985\n",
              "21              7.1   98273.0     92886.932681\n",
              "22              7.9  101302.0    100446.902538\n",
              "23              8.2  113812.0    103281.891235\n",
              "24              8.7  109431.0    108006.872395\n",
              "25              9.0  105582.0    110841.861092\n",
              "26              9.5  116969.0    115566.842252\n",
              "27              9.6  112635.0    116511.838485\n",
              "28             10.3  122391.0    123126.812110\n",
              "29             10.5  121872.0    125016.804574"
            ],
            "text/html": [
              "\n",
              "  <div id=\"df-410aec5c-676f-452b-b32d-3cf7b228282c\">\n",
              "    <div class=\"colab-df-container\">\n",
              "      <div>\n",
              "<style scoped>\n",
              "    .dataframe tbody tr th:only-of-type {\n",
              "        vertical-align: middle;\n",
              "    }\n",
              "\n",
              "    .dataframe tbody tr th {\n",
              "        vertical-align: top;\n",
              "    }\n",
              "\n",
              "    .dataframe thead th {\n",
              "        text-align: right;\n",
              "    }\n",
              "</style>\n",
              "<table border=\"1\" class=\"dataframe\">\n",
              "  <thead>\n",
              "    <tr style=\"text-align: right;\">\n",
              "      <th></th>\n",
              "      <th>YearsExperience</th>\n",
              "      <th>Salary</th>\n",
              "      <th>PredictedSalary</th>\n",
              "    </tr>\n",
              "  </thead>\n",
              "  <tbody>\n",
              "    <tr>\n",
              "      <th>0</th>\n",
              "      <td>1.1</td>\n",
              "      <td>39343.0</td>\n",
              "      <td>36187.158752</td>\n",
              "    </tr>\n",
              "    <tr>\n",
              "      <th>1</th>\n",
              "      <td>1.3</td>\n",
              "      <td>46205.0</td>\n",
              "      <td>38077.151217</td>\n",
              "    </tr>\n",
              "    <tr>\n",
              "      <th>2</th>\n",
              "      <td>1.5</td>\n",
              "      <td>37731.0</td>\n",
              "      <td>39967.143681</td>\n",
              "    </tr>\n",
              "    <tr>\n",
              "      <th>3</th>\n",
              "      <td>2.0</td>\n",
              "      <td>43525.0</td>\n",
              "      <td>44692.124842</td>\n",
              "    </tr>\n",
              "    <tr>\n",
              "      <th>4</th>\n",
              "      <td>2.2</td>\n",
              "      <td>39891.0</td>\n",
              "      <td>46582.117306</td>\n",
              "    </tr>\n",
              "    <tr>\n",
              "      <th>5</th>\n",
              "      <td>2.9</td>\n",
              "      <td>56642.0</td>\n",
              "      <td>53197.090931</td>\n",
              "    </tr>\n",
              "    <tr>\n",
              "      <th>6</th>\n",
              "      <td>3.0</td>\n",
              "      <td>60150.0</td>\n",
              "      <td>54142.087163</td>\n",
              "    </tr>\n",
              "    <tr>\n",
              "      <th>7</th>\n",
              "      <td>3.2</td>\n",
              "      <td>54445.0</td>\n",
              "      <td>56032.079627</td>\n",
              "    </tr>\n",
              "    <tr>\n",
              "      <th>8</th>\n",
              "      <td>3.2</td>\n",
              "      <td>64445.0</td>\n",
              "      <td>56032.079627</td>\n",
              "    </tr>\n",
              "    <tr>\n",
              "      <th>9</th>\n",
              "      <td>3.7</td>\n",
              "      <td>57189.0</td>\n",
              "      <td>60757.060788</td>\n",
              "    </tr>\n",
              "    <tr>\n",
              "      <th>10</th>\n",
              "      <td>3.9</td>\n",
              "      <td>63218.0</td>\n",
              "      <td>62647.053252</td>\n",
              "    </tr>\n",
              "    <tr>\n",
              "      <th>11</th>\n",
              "      <td>4.0</td>\n",
              "      <td>55794.0</td>\n",
              "      <td>63592.049484</td>\n",
              "    </tr>\n",
              "    <tr>\n",
              "      <th>12</th>\n",
              "      <td>4.0</td>\n",
              "      <td>56957.0</td>\n",
              "      <td>63592.049484</td>\n",
              "    </tr>\n",
              "    <tr>\n",
              "      <th>13</th>\n",
              "      <td>4.1</td>\n",
              "      <td>57081.0</td>\n",
              "      <td>64537.045717</td>\n",
              "    </tr>\n",
              "    <tr>\n",
              "      <th>14</th>\n",
              "      <td>4.5</td>\n",
              "      <td>61111.0</td>\n",
              "      <td>68317.030645</td>\n",
              "    </tr>\n",
              "    <tr>\n",
              "      <th>15</th>\n",
              "      <td>4.9</td>\n",
              "      <td>67938.0</td>\n",
              "      <td>72097.015574</td>\n",
              "    </tr>\n",
              "    <tr>\n",
              "      <th>16</th>\n",
              "      <td>5.1</td>\n",
              "      <td>66029.0</td>\n",
              "      <td>73987.008038</td>\n",
              "    </tr>\n",
              "    <tr>\n",
              "      <th>17</th>\n",
              "      <td>5.3</td>\n",
              "      <td>83088.0</td>\n",
              "      <td>75877.000502</td>\n",
              "    </tr>\n",
              "    <tr>\n",
              "      <th>18</th>\n",
              "      <td>5.9</td>\n",
              "      <td>81363.0</td>\n",
              "      <td>81546.977895</td>\n",
              "    </tr>\n",
              "    <tr>\n",
              "      <th>19</th>\n",
              "      <td>6.0</td>\n",
              "      <td>93940.0</td>\n",
              "      <td>82491.974127</td>\n",
              "    </tr>\n",
              "    <tr>\n",
              "      <th>20</th>\n",
              "      <td>6.8</td>\n",
              "      <td>91738.0</td>\n",
              "      <td>90051.943985</td>\n",
              "    </tr>\n",
              "    <tr>\n",
              "      <th>21</th>\n",
              "      <td>7.1</td>\n",
              "      <td>98273.0</td>\n",
              "      <td>92886.932681</td>\n",
              "    </tr>\n",
              "    <tr>\n",
              "      <th>22</th>\n",
              "      <td>7.9</td>\n",
              "      <td>101302.0</td>\n",
              "      <td>100446.902538</td>\n",
              "    </tr>\n",
              "    <tr>\n",
              "      <th>23</th>\n",
              "      <td>8.2</td>\n",
              "      <td>113812.0</td>\n",
              "      <td>103281.891235</td>\n",
              "    </tr>\n",
              "    <tr>\n",
              "      <th>24</th>\n",
              "      <td>8.7</td>\n",
              "      <td>109431.0</td>\n",
              "      <td>108006.872395</td>\n",
              "    </tr>\n",
              "    <tr>\n",
              "      <th>25</th>\n",
              "      <td>9.0</td>\n",
              "      <td>105582.0</td>\n",
              "      <td>110841.861092</td>\n",
              "    </tr>\n",
              "    <tr>\n",
              "      <th>26</th>\n",
              "      <td>9.5</td>\n",
              "      <td>116969.0</td>\n",
              "      <td>115566.842252</td>\n",
              "    </tr>\n",
              "    <tr>\n",
              "      <th>27</th>\n",
              "      <td>9.6</td>\n",
              "      <td>112635.0</td>\n",
              "      <td>116511.838485</td>\n",
              "    </tr>\n",
              "    <tr>\n",
              "      <th>28</th>\n",
              "      <td>10.3</td>\n",
              "      <td>122391.0</td>\n",
              "      <td>123126.812110</td>\n",
              "    </tr>\n",
              "    <tr>\n",
              "      <th>29</th>\n",
              "      <td>10.5</td>\n",
              "      <td>121872.0</td>\n",
              "      <td>125016.804574</td>\n",
              "    </tr>\n",
              "  </tbody>\n",
              "</table>\n",
              "</div>\n",
              "      <button class=\"colab-df-convert\" onclick=\"convertToInteractive('df-410aec5c-676f-452b-b32d-3cf7b228282c')\"\n",
              "              title=\"Convert this dataframe to an interactive table.\"\n",
              "              style=\"display:none;\">\n",
              "        \n",
              "  <svg xmlns=\"http://www.w3.org/2000/svg\" height=\"24px\"viewBox=\"0 0 24 24\"\n",
              "       width=\"24px\">\n",
              "    <path d=\"M0 0h24v24H0V0z\" fill=\"none\"/>\n",
              "    <path d=\"M18.56 5.44l.94 2.06.94-2.06 2.06-.94-2.06-.94-.94-2.06-.94 2.06-2.06.94zm-11 1L8.5 8.5l.94-2.06 2.06-.94-2.06-.94L8.5 2.5l-.94 2.06-2.06.94zm10 10l.94 2.06.94-2.06 2.06-.94-2.06-.94-.94-2.06-.94 2.06-2.06.94z\"/><path d=\"M17.41 7.96l-1.37-1.37c-.4-.4-.92-.59-1.43-.59-.52 0-1.04.2-1.43.59L10.3 9.45l-7.72 7.72c-.78.78-.78 2.05 0 2.83L4 21.41c.39.39.9.59 1.41.59.51 0 1.02-.2 1.41-.59l7.78-7.78 2.81-2.81c.8-.78.8-2.07 0-2.86zM5.41 20L4 18.59l7.72-7.72 1.47 1.35L5.41 20z\"/>\n",
              "  </svg>\n",
              "      </button>\n",
              "      \n",
              "  <style>\n",
              "    .colab-df-container {\n",
              "      display:flex;\n",
              "      flex-wrap:wrap;\n",
              "      gap: 12px;\n",
              "    }\n",
              "\n",
              "    .colab-df-convert {\n",
              "      background-color: #E8F0FE;\n",
              "      border: none;\n",
              "      border-radius: 50%;\n",
              "      cursor: pointer;\n",
              "      display: none;\n",
              "      fill: #1967D2;\n",
              "      height: 32px;\n",
              "      padding: 0 0 0 0;\n",
              "      width: 32px;\n",
              "    }\n",
              "\n",
              "    .colab-df-convert:hover {\n",
              "      background-color: #E2EBFA;\n",
              "      box-shadow: 0px 1px 2px rgba(60, 64, 67, 0.3), 0px 1px 3px 1px rgba(60, 64, 67, 0.15);\n",
              "      fill: #174EA6;\n",
              "    }\n",
              "\n",
              "    [theme=dark] .colab-df-convert {\n",
              "      background-color: #3B4455;\n",
              "      fill: #D2E3FC;\n",
              "    }\n",
              "\n",
              "    [theme=dark] .colab-df-convert:hover {\n",
              "      background-color: #434B5C;\n",
              "      box-shadow: 0px 1px 3px 1px rgba(0, 0, 0, 0.15);\n",
              "      filter: drop-shadow(0px 1px 2px rgba(0, 0, 0, 0.3));\n",
              "      fill: #FFFFFF;\n",
              "    }\n",
              "  </style>\n",
              "\n",
              "      <script>\n",
              "        const buttonEl =\n",
              "          document.querySelector('#df-410aec5c-676f-452b-b32d-3cf7b228282c button.colab-df-convert');\n",
              "        buttonEl.style.display =\n",
              "          google.colab.kernel.accessAllowed ? 'block' : 'none';\n",
              "\n",
              "        async function convertToInteractive(key) {\n",
              "          const element = document.querySelector('#df-410aec5c-676f-452b-b32d-3cf7b228282c');\n",
              "          const dataTable =\n",
              "            await google.colab.kernel.invokeFunction('convertToInteractive',\n",
              "                                                     [key], {});\n",
              "          if (!dataTable) return;\n",
              "\n",
              "          const docLinkHtml = 'Like what you see? Visit the ' +\n",
              "            '<a target=\"_blank\" href=https://colab.research.google.com/notebooks/data_table.ipynb>data table notebook</a>'\n",
              "            + ' to learn more about interactive tables.';\n",
              "          element.innerHTML = '';\n",
              "          dataTable['output_type'] = 'display_data';\n",
              "          await google.colab.output.renderOutput(dataTable, element);\n",
              "          const docLink = document.createElement('div');\n",
              "          docLink.innerHTML = docLinkHtml;\n",
              "          element.appendChild(docLink);\n",
              "        }\n",
              "      </script>\n",
              "    </div>\n",
              "  </div>\n",
              "  "
            ]
          },
          "metadata": {},
          "execution_count": 23
        }
      ]
    },
    {
      "cell_type": "code",
      "source": [
        "value = np.array([30.5, 21, 14, -40.3]).reshape(-1,1)\n",
        "y_pred_value = model.predict(value)\n",
        "print(\"prediction for years=\", value[0][0], \"is salary=\", y_pred_value)"
      ],
      "metadata": {
        "colab": {
          "base_uri": "https://localhost:8080/"
        },
        "id": "kG63I2R9D5w_",
        "outputId": "1760e26e-f2f8-4023-f6dd-6c709bd521d8"
      },
      "execution_count": null,
      "outputs": [
        {
          "output_type": "stream",
          "name": "stdout",
          "text": [
            "prediction for years= 30.5 is salary= [ 314016.05100305  224241.40894923  158091.67269904 -355041.28135597]\n"
          ]
        }
      ]
    },
    {
      "cell_type": "code",
      "source": [
        "#predicted_salary = pd.Series(data = pred,name='PredictedSalary')\n",
        "\n",
        "data['PredictedSalary'] = y_pred\n",
        "data.head()"
      ],
      "metadata": {
        "colab": {
          "base_uri": "https://localhost:8080/",
          "height": 206
        },
        "id": "p5-lIMJMG-1J",
        "outputId": "31b985f4-005f-4c84-abba-00beadaf4bc2"
      },
      "execution_count": null,
      "outputs": [
        {
          "output_type": "execute_result",
          "data": {
            "text/plain": [
              "   YearsExperience   Salary  PredictedSalary\n",
              "0              1.1  39343.0     36187.158752\n",
              "1              1.3  46205.0     38077.151217\n",
              "2              1.5  37731.0     39967.143681\n",
              "3              2.0  43525.0     44692.124842\n",
              "4              2.2  39891.0     46582.117306"
            ],
            "text/html": [
              "\n",
              "  <div id=\"df-8662d955-f690-495a-b88e-1922151c6ce3\">\n",
              "    <div class=\"colab-df-container\">\n",
              "      <div>\n",
              "<style scoped>\n",
              "    .dataframe tbody tr th:only-of-type {\n",
              "        vertical-align: middle;\n",
              "    }\n",
              "\n",
              "    .dataframe tbody tr th {\n",
              "        vertical-align: top;\n",
              "    }\n",
              "\n",
              "    .dataframe thead th {\n",
              "        text-align: right;\n",
              "    }\n",
              "</style>\n",
              "<table border=\"1\" class=\"dataframe\">\n",
              "  <thead>\n",
              "    <tr style=\"text-align: right;\">\n",
              "      <th></th>\n",
              "      <th>YearsExperience</th>\n",
              "      <th>Salary</th>\n",
              "      <th>PredictedSalary</th>\n",
              "    </tr>\n",
              "  </thead>\n",
              "  <tbody>\n",
              "    <tr>\n",
              "      <th>0</th>\n",
              "      <td>1.1</td>\n",
              "      <td>39343.0</td>\n",
              "      <td>36187.158752</td>\n",
              "    </tr>\n",
              "    <tr>\n",
              "      <th>1</th>\n",
              "      <td>1.3</td>\n",
              "      <td>46205.0</td>\n",
              "      <td>38077.151217</td>\n",
              "    </tr>\n",
              "    <tr>\n",
              "      <th>2</th>\n",
              "      <td>1.5</td>\n",
              "      <td>37731.0</td>\n",
              "      <td>39967.143681</td>\n",
              "    </tr>\n",
              "    <tr>\n",
              "      <th>3</th>\n",
              "      <td>2.0</td>\n",
              "      <td>43525.0</td>\n",
              "      <td>44692.124842</td>\n",
              "    </tr>\n",
              "    <tr>\n",
              "      <th>4</th>\n",
              "      <td>2.2</td>\n",
              "      <td>39891.0</td>\n",
              "      <td>46582.117306</td>\n",
              "    </tr>\n",
              "  </tbody>\n",
              "</table>\n",
              "</div>\n",
              "      <button class=\"colab-df-convert\" onclick=\"convertToInteractive('df-8662d955-f690-495a-b88e-1922151c6ce3')\"\n",
              "              title=\"Convert this dataframe to an interactive table.\"\n",
              "              style=\"display:none;\">\n",
              "        \n",
              "  <svg xmlns=\"http://www.w3.org/2000/svg\" height=\"24px\"viewBox=\"0 0 24 24\"\n",
              "       width=\"24px\">\n",
              "    <path d=\"M0 0h24v24H0V0z\" fill=\"none\"/>\n",
              "    <path d=\"M18.56 5.44l.94 2.06.94-2.06 2.06-.94-2.06-.94-.94-2.06-.94 2.06-2.06.94zm-11 1L8.5 8.5l.94-2.06 2.06-.94-2.06-.94L8.5 2.5l-.94 2.06-2.06.94zm10 10l.94 2.06.94-2.06 2.06-.94-2.06-.94-.94-2.06-.94 2.06-2.06.94z\"/><path d=\"M17.41 7.96l-1.37-1.37c-.4-.4-.92-.59-1.43-.59-.52 0-1.04.2-1.43.59L10.3 9.45l-7.72 7.72c-.78.78-.78 2.05 0 2.83L4 21.41c.39.39.9.59 1.41.59.51 0 1.02-.2 1.41-.59l7.78-7.78 2.81-2.81c.8-.78.8-2.07 0-2.86zM5.41 20L4 18.59l7.72-7.72 1.47 1.35L5.41 20z\"/>\n",
              "  </svg>\n",
              "      </button>\n",
              "      \n",
              "  <style>\n",
              "    .colab-df-container {\n",
              "      display:flex;\n",
              "      flex-wrap:wrap;\n",
              "      gap: 12px;\n",
              "    }\n",
              "\n",
              "    .colab-df-convert {\n",
              "      background-color: #E8F0FE;\n",
              "      border: none;\n",
              "      border-radius: 50%;\n",
              "      cursor: pointer;\n",
              "      display: none;\n",
              "      fill: #1967D2;\n",
              "      height: 32px;\n",
              "      padding: 0 0 0 0;\n",
              "      width: 32px;\n",
              "    }\n",
              "\n",
              "    .colab-df-convert:hover {\n",
              "      background-color: #E2EBFA;\n",
              "      box-shadow: 0px 1px 2px rgba(60, 64, 67, 0.3), 0px 1px 3px 1px rgba(60, 64, 67, 0.15);\n",
              "      fill: #174EA6;\n",
              "    }\n",
              "\n",
              "    [theme=dark] .colab-df-convert {\n",
              "      background-color: #3B4455;\n",
              "      fill: #D2E3FC;\n",
              "    }\n",
              "\n",
              "    [theme=dark] .colab-df-convert:hover {\n",
              "      background-color: #434B5C;\n",
              "      box-shadow: 0px 1px 3px 1px rgba(0, 0, 0, 0.15);\n",
              "      filter: drop-shadow(0px 1px 2px rgba(0, 0, 0, 0.3));\n",
              "      fill: #FFFFFF;\n",
              "    }\n",
              "  </style>\n",
              "\n",
              "      <script>\n",
              "        const buttonEl =\n",
              "          document.querySelector('#df-8662d955-f690-495a-b88e-1922151c6ce3 button.colab-df-convert');\n",
              "        buttonEl.style.display =\n",
              "          google.colab.kernel.accessAllowed ? 'block' : 'none';\n",
              "\n",
              "        async function convertToInteractive(key) {\n",
              "          const element = document.querySelector('#df-8662d955-f690-495a-b88e-1922151c6ce3');\n",
              "          const dataTable =\n",
              "            await google.colab.kernel.invokeFunction('convertToInteractive',\n",
              "                                                     [key], {});\n",
              "          if (!dataTable) return;\n",
              "\n",
              "          const docLinkHtml = 'Like what you see? Visit the ' +\n",
              "            '<a target=\"_blank\" href=https://colab.research.google.com/notebooks/data_table.ipynb>data table notebook</a>'\n",
              "            + ' to learn more about interactive tables.';\n",
              "          element.innerHTML = '';\n",
              "          dataTable['output_type'] = 'display_data';\n",
              "          await google.colab.output.renderOutput(dataTable, element);\n",
              "          const docLink = document.createElement('div');\n",
              "          docLink.innerHTML = docLinkHtml;\n",
              "          element.appendChild(docLink);\n",
              "        }\n",
              "      </script>\n",
              "    </div>\n",
              "  </div>\n",
              "  "
            ]
          },
          "metadata": {},
          "execution_count": 25
        }
      ]
    },
    {
      "cell_type": "code",
      "source": [
        "plot(data['YearsExperience'], data['Salary'], data['PredictedSalary'])"
      ],
      "metadata": {
        "colab": {
          "base_uri": "https://localhost:8080/",
          "height": 430
        },
        "id": "iYdZzlCTGryL",
        "outputId": "adcf5aa6-5deb-445f-a717-95145f00e10c"
      },
      "execution_count": null,
      "outputs": [
        {
          "output_type": "display_data",
          "data": {
            "text/plain": [
              "<Figure size 640x480 with 1 Axes>"
            ],
            "image/png": "[encoded data removed]"
          },
          "metadata": {}
        }
      ]
    },
    {
      "cell_type": "code",
      "source": [
        "print(\"R2=\", r2_score(data[\"Salary\"], y_pred))\n",
        "mse = mean_squared_error(data[\"Salary\"], y_pred)\n",
        "rmse = np.sqrt(mse)\n",
        "print(\"RMSE=\", rmse)"
      ],
      "metadata": {
        "colab": {
          "base_uri": "https://localhost:8080/"
        },
        "id": "_SquS2f4Hf-N",
        "outputId": "aaab8c37-d3c8-41d2-c7e7-6ef666badefd"
      },
      "execution_count": null,
      "outputs": [
        {
          "output_type": "stream",
          "name": "stdout",
          "text": [
            "R2= 0.9569566641435086\n",
            "RMSE= 5592.043608760661\n"
          ]
        }
      ]
    },
    {
      "cell_type": "code",
      "source": [
        "model.predict(np.array([2.1]).reshape(-1,1)) # Prediction for a single value (YearsOfExperience) - Interpolation"
      ],
      "metadata": {
        "colab": {
          "base_uri": "https://localhost:8080/"
        },
        "id": "MGDVfTjo_GG7",
        "outputId": "916f65d6-62ad-4196-c809-4ff7dcaac9e9"
      },
      "execution_count": null,
      "outputs": [
        {
          "output_type": "execute_result",
          "data": {
            "text/plain": [
              "array([45637.12107372])"
            ]
          },
          "metadata": {},
          "execution_count": 28
        }
      ]
    },
    {
      "cell_type": "code",
      "source": [
        "model.predict(np.array([0.5]).reshape(-1,1)) # Prediction for a single value (YearsOfExperience) - Extrapolation"
      ],
      "metadata": {
        "colab": {
          "base_uri": "https://localhost:8080/"
        },
        "id": "Pw_Mb4xk_weQ",
        "outputId": "763e3aa8-c82d-4b7e-d8fe-0b93a0c32f36"
      },
      "execution_count": null,
      "outputs": [
        {
          "output_type": "execute_result",
          "data": {
            "text/plain": [
              "array([30517.1813594])"
            ]
          },
          "metadata": {},
          "execution_count": 29
        }
      ]
    },
    {
      "cell_type": "code",
      "source": [
        "# Queremos ver la distribucion de los errores residuales\n",
        "# Nota: En este ejemplo NO vamos a tener division entre train y test sets\n",
        "from yellowbrick.regressor import ResidualsPlot\n",
        "visualizer = ResidualsPlot(model)\n",
        "\n",
        "visualizer.fit(x, y) # Fit the training data to the visualizer\n",
        "visualizer.score(x, y_pred) # Evaluate the model on the test data\n",
        "visualizer.show() # Finalize and render the figure\n",
        "plt.show()"
      ],
      "metadata": {
        "colab": {
          "base_uri": "https://localhost:8080/",
          "height": 524
        },
        "id": "nPv3bFTIYVJX",
        "outputId": "3f1360b5-98ba-4f87-b2f2-60c11327cb0d"
      },
      "execution_count": null,
      "outputs": [
        {
          "output_type": "display_data",
          "data": {
            "text/plain": [
              "<Figure size 800x550 with 2 Axes>"
            ],
            "image/png": "[encoded data removed]"
          },
          "metadata": {}
        }
      ]
    },
    {
      "cell_type": "code",
      "source": [
        "# Podemos hacer también un plot manual de los residuos\n",
        "residuals = data['Salary'] - y_pred\n",
        "\n",
        "plt.scatter(y=residuals, x=data['YearsExperience'])\n",
        "plt.ylabel('Residuos')\n",
        "plt.xlabel('Variable independiente (Salary)')\n",
        "plt.show()"
      ],
      "metadata": {
        "colab": {
          "base_uri": "https://localhost:8080/",
          "height": 503
        },
        "id": "knHRCacmp5CU",
        "outputId": "d1e5c071-b430-4870-8627-d5c4961ee3e7"
      },
      "execution_count": null,
      "outputs": [
        {
          "output_type": "display_data",
          "data": {
            "text/plain": [
              "<Figure size 800x550 with 1 Axes>"
            ],
            "image/png": "[encoded data removed]"
          },
          "metadata": {}
        }
      ]
    },
    {
      "cell_type": "code",
      "source": [
        "# Distribucion de los residuos\n",
        "sns.histplot(residuals, bins=15, kde=True)\n",
        "plt.xlabel('Residuos')\n",
        "mean = residuals.mean()\n",
        "std = residuals.std()\n",
        "#print(mean, std)\n",
        "plt.axvline(x=mean,color='red', linestyle='-')\n",
        "plt.axvline(x=mean+std,color='red', linestyle='--')\n",
        "plt.axvline(x=mean-std,color='red', linestyle='--')\n",
        "plt.show()"
      ],
      "metadata": {
        "colab": {
          "base_uri": "https://localhost:8080/",
          "height": 503
        },
        "id": "giPuOUWyqXTI",
        "outputId": "a70df7f8-74d1-4fc9-d8cf-cc12cce4b83c"
      },
      "execution_count": null,
      "outputs": [
        {
          "output_type": "display_data",
          "data": {
            "text/plain": [
              "<Figure size 800x550 with 1 Axes>"
            ],
            "image/png": "[encoded data removed]"
          },
          "metadata": {}
        }
      ]
    },
    {
      "cell_type": "markdown",
      "source": [
        "---\n",
        "## **Ejercicio: Regresion con otro dataset (TODO)**"
      ],
      "metadata": {
        "id": "MYi5Tmu3gkBF"
      }
    },
    {
      "cell_type": "code",
      "source": [
        "import gdown\n",
        "\n",
        "url = \"https://raw.githubusercontent.com/BabesGotByte/DATA-MINING-Algorithms/main/ex1data1.txt\"\n",
        "gdown.download(url, 'population_profits.csv', quiet=False)"
      ],
      "metadata": {
        "colab": {
          "base_uri": "https://localhost:8080/",
          "height": 108
        },
        "id": "dUOa3_ahZYWZ",
        "outputId": "db799656-3208-4cd5-e8f2-ed7ccd5681f2"
      },
      "execution_count": null,
      "outputs": [
        {
          "output_type": "stream",
          "name": "stderr",
          "text": [
            "Downloading...\n",
            "From: https://raw.githubusercontent.com/BabesGotByte/DATA-MINING-Algorithms/main/ex1data1.txt\n",
            "To: /content/population_profits.csv\n",
            "1.36kB [00:00, 4.68MB/s]                 \n"
          ]
        },
        {
          "output_type": "execute_result",
          "data": {
            "text/plain": [
              "'population_profits.csv'"
            ],
            "application/vnd.google.colaboratory.intrinsic+json": {
              "type": "string"
            }
          },
          "metadata": {},
          "execution_count": 33
        }
      ]
    },
    {
      "cell_type": "code",
      "source": [
        "data = pd.read_csv(\"population_profits.csv\", header=None, names=['population', 'profit'])\n",
        "print(data.shape)\n",
        "data.head(10)"
      ],
      "metadata": {
        "colab": {
          "base_uri": "https://localhost:8080/",
          "height": 381
        },
        "id": "be6gWCHlt76L",
        "outputId": "6e4490f3-8d76-49c5-dda8-b07263ebc880"
      },
      "execution_count": null,
      "outputs": [
        {
          "output_type": "stream",
          "name": "stdout",
          "text": [
            "(97, 2)\n"
          ]
        },
        {
          "output_type": "execute_result",
          "data": {
            "text/plain": [
              "   population   profit\n",
              "0      6.1101  17.5920\n",
              "1      5.5277   9.1302\n",
              "2      8.5186  13.6620\n",
              "3      7.0032  11.8540\n",
              "4      5.8598   6.8233\n",
              "5      8.3829  11.8860\n",
              "6      7.4764   4.3483\n",
              "7      8.5781  12.0000\n",
              "8      6.4862   6.5987\n",
              "9      5.0546   3.8166"
            ],
            "text/html": [
              "\n",
              "  <div id=\"df-8b6d6d24-e941-4aff-bd03-da11433e2c47\">\n",
              "    <div class=\"colab-df-container\">\n",
              "      <div>\n",
              "<style scoped>\n",
              "    .dataframe tbody tr th:only-of-type {\n",
              "        vertical-align: middle;\n",
              "    }\n",
              "\n",
              "    .dataframe tbody tr th {\n",
              "        vertical-align: top;\n",
              "    }\n",
              "\n",
              "    .dataframe thead th {\n",
              "        text-align: right;\n",
              "    }\n",
              "</style>\n",
              "<table border=\"1\" class=\"dataframe\">\n",
              "  <thead>\n",
              "    <tr style=\"text-align: right;\">\n",
              "      <th></th>\n",
              "      <th>population</th>\n",
              "      <th>profit</th>\n",
              "    </tr>\n",
              "  </thead>\n",
              "  <tbody>\n",
              "    <tr>\n",
              "      <th>0</th>\n",
              "      <td>6.1101</td>\n",
              "      <td>17.5920</td>\n",
              "    </tr>\n",
              "    <tr>\n",
              "      <th>1</th>\n",
              "      <td>5.5277</td>\n",
              "      <td>9.1302</td>\n",
              "    </tr>\n",
              "    <tr>\n",
              "      <th>2</th>\n",
              "      <td>8.5186</td>\n",
              "      <td>13.6620</td>\n",
              "    </tr>\n",
              "    <tr>\n",
              "      <th>3</th>\n",
              "      <td>7.0032</td>\n",
              "      <td>11.8540</td>\n",
              "    </tr>\n",
              "    <tr>\n",
              "      <th>4</th>\n",
              "      <td>5.8598</td>\n",
              "      <td>6.8233</td>\n",
              "    </tr>\n",
              "    <tr>\n",
              "      <th>5</th>\n",
              "      <td>8.3829</td>\n",
              "      <td>11.8860</td>\n",
              "    </tr>\n",
              "    <tr>\n",
              "      <th>6</th>\n",
              "      <td>7.4764</td>\n",
              "      <td>4.3483</td>\n",
              "    </tr>\n",
              "    <tr>\n",
              "      <th>7</th>\n",
              "      <td>8.5781</td>\n",
              "      <td>12.0000</td>\n",
              "    </tr>\n",
              "    <tr>\n",
              "      <th>8</th>\n",
              "      <td>6.4862</td>\n",
              "      <td>6.5987</td>\n",
              "    </tr>\n",
              "    <tr>\n",
              "      <th>9</th>\n",
              "      <td>5.0546</td>\n",
              "      <td>3.8166</td>\n",
              "    </tr>\n",
              "  </tbody>\n",
              "</table>\n",
              "</div>\n",
              "      <button class=\"colab-df-convert\" onclick=\"convertToInteractive('df-8b6d6d24-e941-4aff-bd03-da11433e2c47')\"\n",
              "              title=\"Convert this dataframe to an interactive table.\"\n",
              "              style=\"display:none;\">\n",
              "        \n",
              "  <svg xmlns=\"http://www.w3.org/2000/svg\" height=\"24px\"viewBox=\"0 0 24 24\"\n",
              "       width=\"24px\">\n",
              "    <path d=\"M0 0h24v24H0V0z\" fill=\"none\"/>\n",
              "    <path d=\"M18.56 5.44l.94 2.06.94-2.06 2.06-.94-2.06-.94-.94-2.06-.94 2.06-2.06.94zm-11 1L8.5 8.5l.94-2.06 2.06-.94-2.06-.94L8.5 2.5l-.94 2.06-2.06.94zm10 10l.94 2.06.94-2.06 2.06-.94-2.06-.94-.94-2.06-.94 2.06-2.06.94z\"/><path d=\"M17.41 7.96l-1.37-1.37c-.4-.4-.92-.59-1.43-.59-.52 0-1.04.2-1.43.59L10.3 9.45l-7.72 7.72c-.78.78-.78 2.05 0 2.83L4 21.41c.39.39.9.59 1.41.59.51 0 1.02-.2 1.41-.59l7.78-7.78 2.81-2.81c.8-.78.8-2.07 0-2.86zM5.41 20L4 18.59l7.72-7.72 1.47 1.35L5.41 20z\"/>\n",
              "  </svg>\n",
              "      </button>\n",
              "      \n",
              "  <style>\n",
              "    .colab-df-container {\n",
              "      display:flex;\n",
              "      flex-wrap:wrap;\n",
              "      gap: 12px;\n",
              "    }\n",
              "\n",
              "    .colab-df-convert {\n",
              "      background-color: #E8F0FE;\n",
              "      border: none;\n",
              "      border-radius: 50%;\n",
              "      cursor: pointer;\n",
              "      display: none;\n",
              "      fill: #1967D2;\n",
              "      height: 32px;\n",
              "      padding: 0 0 0 0;\n",
              "      width: 32px;\n",
              "    }\n",
              "\n",
              "    .colab-df-convert:hover {\n",
              "      background-color: #E2EBFA;\n",
              "      box-shadow: 0px 1px 2px rgba(60, 64, 67, 0.3), 0px 1px 3px 1px rgba(60, 64, 67, 0.15);\n",
              "      fill: #174EA6;\n",
              "    }\n",
              "\n",
              "    [theme=dark] .colab-df-convert {\n",
              "      background-color: #3B4455;\n",
              "      fill: #D2E3FC;\n",
              "    }\n",
              "\n",
              "    [theme=dark] .colab-df-convert:hover {\n",
              "      background-color: #434B5C;\n",
              "      box-shadow: 0px 1px 3px 1px rgba(0, 0, 0, 0.15);\n",
              "      filter: drop-shadow(0px 1px 2px rgba(0, 0, 0, 0.3));\n",
              "      fill: #FFFFFF;\n",
              "    }\n",
              "  </style>\n",
              "\n",
              "      <script>\n",
              "        const buttonEl =\n",
              "          document.querySelector('#df-8b6d6d24-e941-4aff-bd03-da11433e2c47 button.colab-df-convert');\n",
              "        buttonEl.style.display =\n",
              "          google.colab.kernel.accessAllowed ? 'block' : 'none';\n",
              "\n",
              "        async function convertToInteractive(key) {\n",
              "          const element = document.querySelector('#df-8b6d6d24-e941-4aff-bd03-da11433e2c47');\n",
              "          const dataTable =\n",
              "            await google.colab.kernel.invokeFunction('convertToInteractive',\n",
              "                                                     [key], {});\n",
              "          if (!dataTable) return;\n",
              "\n",
              "          const docLinkHtml = 'Like what you see? Visit the ' +\n",
              "            '<a target=\"_blank\" href=https://colab.research.google.com/notebooks/data_table.ipynb>data table notebook</a>'\n",
              "            + ' to learn more about interactive tables.';\n",
              "          element.innerHTML = '';\n",
              "          dataTable['output_type'] = 'display_data';\n",
              "          await google.colab.output.renderOutput(dataTable, element);\n",
              "          const docLink = document.createElement('div');\n",
              "          docLink.innerHTML = docLinkHtml;\n",
              "          element.appendChild(docLink);\n",
              "        }\n",
              "      </script>\n",
              "    </div>\n",
              "  </div>\n",
              "  "
            ]
          },
          "metadata": {},
          "execution_count": 34
        }
      ]
    },
    {
      "cell_type": "code",
      "source": [
        "# TODO: Continuar con el procesamiento, la visualización, la predicción, y las métricas de performance\n",
        "# Para empezar, veamos un primer grafico de puntos (usando seaborn)\n",
        "sns.scatterplot(x=data['population'], y=data['profit'])\n",
        "plt.title(\"Profit en función de population\")\n",
        "plt.show()"
      ],
      "metadata": {
        "id": "RqZ2vdDZuaTG",
        "colab": {
          "base_uri": "https://localhost:8080/",
          "height": 524
        },
        "outputId": "4180db02-87af-4b68-e17f-cd772eee2e36"
      },
      "execution_count": null,
      "outputs": [
        {
          "output_type": "display_data",
          "data": {
            "text/plain": [
              "<Figure size 800x550 with 1 Axes>"
            ],
            "image/png": "[encoded data removed]"
          },
          "metadata": {}
        }
      ]
    },
    {
      "cell_type": "code",
      "source": [
        "data.corr() #if we got good correlation between x and y then we can go for model building"
      ],
      "metadata": {
        "id": "jUxrkiUrp9QK",
        "outputId": "7c42ad63-52a5-4387-ce3d-6654007abd08",
        "colab": {
          "base_uri": "https://localhost:8080/",
          "height": 112
        }
      },
      "execution_count": null,
      "outputs": [
        {
          "output_type": "execute_result",
          "data": {
            "text/plain": [
              "            population    profit\n",
              "population    1.000000  0.837873\n",
              "profit        0.837873  1.000000"
            ],
            "text/html": [
              "\n",
              "  <div id=\"df-20f3bb32-8020-45b7-92b7-4c2a807f81fb\">\n",
              "    <div class=\"colab-df-container\">\n",
              "      <div>\n",
              "<style scoped>\n",
              "    .dataframe tbody tr th:only-of-type {\n",
              "        vertical-align: middle;\n",
              "    }\n",
              "\n",
              "    .dataframe tbody tr th {\n",
              "        vertical-align: top;\n",
              "    }\n",
              "\n",
              "    .dataframe thead th {\n",
              "        text-align: right;\n",
              "    }\n",
              "</style>\n",
              "<table border=\"1\" class=\"dataframe\">\n",
              "  <thead>\n",
              "    <tr style=\"text-align: right;\">\n",
              "      <th></th>\n",
              "      <th>population</th>\n",
              "      <th>profit</th>\n",
              "    </tr>\n",
              "  </thead>\n",
              "  <tbody>\n",
              "    <tr>\n",
              "      <th>population</th>\n",
              "      <td>1.000000</td>\n",
              "      <td>0.837873</td>\n",
              "    </tr>\n",
              "    <tr>\n",
              "      <th>profit</th>\n",
              "      <td>0.837873</td>\n",
              "      <td>1.000000</td>\n",
              "    </tr>\n",
              "  </tbody>\n",
              "</table>\n",
              "</div>\n",
              "      <button class=\"colab-df-convert\" onclick=\"convertToInteractive('df-20f3bb32-8020-45b7-92b7-4c2a807f81fb')\"\n",
              "              title=\"Convert this dataframe to an interactive table.\"\n",
              "              style=\"display:none;\">\n",
              "        \n",
              "  <svg xmlns=\"http://www.w3.org/2000/svg\" height=\"24px\"viewBox=\"0 0 24 24\"\n",
              "       width=\"24px\">\n",
              "    <path d=\"M0 0h24v24H0V0z\" fill=\"none\"/>\n",
              "    <path d=\"M18.56 5.44l.94 2.06.94-2.06 2.06-.94-2.06-.94-.94-2.06-.94 2.06-2.06.94zm-11 1L8.5 8.5l.94-2.06 2.06-.94-2.06-.94L8.5 2.5l-.94 2.06-2.06.94zm10 10l.94 2.06.94-2.06 2.06-.94-2.06-.94-.94-2.06-.94 2.06-2.06.94z\"/><path d=\"M17.41 7.96l-1.37-1.37c-.4-.4-.92-.59-1.43-.59-.52 0-1.04.2-1.43.59L10.3 9.45l-7.72 7.72c-.78.78-.78 2.05 0 2.83L4 21.41c.39.39.9.59 1.41.59.51 0 1.02-.2 1.41-.59l7.78-7.78 2.81-2.81c.8-.78.8-2.07 0-2.86zM5.41 20L4 18.59l7.72-7.72 1.47 1.35L5.41 20z\"/>\n",
              "  </svg>\n",
              "      </button>\n",
              "      \n",
              "  <style>\n",
              "    .colab-df-container {\n",
              "      display:flex;\n",
              "      flex-wrap:wrap;\n",
              "      gap: 12px;\n",
              "    }\n",
              "\n",
              "    .colab-df-convert {\n",
              "      background-color: #E8F0FE;\n",
              "      border: none;\n",
              "      border-radius: 50%;\n",
              "      cursor: pointer;\n",
              "      display: none;\n",
              "      fill: #1967D2;\n",
              "      height: 32px;\n",
              "      padding: 0 0 0 0;\n",
              "      width: 32px;\n",
              "    }\n",
              "\n",
              "    .colab-df-convert:hover {\n",
              "      background-color: #E2EBFA;\n",
              "      box-shadow: 0px 1px 2px rgba(60, 64, 67, 0.3), 0px 1px 3px 1px rgba(60, 64, 67, 0.15);\n",
              "      fill: #174EA6;\n",
              "    }\n",
              "\n",
              "    [theme=dark] .colab-df-convert {\n",
              "      background-color: #3B4455;\n",
              "      fill: #D2E3FC;\n",
              "    }\n",
              "\n",
              "    [theme=dark] .colab-df-convert:hover {\n",
              "      background-color: #434B5C;\n",
              "      box-shadow: 0px 1px 3px 1px rgba(0, 0, 0, 0.15);\n",
              "      filter: drop-shadow(0px 1px 2px rgba(0, 0, 0, 0.3));\n",
              "      fill: #FFFFFF;\n",
              "    }\n",
              "  </style>\n",
              "\n",
              "      <script>\n",
              "        const buttonEl =\n",
              "          document.querySelector('#df-20f3bb32-8020-45b7-92b7-4c2a807f81fb button.colab-df-convert');\n",
              "        buttonEl.style.display =\n",
              "          google.colab.kernel.accessAllowed ? 'block' : 'none';\n",
              "\n",
              "        async function convertToInteractive(key) {\n",
              "          const element = document.querySelector('#df-20f3bb32-8020-45b7-92b7-4c2a807f81fb');\n",
              "          const dataTable =\n",
              "            await google.colab.kernel.invokeFunction('convertToInteractive',\n",
              "                                                     [key], {});\n",
              "          if (!dataTable) return;\n",
              "\n",
              "          const docLinkHtml = 'Like what you see? Visit the ' +\n",
              "            '<a target=\"_blank\" href=https://colab.research.google.com/notebooks/data_table.ipynb>data table notebook</a>'\n",
              "            + ' to learn more about interactive tables.';\n",
              "          element.innerHTML = '';\n",
              "          dataTable['output_type'] = 'display_data';\n",
              "          await google.colab.output.renderOutput(dataTable, element);\n",
              "          const docLink = document.createElement('div');\n",
              "          docLink.innerHTML = docLinkHtml;\n",
              "          element.appendChild(docLink);\n",
              "        }\n",
              "      </script>\n",
              "    </div>\n",
              "  </div>\n",
              "  "
            ]
          },
          "metadata": {},
          "execution_count": 36
        }
      ]
    },
    {
      "cell_type": "code",
      "source": [
        "# TODO: Aplicar un modelo de regresion lineal y evaluar los resultados"
      ],
      "metadata": {
        "id": "Pru2AVmAmB2p"
      },
      "execution_count": null,
      "outputs": []
    },
    {
      "cell_type": "markdown",
      "source": [
        "---"
      ],
      "metadata": {
        "id": "P3UXjcnogpFe"
      }
    },
    {
      "cell_type": "code",
      "source": [],
      "metadata": {
        "id": "aDY5IU05XCsS"
      },
      "execution_count": null,
      "outputs": []
    }
  ]
}