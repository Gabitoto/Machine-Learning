{
  "cells": [
    {
      "cell_type": "markdown",
      "metadata": {
        "id": "view-in-github",
        "colab_type": "text"
      },
      "source": [
        "<a href=\"https://colab.research.google.com/github/Gabitoto/Gabitoto/blob/main/Copia_de_Modelos_de_Clasificacion.ipynb\" target=\"_parent\"><img src=\"https://colab.research.google.com/assets/colab-badge.svg\" alt=\"Open In Colab\"/></a>"
      ]
    },
    {
      "cell_type": "markdown",
      "metadata": {
        "id": "0a228a7e"
      },
      "source": [
        "# Modelos de Clasificación con SciKit-Learn"
      ],
      "id": "0a228a7e"
    },
    {
      "cell_type": "code",
      "execution_count": 1,
      "metadata": {
        "id": "16ceb68a"
      },
      "outputs": [],
      "source": [
        "import numpy as np\n",
        "import pandas as pd\n",
        "import matplotlib as mlt\n",
        "import matplotlib.pyplot as plt\n",
        "%matplotlib inline\n",
        "import seaborn as sns"
      ],
      "id": "16ceb68a"
    },
    {
      "cell_type": "code",
      "execution_count": 2,
      "metadata": {
        "id": "eabef1a2"
      },
      "outputs": [],
      "source": [
        "from sklearn.model_selection import train_test_split\n",
        "from sklearn.preprocessing import StandardScaler\n",
        "from sklearn.linear_model import LogisticRegression\n",
        "from sklearn.metrics import accuracy_score, confusion_matrix, classification_report, recall_score, fbeta_score\n",
        "from sklearn.naive_bayes import GaussianNB\n",
        "from sklearn.tree import DecisionTreeClassifier\n",
        "from sklearn.ensemble import AdaBoostClassifier\n",
        "from sklearn.metrics import make_scorer\n",
        "from sklearn.model_selection import GridSearchCV"
      ],
      "id": "eabef1a2"
    },
    {
      "cell_type": "code",
      "source": [
        "from sklearn.metrics import f1_score"
      ],
      "metadata": {
        "id": "0JI0-HN3HsaW"
      },
      "id": "0JI0-HN3HsaW",
      "execution_count": 3,
      "outputs": []
    },
    {
      "cell_type": "markdown",
      "metadata": {
        "id": "1a023078"
      },
      "source": [
        "+ ## Descripción y Exploración del Dataset:"
      ],
      "id": "1a023078"
    },
    {
      "cell_type": "markdown",
      "metadata": {
        "id": "c7b5a626"
      },
      "source": [
        "El dataset cuenta con las siguientes variables:\n",
        "- ``age``: Edad.\n",
        "- ``male``: Género.\n",
        "- ``education``: 1 = Some High School; 2 = High School or GED; 3 = Some College or Vocational School; 4 = college\n",
        "- ``currentSmoker``: Si la persona fuma o no\n",
        "- ``cigsPerDay``: la cantidad de cigarrillos que la persona fuma por día en promedio.\n",
        "- ``BPMeds``: si la persona consume medicación para la presión sanguínea.\n",
        "- ``prevalentStroke``: Si la persona tuvo un infarto anteriormente.\n",
        "- ``prevalentHyp``: si la persona tiene hipertensión.\n",
        "- ``diabetes``: si la persona tuvo diabetes.\n",
        "- ``totChol``: nivel de colesterol total.\n",
        "- ``sysBP``: presión sanguínea sistólica.\n",
        "- ``diaBP``: presión sanguínea diastólica.\n",
        "- ``BMI``: índice de masa corporal.\n",
        "- ``heartRate``: frecuencia cardíaca.\n",
        "- ``glucose``: nivel de glucosa en sangre.\n",
        "- ``TenYearCHD``: si la persona está en riesgo de tener una enfermedad coronaria dentro de los próximos 10 años.\n",
        "\n",
        "Para obtener más información sobre las variables, buscar en https://www.kaggle.com/datasets/aasheesh200/framingham-heart-study-dataset"
      ],
      "id": "c7b5a626"
    },
    {
      "cell_type": "code",
      "execution_count": 4,
      "metadata": {
        "id": "qFRc3WSC67Y8"
      },
      "outputs": [],
      "source": [
        "from google.colab import files"
      ],
      "id": "qFRc3WSC67Y8"
    },
    {
      "cell_type": "code",
      "execution_count": 5,
      "metadata": {
        "colab": {
          "base_uri": "https://localhost:8080/",
          "height": 73
        },
        "id": "kYEtlpQ96-30",
        "outputId": "4527101c-73da-4618-f0ba-a97a0b625420"
      },
      "outputs": [
        {
          "output_type": "display_data",
          "data": {
            "text/plain": [
              "<IPython.core.display.HTML object>"
            ],
            "text/html": [
              "\n",
              "     <input type=\"file\" id=\"files-0a24fcd2-1911-4059-ab86-71fc16dede45\" name=\"files[]\" multiple disabled\n",
              "        style=\"border:none\" />\n",
              "     <output id=\"result-0a24fcd2-1911-4059-ab86-71fc16dede45\">\n",
              "      Upload widget is only available when the cell has been executed in the\n",
              "      current browser session. Please rerun this cell to enable.\n",
              "      </output>\n",
              "      <script>// Copyright 2017 Google LLC\n",
              "//\n",
              "// Licensed under the Apache License, Version 2.0 (the \"License\");\n",
              "// you may not use this file except in compliance with the License.\n",
              "// You may obtain a copy of the License at\n",
              "//\n",
              "//      http://www.apache.org/licenses/LICENSE-2.0\n",
              "//\n",
              "// Unless required by applicable law or agreed to in writing, software\n",
              "// distributed under the License is distributed on an \"AS IS\" BASIS,\n",
              "// WITHOUT WARRANTIES OR CONDITIONS OF ANY KIND, either express or implied.\n",
              "// See the License for the specific language governing permissions and\n",
              "// limitations under the License.\n",
              "\n",
              "/**\n",
              " * @fileoverview Helpers for google.colab Python module.\n",
              " */\n",
              "(function(scope) {\n",
              "function span(text, styleAttributes = {}) {\n",
              "  const element = document.createElement('span');\n",
              "  element.textContent = text;\n",
              "  for (const key of Object.keys(styleAttributes)) {\n",
              "    element.style[key] = styleAttributes[key];\n",
              "  }\n",
              "  return element;\n",
              "}\n",
              "\n",
              "// Max number of bytes which will be uploaded at a time.\n",
              "const MAX_PAYLOAD_SIZE = 100 * 1024;\n",
              "\n",
              "function _uploadFiles(inputId, outputId) {\n",
              "  const steps = uploadFilesStep(inputId, outputId);\n",
              "  const outputElement = document.getElementById(outputId);\n",
              "  // Cache steps on the outputElement to make it available for the next call\n",
              "  // to uploadFilesContinue from Python.\n",
              "  outputElement.steps = steps;\n",
              "\n",
              "  return _uploadFilesContinue(outputId);\n",
              "}\n",
              "\n",
              "// This is roughly an async generator (not supported in the browser yet),\n",
              "// where there are multiple asynchronous steps and the Python side is going\n",
              "// to poll for completion of each step.\n",
              "// This uses a Promise to block the python side on completion of each step,\n",
              "// then passes the result of the previous step as the input to the next step.\n",
              "function _uploadFilesContinue(outputId) {\n",
              "  const outputElement = document.getElementById(outputId);\n",
              "  const steps = outputElement.steps;\n",
              "\n",
              "  const next = steps.next(outputElement.lastPromiseValue);\n",
              "  return Promise.resolve(next.value.promise).then((value) => {\n",
              "    // Cache the last promise value to make it available to the next\n",
              "    // step of the generator.\n",
              "    outputElement.lastPromiseValue = value;\n",
              "    return next.value.response;\n",
              "  });\n",
              "}\n",
              "\n",
              "/**\n",
              " * Generator function which is called between each async step of the upload\n",
              " * process.\n",
              " * @param {string} inputId Element ID of the input file picker element.\n",
              " * @param {string} outputId Element ID of the output display.\n",
              " * @return {!Iterable<!Object>} Iterable of next steps.\n",
              " */\n",
              "function* uploadFilesStep(inputId, outputId) {\n",
              "  const inputElement = document.getElementById(inputId);\n",
              "  inputElement.disabled = false;\n",
              "\n",
              "  const outputElement = document.getElementById(outputId);\n",
              "  outputElement.innerHTML = '';\n",
              "\n",
              "  const pickedPromise = new Promise((resolve) => {\n",
              "    inputElement.addEventListener('change', (e) => {\n",
              "      resolve(e.target.files);\n",
              "    });\n",
              "  });\n",
              "\n",
              "  const cancel = document.createElement('button');\n",
              "  inputElement.parentElement.appendChild(cancel);\n",
              "  cancel.textContent = 'Cancel upload';\n",
              "  const cancelPromise = new Promise((resolve) => {\n",
              "    cancel.onclick = () => {\n",
              "      resolve(null);\n",
              "    };\n",
              "  });\n",
              "\n",
              "  // Wait for the user to pick the files.\n",
              "  const files = yield {\n",
              "    promise: Promise.race([pickedPromise, cancelPromise]),\n",
              "    response: {\n",
              "      action: 'starting',\n",
              "    }\n",
              "  };\n",
              "\n",
              "  cancel.remove();\n",
              "\n",
              "  // Disable the input element since further picks are not allowed.\n",
              "  inputElement.disabled = true;\n",
              "\n",
              "  if (!files) {\n",
              "    return {\n",
              "      response: {\n",
              "        action: 'complete',\n",
              "      }\n",
              "    };\n",
              "  }\n",
              "\n",
              "  for (const file of files) {\n",
              "    const li = document.createElement('li');\n",
              "    li.append(span(file.name, {fontWeight: 'bold'}));\n",
              "    li.append(span(\n",
              "        `(${file.type || 'n/a'}) - ${file.size} bytes, ` +\n",
              "        `last modified: ${\n",
              "            file.lastModifiedDate ? file.lastModifiedDate.toLocaleDateString() :\n",
              "                                    'n/a'} - `));\n",
              "    const percent = span('0% done');\n",
              "    li.appendChild(percent);\n",
              "\n",
              "    outputElement.appendChild(li);\n",
              "\n",
              "    const fileDataPromise = new Promise((resolve) => {\n",
              "      const reader = new FileReader();\n",
              "      reader.onload = (e) => {\n",
              "        resolve(e.target.result);\n",
              "      };\n",
              "      reader.readAsArrayBuffer(file);\n",
              "    });\n",
              "    // Wait for the data to be ready.\n",
              "    let fileData = yield {\n",
              "      promise: fileDataPromise,\n",
              "      response: {\n",
              "        action: 'continue',\n",
              "      }\n",
              "    };\n",
              "\n",
              "    // Use a chunked sending to avoid message size limits. See b/62115660.\n",
              "    let position = 0;\n",
              "    do {\n",
              "      const length = Math.min(fileData.byteLength - position, MAX_PAYLOAD_SIZE);\n",
              "      const chunk = new Uint8Array(fileData, position, length);\n",
              "      position += length;\n",
              "\n",
              "      const base64 = btoa(String.fromCharCode.apply(null, chunk));\n",
              "      yield {\n",
              "        response: {\n",
              "          action: 'append',\n",
              "          file: file.name,\n",
              "          data: base64,\n",
              "        },\n",
              "      };\n",
              "\n",
              "      let percentDone = fileData.byteLength === 0 ?\n",
              "          100 :\n",
              "          Math.round((position / fileData.byteLength) * 100);\n",
              "      percent.textContent = `${percentDone}% done`;\n",
              "\n",
              "    } while (position < fileData.byteLength);\n",
              "  }\n",
              "\n",
              "  // All done.\n",
              "  yield {\n",
              "    response: {\n",
              "      action: 'complete',\n",
              "    }\n",
              "  };\n",
              "}\n",
              "\n",
              "scope.google = scope.google || {};\n",
              "scope.google.colab = scope.google.colab || {};\n",
              "scope.google.colab._files = {\n",
              "  _uploadFiles,\n",
              "  _uploadFilesContinue,\n",
              "};\n",
              "})(self);\n",
              "</script> "
            ]
          },
          "metadata": {}
        },
        {
          "output_type": "stream",
          "name": "stdout",
          "text": [
            "Saving framingham.csv to framingham.csv\n"
          ]
        }
      ],
      "source": [
        "uploaded = files.upload()"
      ],
      "id": "kYEtlpQ96-30"
    },
    {
      "cell_type": "code",
      "execution_count": 6,
      "metadata": {
        "colab": {
          "base_uri": "https://localhost:8080/",
          "height": 250
        },
        "id": "11df539e",
        "outputId": "fca5dfc8-2f13-477d-dc0a-6f808ab10fba"
      },
      "outputs": [
        {
          "output_type": "execute_result",
          "data": {
            "text/plain": [
              "   male  age  education  currentSmoker  cigsPerDay  BPMeds  prevalentStroke  \\\n",
              "0     1   39        4.0              0         0.0     0.0                0   \n",
              "1     0   46        2.0              0         0.0     0.0                0   \n",
              "2     1   48        1.0              1        20.0     0.0                0   \n",
              "3     0   61        3.0              1        30.0     0.0                0   \n",
              "4     0   46        3.0              1        23.0     0.0                0   \n",
              "\n",
              "   prevalentHyp  diabetes  totChol  sysBP  diaBP    BMI  heartRate  glucose  \\\n",
              "0             0         0    195.0  106.0   70.0  26.97       80.0     77.0   \n",
              "1             0         0    250.0  121.0   81.0  28.73       95.0     76.0   \n",
              "2             0         0    245.0  127.5   80.0  25.34       75.0     70.0   \n",
              "3             1         0    225.0  150.0   95.0  28.58       65.0    103.0   \n",
              "4             0         0    285.0  130.0   84.0  23.10       85.0     85.0   \n",
              "\n",
              "   TenYearCHD  \n",
              "0           0  \n",
              "1           0  \n",
              "2           0  \n",
              "3           1  \n",
              "4           0  "
            ],
            "text/html": [
              "\n",
              "\n",
              "  <div id=\"df-f27e4c31-cc30-4c37-9491-5d7050be667b\">\n",
              "    <div class=\"colab-df-container\">\n",
              "      <div>\n",
              "<style scoped>\n",
              "    .dataframe tbody tr th:only-of-type {\n",
              "        vertical-align: middle;\n",
              "    }\n",
              "\n",
              "    .dataframe tbody tr th {\n",
              "        vertical-align: top;\n",
              "    }\n",
              "\n",
              "    .dataframe thead th {\n",
              "        text-align: right;\n",
              "    }\n",
              "</style>\n",
              "<table border=\"1\" class=\"dataframe\">\n",
              "  <thead>\n",
              "    <tr style=\"text-align: right;\">\n",
              "      <th></th>\n",
              "      <th>male</th>\n",
              "      <th>age</th>\n",
              "      <th>education</th>\n",
              "      <th>currentSmoker</th>\n",
              "      <th>cigsPerDay</th>\n",
              "      <th>BPMeds</th>\n",
              "      <th>prevalentStroke</th>\n",
              "      <th>prevalentHyp</th>\n",
              "      <th>diabetes</th>\n",
              "      <th>totChol</th>\n",
              "      <th>sysBP</th>\n",
              "      <th>diaBP</th>\n",
              "      <th>BMI</th>\n",
              "      <th>heartRate</th>\n",
              "      <th>glucose</th>\n",
              "      <th>TenYearCHD</th>\n",
              "    </tr>\n",
              "  </thead>\n",
              "  <tbody>\n",
              "    <tr>\n",
              "      <th>0</th>\n",
              "      <td>1</td>\n",
              "      <td>39</td>\n",
              "      <td>4.0</td>\n",
              "      <td>0</td>\n",
              "      <td>0.0</td>\n",
              "      <td>0.0</td>\n",
              "      <td>0</td>\n",
              "      <td>0</td>\n",
              "      <td>0</td>\n",
              "      <td>195.0</td>\n",
              "      <td>106.0</td>\n",
              "      <td>70.0</td>\n",
              "      <td>26.97</td>\n",
              "      <td>80.0</td>\n",
              "      <td>77.0</td>\n",
              "      <td>0</td>\n",
              "    </tr>\n",
              "    <tr>\n",
              "      <th>1</th>\n",
              "      <td>0</td>\n",
              "      <td>46</td>\n",
              "      <td>2.0</td>\n",
              "      <td>0</td>\n",
              "      <td>0.0</td>\n",
              "      <td>0.0</td>\n",
              "      <td>0</td>\n",
              "      <td>0</td>\n",
              "      <td>0</td>\n",
              "      <td>250.0</td>\n",
              "      <td>121.0</td>\n",
              "      <td>81.0</td>\n",
              "      <td>28.73</td>\n",
              "      <td>95.0</td>\n",
              "      <td>76.0</td>\n",
              "      <td>0</td>\n",
              "    </tr>\n",
              "    <tr>\n",
              "      <th>2</th>\n",
              "      <td>1</td>\n",
              "      <td>48</td>\n",
              "      <td>1.0</td>\n",
              "      <td>1</td>\n",
              "      <td>20.0</td>\n",
              "      <td>0.0</td>\n",
              "      <td>0</td>\n",
              "      <td>0</td>\n",
              "      <td>0</td>\n",
              "      <td>245.0</td>\n",
              "      <td>127.5</td>\n",
              "      <td>80.0</td>\n",
              "      <td>25.34</td>\n",
              "      <td>75.0</td>\n",
              "      <td>70.0</td>\n",
              "      <td>0</td>\n",
              "    </tr>\n",
              "    <tr>\n",
              "      <th>3</th>\n",
              "      <td>0</td>\n",
              "      <td>61</td>\n",
              "      <td>3.0</td>\n",
              "      <td>1</td>\n",
              "      <td>30.0</td>\n",
              "      <td>0.0</td>\n",
              "      <td>0</td>\n",
              "      <td>1</td>\n",
              "      <td>0</td>\n",
              "      <td>225.0</td>\n",
              "      <td>150.0</td>\n",
              "      <td>95.0</td>\n",
              "      <td>28.58</td>\n",
              "      <td>65.0</td>\n",
              "      <td>103.0</td>\n",
              "      <td>1</td>\n",
              "    </tr>\n",
              "    <tr>\n",
              "      <th>4</th>\n",
              "      <td>0</td>\n",
              "      <td>46</td>\n",
              "      <td>3.0</td>\n",
              "      <td>1</td>\n",
              "      <td>23.0</td>\n",
              "      <td>0.0</td>\n",
              "      <td>0</td>\n",
              "      <td>0</td>\n",
              "      <td>0</td>\n",
              "      <td>285.0</td>\n",
              "      <td>130.0</td>\n",
              "      <td>84.0</td>\n",
              "      <td>23.10</td>\n",
              "      <td>85.0</td>\n",
              "      <td>85.0</td>\n",
              "      <td>0</td>\n",
              "    </tr>\n",
              "  </tbody>\n",
              "</table>\n",
              "</div>\n",
              "      <button class=\"colab-df-convert\" onclick=\"convertToInteractive('df-f27e4c31-cc30-4c37-9491-5d7050be667b')\"\n",
              "              title=\"Convert this dataframe to an interactive table.\"\n",
              "              style=\"display:none;\">\n",
              "\n",
              "  <svg xmlns=\"http://www.w3.org/2000/svg\" height=\"24px\"viewBox=\"0 0 24 24\"\n",
              "       width=\"24px\">\n",
              "    <path d=\"M0 0h24v24H0V0z\" fill=\"none\"/>\n",
              "    <path d=\"M18.56 5.44l.94 2.06.94-2.06 2.06-.94-2.06-.94-.94-2.06-.94 2.06-2.06.94zm-11 1L8.5 8.5l.94-2.06 2.06-.94-2.06-.94L8.5 2.5l-.94 2.06-2.06.94zm10 10l.94 2.06.94-2.06 2.06-.94-2.06-.94-.94-2.06-.94 2.06-2.06.94z\"/><path d=\"M17.41 7.96l-1.37-1.37c-.4-.4-.92-.59-1.43-.59-.52 0-1.04.2-1.43.59L10.3 9.45l-7.72 7.72c-.78.78-.78 2.05 0 2.83L4 21.41c.39.39.9.59 1.41.59.51 0 1.02-.2 1.41-.59l7.78-7.78 2.81-2.81c.8-.78.8-2.07 0-2.86zM5.41 20L4 18.59l7.72-7.72 1.47 1.35L5.41 20z\"/>\n",
              "  </svg>\n",
              "      </button>\n",
              "\n",
              "\n",
              "\n",
              "    <div id=\"df-c0534d4e-bc47-4206-af56-993c76de646f\">\n",
              "      <button class=\"colab-df-quickchart\" onclick=\"quickchart('df-c0534d4e-bc47-4206-af56-993c76de646f')\"\n",
              "              title=\"Suggest charts.\"\n",
              "              style=\"display:none;\">\n",
              "\n",
              "<svg xmlns=\"http://www.w3.org/2000/svg\" height=\"24px\"viewBox=\"0 0 24 24\"\n",
              "     width=\"24px\">\n",
              "    <g>\n",
              "        <path d=\"M19 3H5c-1.1 0-2 .9-2 2v14c0 1.1.9 2 2 2h14c1.1 0 2-.9 2-2V5c0-1.1-.9-2-2-2zM9 17H7v-7h2v7zm4 0h-2V7h2v10zm4 0h-2v-4h2v4z\"/>\n",
              "    </g>\n",
              "</svg>\n",
              "      </button>\n",
              "    </div>\n",
              "\n",
              "<style>\n",
              "  .colab-df-quickchart {\n",
              "    background-color: #E8F0FE;\n",
              "    border: none;\n",
              "    border-radius: 50%;\n",
              "    cursor: pointer;\n",
              "    display: none;\n",
              "    fill: #1967D2;\n",
              "    height: 32px;\n",
              "    padding: 0 0 0 0;\n",
              "    width: 32px;\n",
              "  }\n",
              "\n",
              "  .colab-df-quickchart:hover {\n",
              "    background-color: #E2EBFA;\n",
              "    box-shadow: 0px 1px 2px rgba(60, 64, 67, 0.3), 0px 1px 3px 1px rgba(60, 64, 67, 0.15);\n",
              "    fill: #174EA6;\n",
              "  }\n",
              "\n",
              "  [theme=dark] .colab-df-quickchart {\n",
              "    background-color: #3B4455;\n",
              "    fill: #D2E3FC;\n",
              "  }\n",
              "\n",
              "  [theme=dark] .colab-df-quickchart:hover {\n",
              "    background-color: #434B5C;\n",
              "    box-shadow: 0px 1px 3px 1px rgba(0, 0, 0, 0.15);\n",
              "    filter: drop-shadow(0px 1px 2px rgba(0, 0, 0, 0.3));\n",
              "    fill: #FFFFFF;\n",
              "  }\n",
              "</style>\n",
              "\n",
              "    <script>\n",
              "      async function quickchart(key) {\n",
              "        const containerElement = document.querySelector('#' + key);\n",
              "        const charts = await google.colab.kernel.invokeFunction(\n",
              "            'suggestCharts', [key], {});\n",
              "      }\n",
              "    </script>\n",
              "\n",
              "      <script>\n",
              "\n",
              "function displayQuickchartButton(domScope) {\n",
              "  let quickchartButtonEl =\n",
              "    domScope.querySelector('#df-c0534d4e-bc47-4206-af56-993c76de646f button.colab-df-quickchart');\n",
              "  quickchartButtonEl.style.display =\n",
              "    google.colab.kernel.accessAllowed ? 'block' : 'none';\n",
              "}\n",
              "\n",
              "        displayQuickchartButton(document);\n",
              "      </script>\n",
              "      <style>\n",
              "    .colab-df-container {\n",
              "      display:flex;\n",
              "      flex-wrap:wrap;\n",
              "      gap: 12px;\n",
              "    }\n",
              "\n",
              "    .colab-df-convert {\n",
              "      background-color: #E8F0FE;\n",
              "      border: none;\n",
              "      border-radius: 50%;\n",
              "      cursor: pointer;\n",
              "      display: none;\n",
              "      fill: #1967D2;\n",
              "      height: 32px;\n",
              "      padding: 0 0 0 0;\n",
              "      width: 32px;\n",
              "    }\n",
              "\n",
              "    .colab-df-convert:hover {\n",
              "      background-color: #E2EBFA;\n",
              "      box-shadow: 0px 1px 2px rgba(60, 64, 67, 0.3), 0px 1px 3px 1px rgba(60, 64, 67, 0.15);\n",
              "      fill: #174EA6;\n",
              "    }\n",
              "\n",
              "    [theme=dark] .colab-df-convert {\n",
              "      background-color: #3B4455;\n",
              "      fill: #D2E3FC;\n",
              "    }\n",
              "\n",
              "    [theme=dark] .colab-df-convert:hover {\n",
              "      background-color: #434B5C;\n",
              "      box-shadow: 0px 1px 3px 1px rgba(0, 0, 0, 0.15);\n",
              "      filter: drop-shadow(0px 1px 2px rgba(0, 0, 0, 0.3));\n",
              "      fill: #FFFFFF;\n",
              "    }\n",
              "  </style>\n",
              "\n",
              "      <script>\n",
              "        const buttonEl =\n",
              "          document.querySelector('#df-f27e4c31-cc30-4c37-9491-5d7050be667b button.colab-df-convert');\n",
              "        buttonEl.style.display =\n",
              "          google.colab.kernel.accessAllowed ? 'block' : 'none';\n",
              "\n",
              "        async function convertToInteractive(key) {\n",
              "          const element = document.querySelector('#df-f27e4c31-cc30-4c37-9491-5d7050be667b');\n",
              "          const dataTable =\n",
              "            await google.colab.kernel.invokeFunction('convertToInteractive',\n",
              "                                                     [key], {});\n",
              "          if (!dataTable) return;\n",
              "\n",
              "          const docLinkHtml = 'Like what you see? Visit the ' +\n",
              "            '<a target=\"_blank\" href=https://colab.research.google.com/notebooks/data_table.ipynb>data table notebook</a>'\n",
              "            + ' to learn more about interactive tables.';\n",
              "          element.innerHTML = '';\n",
              "          dataTable['output_type'] = 'display_data';\n",
              "          await google.colab.output.renderOutput(dataTable, element);\n",
              "          const docLink = document.createElement('div');\n",
              "          docLink.innerHTML = docLinkHtml;\n",
              "          element.appendChild(docLink);\n",
              "        }\n",
              "      </script>\n",
              "    </div>\n",
              "  </div>\n"
            ]
          },
          "metadata": {},
          "execution_count": 6
        }
      ],
      "source": [
        "# Importamos el dataset y hacemos un head()\n",
        "df = pd.read_csv('framingham.csv')\n",
        "df.head()"
      ],
      "id": "11df539e"
    },
    {
      "cell_type": "code",
      "execution_count": 7,
      "metadata": {
        "id": "37058fe8",
        "outputId": "358f7616-657c-4eda-fdc4-6f17e18d76f5",
        "colab": {
          "base_uri": "https://localhost:8080/"
        }
      },
      "outputs": [
        {
          "output_type": "stream",
          "name": "stdout",
          "text": [
            "<class 'pandas.core.frame.DataFrame'>\n",
            "RangeIndex: 4240 entries, 0 to 4239\n",
            "Data columns (total 16 columns):\n",
            " #   Column           Non-Null Count  Dtype  \n",
            "---  ------           --------------  -----  \n",
            " 0   male             4240 non-null   int64  \n",
            " 1   age              4240 non-null   int64  \n",
            " 2   education        4135 non-null   float64\n",
            " 3   currentSmoker    4240 non-null   int64  \n",
            " 4   cigsPerDay       4211 non-null   float64\n",
            " 5   BPMeds           4187 non-null   float64\n",
            " 6   prevalentStroke  4240 non-null   int64  \n",
            " 7   prevalentHyp     4240 non-null   int64  \n",
            " 8   diabetes         4240 non-null   int64  \n",
            " 9   totChol          4190 non-null   float64\n",
            " 10  sysBP            4240 non-null   float64\n",
            " 11  diaBP            4240 non-null   float64\n",
            " 12  BMI              4221 non-null   float64\n",
            " 13  heartRate        4239 non-null   float64\n",
            " 14  glucose          3852 non-null   float64\n",
            " 15  TenYearCHD       4240 non-null   int64  \n",
            "dtypes: float64(9), int64(7)\n",
            "memory usage: 530.1 KB\n"
          ]
        }
      ],
      "source": [
        "# Observamos la cantidad de nulos por feature\n",
        "df.info()"
      ],
      "id": "37058fe8"
    },
    {
      "cell_type": "code",
      "execution_count": null,
      "metadata": {
        "id": "280f64e5",
        "outputId": "741db6d2-f247-49c4-9186-37c9a9a710b2",
        "colab": {
          "base_uri": "https://localhost:8080/"
        }
      },
      "outputs": [
        {
          "output_type": "stream",
          "name": "stdout",
          "text": [
            "% de registros con al menos un valor nulo:      13.7\n"
          ]
        }
      ],
      "source": [
        "# Calculamos el % de registros totales que contienen al menos un valor nulo\n",
        "print('% de registros con al menos un valor nulo:     ', np.round(100 * df.isna().any(axis=1).sum() / df.shape[0], 1))"
      ],
      "id": "280f64e5"
    },
    {
      "cell_type": "code",
      "execution_count": null,
      "metadata": {
        "id": "3b7f1185",
        "outputId": "f39ad129-9cac-4a7e-caed-53fe4b1956b2",
        "colab": {
          "base_uri": "https://localhost:8080/",
          "height": 551
        }
      },
      "outputs": [
        {
          "output_type": "execute_result",
          "data": {
            "text/plain": [
              "                  count        mean        std     min     25%    50%     75%  \\\n",
              "male             4240.0    0.429245   0.495027    0.00    0.00    0.0    1.00   \n",
              "age              4240.0   49.580189   8.572942   32.00   42.00   49.0   56.00   \n",
              "education        4135.0    1.979444   1.019791    1.00    1.00    2.0    3.00   \n",
              "currentSmoker    4240.0    0.494104   0.500024    0.00    0.00    0.0    1.00   \n",
              "cigsPerDay       4211.0    9.005937  11.922462    0.00    0.00    0.0   20.00   \n",
              "BPMeds           4187.0    0.029615   0.169544    0.00    0.00    0.0    0.00   \n",
              "prevalentStroke  4240.0    0.005896   0.076569    0.00    0.00    0.0    0.00   \n",
              "prevalentHyp     4240.0    0.310613   0.462799    0.00    0.00    0.0    1.00   \n",
              "diabetes         4240.0    0.025708   0.158280    0.00    0.00    0.0    0.00   \n",
              "totChol          4190.0  236.699523  44.591284  107.00  206.00  234.0  263.00   \n",
              "sysBP            4240.0  132.354599  22.033300   83.50  117.00  128.0  144.00   \n",
              "diaBP            4240.0   82.897759  11.910394   48.00   75.00   82.0   90.00   \n",
              "BMI              4221.0   25.800801   4.079840   15.54   23.07   25.4   28.04   \n",
              "heartRate        4239.0   75.878981  12.025348   44.00   68.00   75.0   83.00   \n",
              "glucose          3852.0   81.963655  23.954335   40.00   71.00   78.0   87.00   \n",
              "TenYearCHD       4240.0    0.151887   0.358953    0.00    0.00    0.0    0.00   \n",
              "\n",
              "                   max  \n",
              "male               1.0  \n",
              "age               70.0  \n",
              "education          4.0  \n",
              "currentSmoker      1.0  \n",
              "cigsPerDay        70.0  \n",
              "BPMeds             1.0  \n",
              "prevalentStroke    1.0  \n",
              "prevalentHyp       1.0  \n",
              "diabetes           1.0  \n",
              "totChol          696.0  \n",
              "sysBP            295.0  \n",
              "diaBP            142.5  \n",
              "BMI               56.8  \n",
              "heartRate        143.0  \n",
              "glucose          394.0  \n",
              "TenYearCHD         1.0  "
            ],
            "text/html": [
              "\n",
              "  <div id=\"df-dc7edb76-9e5a-4d28-8b5c-8729926e87a1\">\n",
              "    <div class=\"colab-df-container\">\n",
              "      <div>\n",
              "<style scoped>\n",
              "    .dataframe tbody tr th:only-of-type {\n",
              "        vertical-align: middle;\n",
              "    }\n",
              "\n",
              "    .dataframe tbody tr th {\n",
              "        vertical-align: top;\n",
              "    }\n",
              "\n",
              "    .dataframe thead th {\n",
              "        text-align: right;\n",
              "    }\n",
              "</style>\n",
              "<table border=\"1\" class=\"dataframe\">\n",
              "  <thead>\n",
              "    <tr style=\"text-align: right;\">\n",
              "      <th></th>\n",
              "      <th>count</th>\n",
              "      <th>mean</th>\n",
              "      <th>std</th>\n",
              "      <th>min</th>\n",
              "      <th>25%</th>\n",
              "      <th>50%</th>\n",
              "      <th>75%</th>\n",
              "      <th>max</th>\n",
              "    </tr>\n",
              "  </thead>\n",
              "  <tbody>\n",
              "    <tr>\n",
              "      <th>male</th>\n",
              "      <td>4240.0</td>\n",
              "      <td>0.429245</td>\n",
              "      <td>0.495027</td>\n",
              "      <td>0.00</td>\n",
              "      <td>0.00</td>\n",
              "      <td>0.0</td>\n",
              "      <td>1.00</td>\n",
              "      <td>1.0</td>\n",
              "    </tr>\n",
              "    <tr>\n",
              "      <th>age</th>\n",
              "      <td>4240.0</td>\n",
              "      <td>49.580189</td>\n",
              "      <td>8.572942</td>\n",
              "      <td>32.00</td>\n",
              "      <td>42.00</td>\n",
              "      <td>49.0</td>\n",
              "      <td>56.00</td>\n",
              "      <td>70.0</td>\n",
              "    </tr>\n",
              "    <tr>\n",
              "      <th>education</th>\n",
              "      <td>4135.0</td>\n",
              "      <td>1.979444</td>\n",
              "      <td>1.019791</td>\n",
              "      <td>1.00</td>\n",
              "      <td>1.00</td>\n",
              "      <td>2.0</td>\n",
              "      <td>3.00</td>\n",
              "      <td>4.0</td>\n",
              "    </tr>\n",
              "    <tr>\n",
              "      <th>currentSmoker</th>\n",
              "      <td>4240.0</td>\n",
              "      <td>0.494104</td>\n",
              "      <td>0.500024</td>\n",
              "      <td>0.00</td>\n",
              "      <td>0.00</td>\n",
              "      <td>0.0</td>\n",
              "      <td>1.00</td>\n",
              "      <td>1.0</td>\n",
              "    </tr>\n",
              "    <tr>\n",
              "      <th>cigsPerDay</th>\n",
              "      <td>4211.0</td>\n",
              "      <td>9.005937</td>\n",
              "      <td>11.922462</td>\n",
              "      <td>0.00</td>\n",
              "      <td>0.00</td>\n",
              "      <td>0.0</td>\n",
              "      <td>20.00</td>\n",
              "      <td>70.0</td>\n",
              "    </tr>\n",
              "    <tr>\n",
              "      <th>BPMeds</th>\n",
              "      <td>4187.0</td>\n",
              "      <td>0.029615</td>\n",
              "      <td>0.169544</td>\n",
              "      <td>0.00</td>\n",
              "      <td>0.00</td>\n",
              "      <td>0.0</td>\n",
              "      <td>0.00</td>\n",
              "      <td>1.0</td>\n",
              "    </tr>\n",
              "    <tr>\n",
              "      <th>prevalentStroke</th>\n",
              "      <td>4240.0</td>\n",
              "      <td>0.005896</td>\n",
              "      <td>0.076569</td>\n",
              "      <td>0.00</td>\n",
              "      <td>0.00</td>\n",
              "      <td>0.0</td>\n",
              "      <td>0.00</td>\n",
              "      <td>1.0</td>\n",
              "    </tr>\n",
              "    <tr>\n",
              "      <th>prevalentHyp</th>\n",
              "      <td>4240.0</td>\n",
              "      <td>0.310613</td>\n",
              "      <td>0.462799</td>\n",
              "      <td>0.00</td>\n",
              "      <td>0.00</td>\n",
              "      <td>0.0</td>\n",
              "      <td>1.00</td>\n",
              "      <td>1.0</td>\n",
              "    </tr>\n",
              "    <tr>\n",
              "      <th>diabetes</th>\n",
              "      <td>4240.0</td>\n",
              "      <td>0.025708</td>\n",
              "      <td>0.158280</td>\n",
              "      <td>0.00</td>\n",
              "      <td>0.00</td>\n",
              "      <td>0.0</td>\n",
              "      <td>0.00</td>\n",
              "      <td>1.0</td>\n",
              "    </tr>\n",
              "    <tr>\n",
              "      <th>totChol</th>\n",
              "      <td>4190.0</td>\n",
              "      <td>236.699523</td>\n",
              "      <td>44.591284</td>\n",
              "      <td>107.00</td>\n",
              "      <td>206.00</td>\n",
              "      <td>234.0</td>\n",
              "      <td>263.00</td>\n",
              "      <td>696.0</td>\n",
              "    </tr>\n",
              "    <tr>\n",
              "      <th>sysBP</th>\n",
              "      <td>4240.0</td>\n",
              "      <td>132.354599</td>\n",
              "      <td>22.033300</td>\n",
              "      <td>83.50</td>\n",
              "      <td>117.00</td>\n",
              "      <td>128.0</td>\n",
              "      <td>144.00</td>\n",
              "      <td>295.0</td>\n",
              "    </tr>\n",
              "    <tr>\n",
              "      <th>diaBP</th>\n",
              "      <td>4240.0</td>\n",
              "      <td>82.897759</td>\n",
              "      <td>11.910394</td>\n",
              "      <td>48.00</td>\n",
              "      <td>75.00</td>\n",
              "      <td>82.0</td>\n",
              "      <td>90.00</td>\n",
              "      <td>142.5</td>\n",
              "    </tr>\n",
              "    <tr>\n",
              "      <th>BMI</th>\n",
              "      <td>4221.0</td>\n",
              "      <td>25.800801</td>\n",
              "      <td>4.079840</td>\n",
              "      <td>15.54</td>\n",
              "      <td>23.07</td>\n",
              "      <td>25.4</td>\n",
              "      <td>28.04</td>\n",
              "      <td>56.8</td>\n",
              "    </tr>\n",
              "    <tr>\n",
              "      <th>heartRate</th>\n",
              "      <td>4239.0</td>\n",
              "      <td>75.878981</td>\n",
              "      <td>12.025348</td>\n",
              "      <td>44.00</td>\n",
              "      <td>68.00</td>\n",
              "      <td>75.0</td>\n",
              "      <td>83.00</td>\n",
              "      <td>143.0</td>\n",
              "    </tr>\n",
              "    <tr>\n",
              "      <th>glucose</th>\n",
              "      <td>3852.0</td>\n",
              "      <td>81.963655</td>\n",
              "      <td>23.954335</td>\n",
              "      <td>40.00</td>\n",
              "      <td>71.00</td>\n",
              "      <td>78.0</td>\n",
              "      <td>87.00</td>\n",
              "      <td>394.0</td>\n",
              "    </tr>\n",
              "    <tr>\n",
              "      <th>TenYearCHD</th>\n",
              "      <td>4240.0</td>\n",
              "      <td>0.151887</td>\n",
              "      <td>0.358953</td>\n",
              "      <td>0.00</td>\n",
              "      <td>0.00</td>\n",
              "      <td>0.0</td>\n",
              "      <td>0.00</td>\n",
              "      <td>1.0</td>\n",
              "    </tr>\n",
              "  </tbody>\n",
              "</table>\n",
              "</div>\n",
              "      <button class=\"colab-df-convert\" onclick=\"convertToInteractive('df-dc7edb76-9e5a-4d28-8b5c-8729926e87a1')\"\n",
              "              title=\"Convert this dataframe to an interactive table.\"\n",
              "              style=\"display:none;\">\n",
              "        \n",
              "  <svg xmlns=\"http://www.w3.org/2000/svg\" height=\"24px\"viewBox=\"0 0 24 24\"\n",
              "       width=\"24px\">\n",
              "    <path d=\"M0 0h24v24H0V0z\" fill=\"none\"/>\n",
              "    <path d=\"M18.56 5.44l.94 2.06.94-2.06 2.06-.94-2.06-.94-.94-2.06-.94 2.06-2.06.94zm-11 1L8.5 8.5l.94-2.06 2.06-.94-2.06-.94L8.5 2.5l-.94 2.06-2.06.94zm10 10l.94 2.06.94-2.06 2.06-.94-2.06-.94-.94-2.06-.94 2.06-2.06.94z\"/><path d=\"M17.41 7.96l-1.37-1.37c-.4-.4-.92-.59-1.43-.59-.52 0-1.04.2-1.43.59L10.3 9.45l-7.72 7.72c-.78.78-.78 2.05 0 2.83L4 21.41c.39.39.9.59 1.41.59.51 0 1.02-.2 1.41-.59l7.78-7.78 2.81-2.81c.8-.78.8-2.07 0-2.86zM5.41 20L4 18.59l7.72-7.72 1.47 1.35L5.41 20z\"/>\n",
              "  </svg>\n",
              "      </button>\n",
              "      \n",
              "  <style>\n",
              "    .colab-df-container {\n",
              "      display:flex;\n",
              "      flex-wrap:wrap;\n",
              "      gap: 12px;\n",
              "    }\n",
              "\n",
              "    .colab-df-convert {\n",
              "      background-color: #E8F0FE;\n",
              "      border: none;\n",
              "      border-radius: 50%;\n",
              "      cursor: pointer;\n",
              "      display: none;\n",
              "      fill: #1967D2;\n",
              "      height: 32px;\n",
              "      padding: 0 0 0 0;\n",
              "      width: 32px;\n",
              "    }\n",
              "\n",
              "    .colab-df-convert:hover {\n",
              "      background-color: #E2EBFA;\n",
              "      box-shadow: 0px 1px 2px rgba(60, 64, 67, 0.3), 0px 1px 3px 1px rgba(60, 64, 67, 0.15);\n",
              "      fill: #174EA6;\n",
              "    }\n",
              "\n",
              "    [theme=dark] .colab-df-convert {\n",
              "      background-color: #3B4455;\n",
              "      fill: #D2E3FC;\n",
              "    }\n",
              "\n",
              "    [theme=dark] .colab-df-convert:hover {\n",
              "      background-color: #434B5C;\n",
              "      box-shadow: 0px 1px 3px 1px rgba(0, 0, 0, 0.15);\n",
              "      filter: drop-shadow(0px 1px 2px rgba(0, 0, 0, 0.3));\n",
              "      fill: #FFFFFF;\n",
              "    }\n",
              "  </style>\n",
              "\n",
              "      <script>\n",
              "        const buttonEl =\n",
              "          document.querySelector('#df-dc7edb76-9e5a-4d28-8b5c-8729926e87a1 button.colab-df-convert');\n",
              "        buttonEl.style.display =\n",
              "          google.colab.kernel.accessAllowed ? 'block' : 'none';\n",
              "\n",
              "        async function convertToInteractive(key) {\n",
              "          const element = document.querySelector('#df-dc7edb76-9e5a-4d28-8b5c-8729926e87a1');\n",
              "          const dataTable =\n",
              "            await google.colab.kernel.invokeFunction('convertToInteractive',\n",
              "                                                     [key], {});\n",
              "          if (!dataTable) return;\n",
              "\n",
              "          const docLinkHtml = 'Like what you see? Visit the ' +\n",
              "            '<a target=\"_blank\" href=https://colab.research.google.com/notebooks/data_table.ipynb>data table notebook</a>'\n",
              "            + ' to learn more about interactive tables.';\n",
              "          element.innerHTML = '';\n",
              "          dataTable['output_type'] = 'display_data';\n",
              "          await google.colab.output.renderOutput(dataTable, element);\n",
              "          const docLink = document.createElement('div');\n",
              "          docLink.innerHTML = docLinkHtml;\n",
              "          element.appendChild(docLink);\n",
              "        }\n",
              "      </script>\n",
              "    </div>\n",
              "  </div>\n",
              "  "
            ]
          },
          "metadata": {},
          "execution_count": 15
        }
      ],
      "source": [
        "# Aplicamos un describe() para ver estadísticos básicos\n",
        "df.describe().T"
      ],
      "id": "3b7f1185"
    },
    {
      "cell_type": "code",
      "execution_count": null,
      "metadata": {
        "id": "3fe85add",
        "outputId": "a49ad25a-0633-483f-9f41-0122f7c74c74",
        "colab": {
          "base_uri": "https://localhost:8080/"
        }
      },
      "outputs": [
        {
          "output_type": "execute_result",
          "data": {
            "text/plain": [
              "0    0.848113\n",
              "1    0.151887\n",
              "Name: TenYearCHD, dtype: float64"
            ]
          },
          "metadata": {},
          "execution_count": 16
        }
      ],
      "source": [
        "# Calculamos las proporciones de cada clase en la variable Target\n",
        "df['TenYearCHD'].value_counts(True)\n",
        "# Se puede apreciar que estan claramente desbalanceadas"
      ],
      "id": "3fe85add"
    },
    {
      "cell_type": "code",
      "execution_count": null,
      "metadata": {
        "id": "0ff6fe30",
        "outputId": "788a2083-368b-4538-9d1c-8407d91cf11b",
        "colab": {
          "base_uri": "https://localhost:8080/",
          "height": 551
        }
      },
      "outputs": [
        {
          "output_type": "execute_result",
          "data": {
            "text/plain": [
              "                  count  unique     top    freq\n",
              "male             4240.0     2.0    0.00  2420.0\n",
              "age              4240.0    39.0   40.00   192.0\n",
              "education        4135.0     4.0    1.00  1720.0\n",
              "currentSmoker    4240.0     2.0    0.00  2145.0\n",
              "cigsPerDay       4211.0    33.0    0.00  2145.0\n",
              "BPMeds           4187.0     2.0    0.00  4063.0\n",
              "prevalentStroke  4240.0     2.0    0.00  4215.0\n",
              "prevalentHyp     4240.0     2.0    0.00  2923.0\n",
              "diabetes         4240.0     2.0    0.00  4131.0\n",
              "totChol          4190.0   248.0  240.00    85.0\n",
              "sysBP            4240.0   234.0  120.00   107.0\n",
              "diaBP            4240.0   146.0   80.00   262.0\n",
              "BMI              4221.0  1364.0   22.91    18.0\n",
              "heartRate        4239.0    73.0   75.00   563.0\n",
              "glucose          3852.0   143.0   75.00   193.0\n",
              "TenYearCHD       4240.0     2.0    0.00  3596.0"
            ],
            "text/html": [
              "\n",
              "  <div id=\"df-00d4f202-3926-4b01-8209-e339a2ed1666\">\n",
              "    <div class=\"colab-df-container\">\n",
              "      <div>\n",
              "<style scoped>\n",
              "    .dataframe tbody tr th:only-of-type {\n",
              "        vertical-align: middle;\n",
              "    }\n",
              "\n",
              "    .dataframe tbody tr th {\n",
              "        vertical-align: top;\n",
              "    }\n",
              "\n",
              "    .dataframe thead th {\n",
              "        text-align: right;\n",
              "    }\n",
              "</style>\n",
              "<table border=\"1\" class=\"dataframe\">\n",
              "  <thead>\n",
              "    <tr style=\"text-align: right;\">\n",
              "      <th></th>\n",
              "      <th>count</th>\n",
              "      <th>unique</th>\n",
              "      <th>top</th>\n",
              "      <th>freq</th>\n",
              "    </tr>\n",
              "  </thead>\n",
              "  <tbody>\n",
              "    <tr>\n",
              "      <th>male</th>\n",
              "      <td>4240.0</td>\n",
              "      <td>2.0</td>\n",
              "      <td>0.00</td>\n",
              "      <td>2420.0</td>\n",
              "    </tr>\n",
              "    <tr>\n",
              "      <th>age</th>\n",
              "      <td>4240.0</td>\n",
              "      <td>39.0</td>\n",
              "      <td>40.00</td>\n",
              "      <td>192.0</td>\n",
              "    </tr>\n",
              "    <tr>\n",
              "      <th>education</th>\n",
              "      <td>4135.0</td>\n",
              "      <td>4.0</td>\n",
              "      <td>1.00</td>\n",
              "      <td>1720.0</td>\n",
              "    </tr>\n",
              "    <tr>\n",
              "      <th>currentSmoker</th>\n",
              "      <td>4240.0</td>\n",
              "      <td>2.0</td>\n",
              "      <td>0.00</td>\n",
              "      <td>2145.0</td>\n",
              "    </tr>\n",
              "    <tr>\n",
              "      <th>cigsPerDay</th>\n",
              "      <td>4211.0</td>\n",
              "      <td>33.0</td>\n",
              "      <td>0.00</td>\n",
              "      <td>2145.0</td>\n",
              "    </tr>\n",
              "    <tr>\n",
              "      <th>BPMeds</th>\n",
              "      <td>4187.0</td>\n",
              "      <td>2.0</td>\n",
              "      <td>0.00</td>\n",
              "      <td>4063.0</td>\n",
              "    </tr>\n",
              "    <tr>\n",
              "      <th>prevalentStroke</th>\n",
              "      <td>4240.0</td>\n",
              "      <td>2.0</td>\n",
              "      <td>0.00</td>\n",
              "      <td>4215.0</td>\n",
              "    </tr>\n",
              "    <tr>\n",
              "      <th>prevalentHyp</th>\n",
              "      <td>4240.0</td>\n",
              "      <td>2.0</td>\n",
              "      <td>0.00</td>\n",
              "      <td>2923.0</td>\n",
              "    </tr>\n",
              "    <tr>\n",
              "      <th>diabetes</th>\n",
              "      <td>4240.0</td>\n",
              "      <td>2.0</td>\n",
              "      <td>0.00</td>\n",
              "      <td>4131.0</td>\n",
              "    </tr>\n",
              "    <tr>\n",
              "      <th>totChol</th>\n",
              "      <td>4190.0</td>\n",
              "      <td>248.0</td>\n",
              "      <td>240.00</td>\n",
              "      <td>85.0</td>\n",
              "    </tr>\n",
              "    <tr>\n",
              "      <th>sysBP</th>\n",
              "      <td>4240.0</td>\n",
              "      <td>234.0</td>\n",
              "      <td>120.00</td>\n",
              "      <td>107.0</td>\n",
              "    </tr>\n",
              "    <tr>\n",
              "      <th>diaBP</th>\n",
              "      <td>4240.0</td>\n",
              "      <td>146.0</td>\n",
              "      <td>80.00</td>\n",
              "      <td>262.0</td>\n",
              "    </tr>\n",
              "    <tr>\n",
              "      <th>BMI</th>\n",
              "      <td>4221.0</td>\n",
              "      <td>1364.0</td>\n",
              "      <td>22.91</td>\n",
              "      <td>18.0</td>\n",
              "    </tr>\n",
              "    <tr>\n",
              "      <th>heartRate</th>\n",
              "      <td>4239.0</td>\n",
              "      <td>73.0</td>\n",
              "      <td>75.00</td>\n",
              "      <td>563.0</td>\n",
              "    </tr>\n",
              "    <tr>\n",
              "      <th>glucose</th>\n",
              "      <td>3852.0</td>\n",
              "      <td>143.0</td>\n",
              "      <td>75.00</td>\n",
              "      <td>193.0</td>\n",
              "    </tr>\n",
              "    <tr>\n",
              "      <th>TenYearCHD</th>\n",
              "      <td>4240.0</td>\n",
              "      <td>2.0</td>\n",
              "      <td>0.00</td>\n",
              "      <td>3596.0</td>\n",
              "    </tr>\n",
              "  </tbody>\n",
              "</table>\n",
              "</div>\n",
              "      <button class=\"colab-df-convert\" onclick=\"convertToInteractive('df-00d4f202-3926-4b01-8209-e339a2ed1666')\"\n",
              "              title=\"Convert this dataframe to an interactive table.\"\n",
              "              style=\"display:none;\">\n",
              "        \n",
              "  <svg xmlns=\"http://www.w3.org/2000/svg\" height=\"24px\"viewBox=\"0 0 24 24\"\n",
              "       width=\"24px\">\n",
              "    <path d=\"M0 0h24v24H0V0z\" fill=\"none\"/>\n",
              "    <path d=\"M18.56 5.44l.94 2.06.94-2.06 2.06-.94-2.06-.94-.94-2.06-.94 2.06-2.06.94zm-11 1L8.5 8.5l.94-2.06 2.06-.94-2.06-.94L8.5 2.5l-.94 2.06-2.06.94zm10 10l.94 2.06.94-2.06 2.06-.94-2.06-.94-.94-2.06-.94 2.06-2.06.94z\"/><path d=\"M17.41 7.96l-1.37-1.37c-.4-.4-.92-.59-1.43-.59-.52 0-1.04.2-1.43.59L10.3 9.45l-7.72 7.72c-.78.78-.78 2.05 0 2.83L4 21.41c.39.39.9.59 1.41.59.51 0 1.02-.2 1.41-.59l7.78-7.78 2.81-2.81c.8-.78.8-2.07 0-2.86zM5.41 20L4 18.59l7.72-7.72 1.47 1.35L5.41 20z\"/>\n",
              "  </svg>\n",
              "      </button>\n",
              "      \n",
              "  <style>\n",
              "    .colab-df-container {\n",
              "      display:flex;\n",
              "      flex-wrap:wrap;\n",
              "      gap: 12px;\n",
              "    }\n",
              "\n",
              "    .colab-df-convert {\n",
              "      background-color: #E8F0FE;\n",
              "      border: none;\n",
              "      border-radius: 50%;\n",
              "      cursor: pointer;\n",
              "      display: none;\n",
              "      fill: #1967D2;\n",
              "      height: 32px;\n",
              "      padding: 0 0 0 0;\n",
              "      width: 32px;\n",
              "    }\n",
              "\n",
              "    .colab-df-convert:hover {\n",
              "      background-color: #E2EBFA;\n",
              "      box-shadow: 0px 1px 2px rgba(60, 64, 67, 0.3), 0px 1px 3px 1px rgba(60, 64, 67, 0.15);\n",
              "      fill: #174EA6;\n",
              "    }\n",
              "\n",
              "    [theme=dark] .colab-df-convert {\n",
              "      background-color: #3B4455;\n",
              "      fill: #D2E3FC;\n",
              "    }\n",
              "\n",
              "    [theme=dark] .colab-df-convert:hover {\n",
              "      background-color: #434B5C;\n",
              "      box-shadow: 0px 1px 3px 1px rgba(0, 0, 0, 0.15);\n",
              "      filter: drop-shadow(0px 1px 2px rgba(0, 0, 0, 0.3));\n",
              "      fill: #FFFFFF;\n",
              "    }\n",
              "  </style>\n",
              "\n",
              "      <script>\n",
              "        const buttonEl =\n",
              "          document.querySelector('#df-00d4f202-3926-4b01-8209-e339a2ed1666 button.colab-df-convert');\n",
              "        buttonEl.style.display =\n",
              "          google.colab.kernel.accessAllowed ? 'block' : 'none';\n",
              "\n",
              "        async function convertToInteractive(key) {\n",
              "          const element = document.querySelector('#df-00d4f202-3926-4b01-8209-e339a2ed1666');\n",
              "          const dataTable =\n",
              "            await google.colab.kernel.invokeFunction('convertToInteractive',\n",
              "                                                     [key], {});\n",
              "          if (!dataTable) return;\n",
              "\n",
              "          const docLinkHtml = 'Like what you see? Visit the ' +\n",
              "            '<a target=\"_blank\" href=https://colab.research.google.com/notebooks/data_table.ipynb>data table notebook</a>'\n",
              "            + ' to learn more about interactive tables.';\n",
              "          element.innerHTML = '';\n",
              "          dataTable['output_type'] = 'display_data';\n",
              "          await google.colab.output.renderOutput(dataTable, element);\n",
              "          const docLink = document.createElement('div');\n",
              "          docLink.innerHTML = docLinkHtml;\n",
              "          element.appendChild(docLink);\n",
              "        }\n",
              "      </script>\n",
              "    </div>\n",
              "  </div>\n",
              "  "
            ]
          },
          "metadata": {},
          "execution_count": 17
        }
      ],
      "source": [
        "# Aplicamos describe() previa aplicacion del metodo astype, con el objeto de tratar a las variables como objetos (strings)\n",
        "df.astype(object).describe().T\n",
        "# De esta manera podemos ver si dentro de las variables numericas hay algunas que sean mas bien discretas (y no continuas)"
      ],
      "id": "0ff6fe30"
    },
    {
      "cell_type": "code",
      "execution_count": null,
      "metadata": {
        "id": "fe234b91",
        "outputId": "cef56271-ce30-4d12-a892-4f3cb541a6a3",
        "colab": {
          "base_uri": "https://localhost:8080/",
          "height": 801
        }
      },
      "outputs": [
        {
          "output_type": "display_data",
          "data": {
            "text/plain": [
              "<Figure size 1296x864 with 15 Axes>"
            ],
            "image/png": "[encoded data removed]"
          },
          "metadata": {
            "needs_background": "light"
          }
        }
      ],
      "source": [
        "# Creamos un grafico para cada feature discriminando por el valor del target con un loop\n",
        "fig, axes = plt.subplots(nrows=3, ncols=5, figsize=(18,12))\n",
        "fig.suptitle('Histogramas normalizados')\n",
        "for c, ax in zip(df.columns[:-1], axes.flatten()):\n",
        "    sns.histplot(data = df.loc[df['TenYearCHD']==0, c].dropna(), stat = 'count', ax = ax, kde = False )\n",
        "    sns.histplot(data = df.loc[df['TenYearCHD']==1, c].dropna(), stat = 'count', kde=False, ax=ax, color = 'orange')\n",
        "    ax.legend(['TenYearCHD = 0', 'TenYearCHD = 1'])\n",
        "# Importante: el grafico utiliza el metodo \"density\" que permite comparar las clases desbalanceadas (ver que ocurre con otro metodos)"
      ],
      "id": "fe234b91"
    },
    {
      "cell_type": "code",
      "execution_count": null,
      "metadata": {
        "id": "6c85a9e7",
        "outputId": "7f4ee354-d416-464a-ee63-91142bc287d2",
        "colab": {
          "base_uri": "https://localhost:8080/",
          "height": 791
        }
      },
      "outputs": [
        {
          "output_type": "execute_result",
          "data": {
            "text/plain": [
              "<matplotlib.axes._subplots.AxesSubplot at 0x7f64a5da2990>"
            ]
          },
          "metadata": {},
          "execution_count": 13
        },
        {
          "output_type": "display_data",
          "data": {
            "text/plain": [
              "<Figure size 864x864 with 2 Axes>"
            ],
            "image/png": "[encoded data removed]"
          },
          "metadata": {
            "needs_background": "light"
          }
        }
      ],
      "source": [
        "# Graficamos en un mapa de calor los coeficientes de correlacion de todas las variables entre sí\n",
        "plt.figure(figsize=(12,12))\n",
        "sns.heatmap(df.corr().round(2), annot=True, vmin=-1, vmax=1, cmap='bwr')\n",
        "# Pueden verse algunas variables correlacionadas:\n",
        "# ['currentSmoker'] vs ['cisPerDay'], ['sysBP'] vs ['diaBP'], ['diabetes'] vs ['glucosa']"
      ],
      "id": "6c85a9e7"
    },
    {
      "cell_type": "code",
      "execution_count": null,
      "metadata": {
        "id": "9edb62a5"
      },
      "outputs": [],
      "source": [
        "# Eliminamos los registros con valores faltantes ya que son sólo un 13% del dataset\n",
        "df.dropna(inplace=True)\n",
        "\n",
        "# Preparamos la matriz de features y el vector objetivo\n",
        "X = df.drop(columns=['TenYearCHD'])\n",
        "y = df['TenYearCHD']\n",
        "\n",
        "# Separamos un set de testeo para evaluar el modelo\n",
        "X_train, X_test, y_train, y_test = train_test_split(X, y, stratify=y, random_state = 0)\n",
        "\n",
        "# Estandarizamos los datos para que la regularización sea correcta\n",
        "scaler = StandardScaler()\n",
        "X_train_std = pd.DataFrame(scaler.fit_transform(X_train), columns=X_train.columns)\n",
        "X_test_std = scaler.transform(X_test)\n",
        "\n",
        "# Ponemos el array resultado en dataframes:\n",
        "X_train_std = pd.DataFrame(X_train_std, columns = X_train.columns)\n",
        "X_test_std = pd.DataFrame(X_test_std, columns = X_train.columns)"
      ],
      "id": "9edb62a5"
    },
    {
      "cell_type": "code",
      "source": [
        "# Corroboramos que ambos datasets tienen la misma proporción de etiquetas\n",
        "print(' Balance en el dataset de entrenamiento:  ')\n",
        "print(pd.DataFrame(y_train).value_counts(normalize=True))\n",
        "\n",
        "print('\\n Balance en el dataset de testeo:')\n",
        "print(pd.DataFrame(y_test).value_counts(normalize=True))"
      ],
      "metadata": {
        "colab": {
          "base_uri": "https://localhost:8080/"
        },
        "id": "3XsA0pvvGkLr",
        "outputId": "126032aa-c27c-4a27-9480-49a55fb47533"
      },
      "id": "3XsA0pvvGkLr",
      "execution_count": null,
      "outputs": [
        {
          "output_type": "stream",
          "name": "stdout",
          "text": [
            " Balance en el dataset de entrenamiento:  \n",
            "TenYearCHD\n",
            "0             0.847612\n",
            "1             0.152388\n",
            "dtype: float64\n",
            "\n",
            " Balance en el dataset de testeo:\n",
            "TenYearCHD\n",
            "0             0.848087\n",
            "1             0.151913\n",
            "dtype: float64\n"
          ]
        }
      ]
    },
    {
      "cell_type": "code",
      "source": [
        "# Aplicamos un .describe() a ambos para ver los resultados de la estandarizacion de variables\n",
        "X_train.describe().T"
      ],
      "metadata": {
        "colab": {
          "base_uri": "https://localhost:8080/",
          "height": 519
        },
        "id": "rGTmybSLNi28",
        "outputId": "81cf40ec-53cd-4aa5-bdc6-ba9dda4e3ff1"
      },
      "id": "rGTmybSLNi28",
      "execution_count": null,
      "outputs": [
        {
          "output_type": "execute_result",
          "data": {
            "text/plain": [
              "                  count        mean        std     min     25%     50%  \\\n",
              "male             2743.0    0.442581   0.496783    0.00    0.00    0.00   \n",
              "age              2743.0   49.556690   8.542572   32.00   42.00   49.00   \n",
              "education        2743.0    1.977397   1.025673    1.00    1.00    2.00   \n",
              "currentSmoker    2743.0    0.492891   0.500041    0.00    0.00    0.00   \n",
              "cigsPerDay       2743.0    9.130879  12.065256    0.00    0.00    0.00   \n",
              "BPMeds           2743.0    0.030259   0.171330    0.00    0.00    0.00   \n",
              "prevalentStroke  2743.0    0.006198   0.078495    0.00    0.00    0.00   \n",
              "prevalentHyp     2743.0    0.318994   0.466172    0.00    0.00    0.00   \n",
              "diabetes         2743.0    0.025884   0.158818    0.00    0.00    0.00   \n",
              "totChol          2743.0  237.272694  44.273914  113.00  206.00  234.00   \n",
              "sysBP            2743.0  132.598068  22.211483   83.50  117.00  128.00   \n",
              "diaBP            2743.0   83.057419  12.101981   48.00   74.75   82.00   \n",
              "BMI              2743.0   25.799974   4.116782   15.54   23.07   25.38   \n",
              "heartRate        2743.0   75.657310  12.072415   44.00   68.00   75.00   \n",
              "glucose          2743.0   81.767773  24.018676   40.00   71.00   78.00   \n",
              "\n",
              "                     75%    max  \n",
              "male               1.000    1.0  \n",
              "age               56.000   69.0  \n",
              "education          3.000    4.0  \n",
              "currentSmoker      1.000    1.0  \n",
              "cigsPerDay        20.000   70.0  \n",
              "BPMeds             0.000    1.0  \n",
              "prevalentStroke    0.000    1.0  \n",
              "prevalentHyp       1.000    1.0  \n",
              "diabetes           0.000    1.0  \n",
              "totChol          264.000  600.0  \n",
              "sysBP            144.000  244.0  \n",
              "diaBP             90.000  140.0  \n",
              "BMI               28.025   56.8  \n",
              "heartRate         82.000  143.0  \n",
              "glucose           87.000  394.0  "
            ],
            "text/html": [
              "\n",
              "  <div id=\"df-e1be4e1c-99c5-4e67-b2c2-3d11821fe7cf\">\n",
              "    <div class=\"colab-df-container\">\n",
              "      <div>\n",
              "<style scoped>\n",
              "    .dataframe tbody tr th:only-of-type {\n",
              "        vertical-align: middle;\n",
              "    }\n",
              "\n",
              "    .dataframe tbody tr th {\n",
              "        vertical-align: top;\n",
              "    }\n",
              "\n",
              "    .dataframe thead th {\n",
              "        text-align: right;\n",
              "    }\n",
              "</style>\n",
              "<table border=\"1\" class=\"dataframe\">\n",
              "  <thead>\n",
              "    <tr style=\"text-align: right;\">\n",
              "      <th></th>\n",
              "      <th>count</th>\n",
              "      <th>mean</th>\n",
              "      <th>std</th>\n",
              "      <th>min</th>\n",
              "      <th>25%</th>\n",
              "      <th>50%</th>\n",
              "      <th>75%</th>\n",
              "      <th>max</th>\n",
              "    </tr>\n",
              "  </thead>\n",
              "  <tbody>\n",
              "    <tr>\n",
              "      <th>male</th>\n",
              "      <td>2743.0</td>\n",
              "      <td>0.442581</td>\n",
              "      <td>0.496783</td>\n",
              "      <td>0.00</td>\n",
              "      <td>0.00</td>\n",
              "      <td>0.00</td>\n",
              "      <td>1.000</td>\n",
              "      <td>1.0</td>\n",
              "    </tr>\n",
              "    <tr>\n",
              "      <th>age</th>\n",
              "      <td>2743.0</td>\n",
              "      <td>49.556690</td>\n",
              "      <td>8.542572</td>\n",
              "      <td>32.00</td>\n",
              "      <td>42.00</td>\n",
              "      <td>49.00</td>\n",
              "      <td>56.000</td>\n",
              "      <td>69.0</td>\n",
              "    </tr>\n",
              "    <tr>\n",
              "      <th>education</th>\n",
              "      <td>2743.0</td>\n",
              "      <td>1.977397</td>\n",
              "      <td>1.025673</td>\n",
              "      <td>1.00</td>\n",
              "      <td>1.00</td>\n",
              "      <td>2.00</td>\n",
              "      <td>3.000</td>\n",
              "      <td>4.0</td>\n",
              "    </tr>\n",
              "    <tr>\n",
              "      <th>currentSmoker</th>\n",
              "      <td>2743.0</td>\n",
              "      <td>0.492891</td>\n",
              "      <td>0.500041</td>\n",
              "      <td>0.00</td>\n",
              "      <td>0.00</td>\n",
              "      <td>0.00</td>\n",
              "      <td>1.000</td>\n",
              "      <td>1.0</td>\n",
              "    </tr>\n",
              "    <tr>\n",
              "      <th>cigsPerDay</th>\n",
              "      <td>2743.0</td>\n",
              "      <td>9.130879</td>\n",
              "      <td>12.065256</td>\n",
              "      <td>0.00</td>\n",
              "      <td>0.00</td>\n",
              "      <td>0.00</td>\n",
              "      <td>20.000</td>\n",
              "      <td>70.0</td>\n",
              "    </tr>\n",
              "    <tr>\n",
              "      <th>BPMeds</th>\n",
              "      <td>2743.0</td>\n",
              "      <td>0.030259</td>\n",
              "      <td>0.171330</td>\n",
              "      <td>0.00</td>\n",
              "      <td>0.00</td>\n",
              "      <td>0.00</td>\n",
              "      <td>0.000</td>\n",
              "      <td>1.0</td>\n",
              "    </tr>\n",
              "    <tr>\n",
              "      <th>prevalentStroke</th>\n",
              "      <td>2743.0</td>\n",
              "      <td>0.006198</td>\n",
              "      <td>0.078495</td>\n",
              "      <td>0.00</td>\n",
              "      <td>0.00</td>\n",
              "      <td>0.00</td>\n",
              "      <td>0.000</td>\n",
              "      <td>1.0</td>\n",
              "    </tr>\n",
              "    <tr>\n",
              "      <th>prevalentHyp</th>\n",
              "      <td>2743.0</td>\n",
              "      <td>0.318994</td>\n",
              "      <td>0.466172</td>\n",
              "      <td>0.00</td>\n",
              "      <td>0.00</td>\n",
              "      <td>0.00</td>\n",
              "      <td>1.000</td>\n",
              "      <td>1.0</td>\n",
              "    </tr>\n",
              "    <tr>\n",
              "      <th>diabetes</th>\n",
              "      <td>2743.0</td>\n",
              "      <td>0.025884</td>\n",
              "      <td>0.158818</td>\n",
              "      <td>0.00</td>\n",
              "      <td>0.00</td>\n",
              "      <td>0.00</td>\n",
              "      <td>0.000</td>\n",
              "      <td>1.0</td>\n",
              "    </tr>\n",
              "    <tr>\n",
              "      <th>totChol</th>\n",
              "      <td>2743.0</td>\n",
              "      <td>237.272694</td>\n",
              "      <td>44.273914</td>\n",
              "      <td>113.00</td>\n",
              "      <td>206.00</td>\n",
              "      <td>234.00</td>\n",
              "      <td>264.000</td>\n",
              "      <td>600.0</td>\n",
              "    </tr>\n",
              "    <tr>\n",
              "      <th>sysBP</th>\n",
              "      <td>2743.0</td>\n",
              "      <td>132.598068</td>\n",
              "      <td>22.211483</td>\n",
              "      <td>83.50</td>\n",
              "      <td>117.00</td>\n",
              "      <td>128.00</td>\n",
              "      <td>144.000</td>\n",
              "      <td>244.0</td>\n",
              "    </tr>\n",
              "    <tr>\n",
              "      <th>diaBP</th>\n",
              "      <td>2743.0</td>\n",
              "      <td>83.057419</td>\n",
              "      <td>12.101981</td>\n",
              "      <td>48.00</td>\n",
              "      <td>74.75</td>\n",
              "      <td>82.00</td>\n",
              "      <td>90.000</td>\n",
              "      <td>140.0</td>\n",
              "    </tr>\n",
              "    <tr>\n",
              "      <th>BMI</th>\n",
              "      <td>2743.0</td>\n",
              "      <td>25.799974</td>\n",
              "      <td>4.116782</td>\n",
              "      <td>15.54</td>\n",
              "      <td>23.07</td>\n",
              "      <td>25.38</td>\n",
              "      <td>28.025</td>\n",
              "      <td>56.8</td>\n",
              "    </tr>\n",
              "    <tr>\n",
              "      <th>heartRate</th>\n",
              "      <td>2743.0</td>\n",
              "      <td>75.657310</td>\n",
              "      <td>12.072415</td>\n",
              "      <td>44.00</td>\n",
              "      <td>68.00</td>\n",
              "      <td>75.00</td>\n",
              "      <td>82.000</td>\n",
              "      <td>143.0</td>\n",
              "    </tr>\n",
              "    <tr>\n",
              "      <th>glucose</th>\n",
              "      <td>2743.0</td>\n",
              "      <td>81.767773</td>\n",
              "      <td>24.018676</td>\n",
              "      <td>40.00</td>\n",
              "      <td>71.00</td>\n",
              "      <td>78.00</td>\n",
              "      <td>87.000</td>\n",
              "      <td>394.0</td>\n",
              "    </tr>\n",
              "  </tbody>\n",
              "</table>\n",
              "</div>\n",
              "      <button class=\"colab-df-convert\" onclick=\"convertToInteractive('df-e1be4e1c-99c5-4e67-b2c2-3d11821fe7cf')\"\n",
              "              title=\"Convert this dataframe to an interactive table.\"\n",
              "              style=\"display:none;\">\n",
              "        \n",
              "  <svg xmlns=\"http://www.w3.org/2000/svg\" height=\"24px\"viewBox=\"0 0 24 24\"\n",
              "       width=\"24px\">\n",
              "    <path d=\"M0 0h24v24H0V0z\" fill=\"none\"/>\n",
              "    <path d=\"M18.56 5.44l.94 2.06.94-2.06 2.06-.94-2.06-.94-.94-2.06-.94 2.06-2.06.94zm-11 1L8.5 8.5l.94-2.06 2.06-.94-2.06-.94L8.5 2.5l-.94 2.06-2.06.94zm10 10l.94 2.06.94-2.06 2.06-.94-2.06-.94-.94-2.06-.94 2.06-2.06.94z\"/><path d=\"M17.41 7.96l-1.37-1.37c-.4-.4-.92-.59-1.43-.59-.52 0-1.04.2-1.43.59L10.3 9.45l-7.72 7.72c-.78.78-.78 2.05 0 2.83L4 21.41c.39.39.9.59 1.41.59.51 0 1.02-.2 1.41-.59l7.78-7.78 2.81-2.81c.8-.78.8-2.07 0-2.86zM5.41 20L4 18.59l7.72-7.72 1.47 1.35L5.41 20z\"/>\n",
              "  </svg>\n",
              "      </button>\n",
              "      \n",
              "  <style>\n",
              "    .colab-df-container {\n",
              "      display:flex;\n",
              "      flex-wrap:wrap;\n",
              "      gap: 12px;\n",
              "    }\n",
              "\n",
              "    .colab-df-convert {\n",
              "      background-color: #E8F0FE;\n",
              "      border: none;\n",
              "      border-radius: 50%;\n",
              "      cursor: pointer;\n",
              "      display: none;\n",
              "      fill: #1967D2;\n",
              "      height: 32px;\n",
              "      padding: 0 0 0 0;\n",
              "      width: 32px;\n",
              "    }\n",
              "\n",
              "    .colab-df-convert:hover {\n",
              "      background-color: #E2EBFA;\n",
              "      box-shadow: 0px 1px 2px rgba(60, 64, 67, 0.3), 0px 1px 3px 1px rgba(60, 64, 67, 0.15);\n",
              "      fill: #174EA6;\n",
              "    }\n",
              "\n",
              "    [theme=dark] .colab-df-convert {\n",
              "      background-color: #3B4455;\n",
              "      fill: #D2E3FC;\n",
              "    }\n",
              "\n",
              "    [theme=dark] .colab-df-convert:hover {\n",
              "      background-color: #434B5C;\n",
              "      box-shadow: 0px 1px 3px 1px rgba(0, 0, 0, 0.15);\n",
              "      filter: drop-shadow(0px 1px 2px rgba(0, 0, 0, 0.3));\n",
              "      fill: #FFFFFF;\n",
              "    }\n",
              "  </style>\n",
              "\n",
              "      <script>\n",
              "        const buttonEl =\n",
              "          document.querySelector('#df-e1be4e1c-99c5-4e67-b2c2-3d11821fe7cf button.colab-df-convert');\n",
              "        buttonEl.style.display =\n",
              "          google.colab.kernel.accessAllowed ? 'block' : 'none';\n",
              "\n",
              "        async function convertToInteractive(key) {\n",
              "          const element = document.querySelector('#df-e1be4e1c-99c5-4e67-b2c2-3d11821fe7cf');\n",
              "          const dataTable =\n",
              "            await google.colab.kernel.invokeFunction('convertToInteractive',\n",
              "                                                     [key], {});\n",
              "          if (!dataTable) return;\n",
              "\n",
              "          const docLinkHtml = 'Like what you see? Visit the ' +\n",
              "            '<a target=\"_blank\" href=https://colab.research.google.com/notebooks/data_table.ipynb>data table notebook</a>'\n",
              "            + ' to learn more about interactive tables.';\n",
              "          element.innerHTML = '';\n",
              "          dataTable['output_type'] = 'display_data';\n",
              "          await google.colab.output.renderOutput(dataTable, element);\n",
              "          const docLink = document.createElement('div');\n",
              "          docLink.innerHTML = docLinkHtml;\n",
              "          element.appendChild(docLink);\n",
              "        }\n",
              "      </script>\n",
              "    </div>\n",
              "  </div>\n",
              "  "
            ]
          },
          "metadata": {},
          "execution_count": 46
        }
      ]
    },
    {
      "cell_type": "code",
      "execution_count": null,
      "metadata": {
        "id": "f5d432ae",
        "colab": {
          "base_uri": "https://localhost:8080/",
          "height": 519
        },
        "outputId": "293ceda0-9bcf-4fda-e40d-d25dfaa5d008"
      },
      "outputs": [
        {
          "output_type": "execute_result",
          "data": {
            "text/plain": [
              "                  count          mean       std       min       25%       50%  \\\n",
              "male             2743.0  6.216925e-17  1.000182 -0.891057 -0.891057 -0.891057   \n",
              "age              2743.0  3.348073e-16  1.000182 -2.055574 -0.884753 -0.065178   \n",
              "education        2743.0  7.253079e-17  1.000182 -0.953106 -0.953106  0.022041   \n",
              "currentSmoker    2743.0 -4.533175e-18  1.000182 -0.985882 -0.985882 -0.985882   \n",
              "cigsPerDay       2743.0  2.590385e-17  1.000182 -0.756929 -0.756929 -0.756929   \n",
              "BPMeds           2743.0  4.792213e-17  1.000182 -0.176644 -0.176644 -0.176644   \n",
              "prevalentStroke  2743.0  1.878029e-17  1.000182 -0.078970 -0.078970 -0.078970   \n",
              "prevalentHyp     2743.0 -5.439809e-17  1.000182 -0.684409 -0.684409 -0.684409   \n",
              "diabetes         2743.0 -5.180771e-18  1.000182 -0.163009 -0.163009 -0.163009   \n",
              "totChol          2743.0  2.201828e-16  1.000182 -2.807417 -0.706475 -0.073933   \n",
              "sysBP            2743.0 -5.621136e-16  1.000182 -2.210884 -0.702380 -0.207051   \n",
              "diaBP            2743.0 -1.929837e-16  1.000182 -2.897361 -0.686576 -0.087392   \n",
              "BMI              2743.0 -3.840246e-16  1.000182 -2.492686 -0.663254 -0.102034   \n",
              "heartRate        2743.0 -5.362098e-16  1.000182 -2.622763 -0.634397 -0.054457   \n",
              "glucose          2743.0  2.564482e-16  1.000182 -1.739288 -0.448390 -0.156897   \n",
              "\n",
              "                      75%        max  \n",
              "male             1.122262   1.122262  \n",
              "age              0.754396   2.276464  \n",
              "education        0.997189   1.972336  \n",
              "currentSmoker    1.014321   1.014321  \n",
              "cigsPerDay       0.901026   5.045912  \n",
              "BPMeds          -0.176644   5.661112  \n",
              "prevalentStroke -0.078970  12.663054  \n",
              "prevalentHyp     1.461115   1.461115  \n",
              "diabetes        -0.163009   6.134640  \n",
              "totChol          0.603791   8.194293  \n",
              "sysBP            0.513429   5.016425  \n",
              "diaBP            0.573778   4.706086  \n",
              "BMI              0.540575   7.531532  \n",
              "heartRate        0.525483   5.579246  \n",
              "glucose          0.217880  13.001930  "
            ],
            "text/html": [
              "\n",
              "  <div id=\"df-e72bee8c-c671-4ebc-8cb5-21d78b5dafa3\">\n",
              "    <div class=\"colab-df-container\">\n",
              "      <div>\n",
              "<style scoped>\n",
              "    .dataframe tbody tr th:only-of-type {\n",
              "        vertical-align: middle;\n",
              "    }\n",
              "\n",
              "    .dataframe tbody tr th {\n",
              "        vertical-align: top;\n",
              "    }\n",
              "\n",
              "    .dataframe thead th {\n",
              "        text-align: right;\n",
              "    }\n",
              "</style>\n",
              "<table border=\"1\" class=\"dataframe\">\n",
              "  <thead>\n",
              "    <tr style=\"text-align: right;\">\n",
              "      <th></th>\n",
              "      <th>count</th>\n",
              "      <th>mean</th>\n",
              "      <th>std</th>\n",
              "      <th>min</th>\n",
              "      <th>25%</th>\n",
              "      <th>50%</th>\n",
              "      <th>75%</th>\n",
              "      <th>max</th>\n",
              "    </tr>\n",
              "  </thead>\n",
              "  <tbody>\n",
              "    <tr>\n",
              "      <th>male</th>\n",
              "      <td>2743.0</td>\n",
              "      <td>6.216925e-17</td>\n",
              "      <td>1.000182</td>\n",
              "      <td>-0.891057</td>\n",
              "      <td>-0.891057</td>\n",
              "      <td>-0.891057</td>\n",
              "      <td>1.122262</td>\n",
              "      <td>1.122262</td>\n",
              "    </tr>\n",
              "    <tr>\n",
              "      <th>age</th>\n",
              "      <td>2743.0</td>\n",
              "      <td>3.348073e-16</td>\n",
              "      <td>1.000182</td>\n",
              "      <td>-2.055574</td>\n",
              "      <td>-0.884753</td>\n",
              "      <td>-0.065178</td>\n",
              "      <td>0.754396</td>\n",
              "      <td>2.276464</td>\n",
              "    </tr>\n",
              "    <tr>\n",
              "      <th>education</th>\n",
              "      <td>2743.0</td>\n",
              "      <td>7.253079e-17</td>\n",
              "      <td>1.000182</td>\n",
              "      <td>-0.953106</td>\n",
              "      <td>-0.953106</td>\n",
              "      <td>0.022041</td>\n",
              "      <td>0.997189</td>\n",
              "      <td>1.972336</td>\n",
              "    </tr>\n",
              "    <tr>\n",
              "      <th>currentSmoker</th>\n",
              "      <td>2743.0</td>\n",
              "      <td>-4.533175e-18</td>\n",
              "      <td>1.000182</td>\n",
              "      <td>-0.985882</td>\n",
              "      <td>-0.985882</td>\n",
              "      <td>-0.985882</td>\n",
              "      <td>1.014321</td>\n",
              "      <td>1.014321</td>\n",
              "    </tr>\n",
              "    <tr>\n",
              "      <th>cigsPerDay</th>\n",
              "      <td>2743.0</td>\n",
              "      <td>2.590385e-17</td>\n",
              "      <td>1.000182</td>\n",
              "      <td>-0.756929</td>\n",
              "      <td>-0.756929</td>\n",
              "      <td>-0.756929</td>\n",
              "      <td>0.901026</td>\n",
              "      <td>5.045912</td>\n",
              "    </tr>\n",
              "    <tr>\n",
              "      <th>BPMeds</th>\n",
              "      <td>2743.0</td>\n",
              "      <td>4.792213e-17</td>\n",
              "      <td>1.000182</td>\n",
              "      <td>-0.176644</td>\n",
              "      <td>-0.176644</td>\n",
              "      <td>-0.176644</td>\n",
              "      <td>-0.176644</td>\n",
              "      <td>5.661112</td>\n",
              "    </tr>\n",
              "    <tr>\n",
              "      <th>prevalentStroke</th>\n",
              "      <td>2743.0</td>\n",
              "      <td>1.878029e-17</td>\n",
              "      <td>1.000182</td>\n",
              "      <td>-0.078970</td>\n",
              "      <td>-0.078970</td>\n",
              "      <td>-0.078970</td>\n",
              "      <td>-0.078970</td>\n",
              "      <td>12.663054</td>\n",
              "    </tr>\n",
              "    <tr>\n",
              "      <th>prevalentHyp</th>\n",
              "      <td>2743.0</td>\n",
              "      <td>-5.439809e-17</td>\n",
              "      <td>1.000182</td>\n",
              "      <td>-0.684409</td>\n",
              "      <td>-0.684409</td>\n",
              "      <td>-0.684409</td>\n",
              "      <td>1.461115</td>\n",
              "      <td>1.461115</td>\n",
              "    </tr>\n",
              "    <tr>\n",
              "      <th>diabetes</th>\n",
              "      <td>2743.0</td>\n",
              "      <td>-5.180771e-18</td>\n",
              "      <td>1.000182</td>\n",
              "      <td>-0.163009</td>\n",
              "      <td>-0.163009</td>\n",
              "      <td>-0.163009</td>\n",
              "      <td>-0.163009</td>\n",
              "      <td>6.134640</td>\n",
              "    </tr>\n",
              "    <tr>\n",
              "      <th>totChol</th>\n",
              "      <td>2743.0</td>\n",
              "      <td>2.201828e-16</td>\n",
              "      <td>1.000182</td>\n",
              "      <td>-2.807417</td>\n",
              "      <td>-0.706475</td>\n",
              "      <td>-0.073933</td>\n",
              "      <td>0.603791</td>\n",
              "      <td>8.194293</td>\n",
              "    </tr>\n",
              "    <tr>\n",
              "      <th>sysBP</th>\n",
              "      <td>2743.0</td>\n",
              "      <td>-5.621136e-16</td>\n",
              "      <td>1.000182</td>\n",
              "      <td>-2.210884</td>\n",
              "      <td>-0.702380</td>\n",
              "      <td>-0.207051</td>\n",
              "      <td>0.513429</td>\n",
              "      <td>5.016425</td>\n",
              "    </tr>\n",
              "    <tr>\n",
              "      <th>diaBP</th>\n",
              "      <td>2743.0</td>\n",
              "      <td>-1.929837e-16</td>\n",
              "      <td>1.000182</td>\n",
              "      <td>-2.897361</td>\n",
              "      <td>-0.686576</td>\n",
              "      <td>-0.087392</td>\n",
              "      <td>0.573778</td>\n",
              "      <td>4.706086</td>\n",
              "    </tr>\n",
              "    <tr>\n",
              "      <th>BMI</th>\n",
              "      <td>2743.0</td>\n",
              "      <td>-3.840246e-16</td>\n",
              "      <td>1.000182</td>\n",
              "      <td>-2.492686</td>\n",
              "      <td>-0.663254</td>\n",
              "      <td>-0.102034</td>\n",
              "      <td>0.540575</td>\n",
              "      <td>7.531532</td>\n",
              "    </tr>\n",
              "    <tr>\n",
              "      <th>heartRate</th>\n",
              "      <td>2743.0</td>\n",
              "      <td>-5.362098e-16</td>\n",
              "      <td>1.000182</td>\n",
              "      <td>-2.622763</td>\n",
              "      <td>-0.634397</td>\n",
              "      <td>-0.054457</td>\n",
              "      <td>0.525483</td>\n",
              "      <td>5.579246</td>\n",
              "    </tr>\n",
              "    <tr>\n",
              "      <th>glucose</th>\n",
              "      <td>2743.0</td>\n",
              "      <td>2.564482e-16</td>\n",
              "      <td>1.000182</td>\n",
              "      <td>-1.739288</td>\n",
              "      <td>-0.448390</td>\n",
              "      <td>-0.156897</td>\n",
              "      <td>0.217880</td>\n",
              "      <td>13.001930</td>\n",
              "    </tr>\n",
              "  </tbody>\n",
              "</table>\n",
              "</div>\n",
              "      <button class=\"colab-df-convert\" onclick=\"convertToInteractive('df-e72bee8c-c671-4ebc-8cb5-21d78b5dafa3')\"\n",
              "              title=\"Convert this dataframe to an interactive table.\"\n",
              "              style=\"display:none;\">\n",
              "        \n",
              "  <svg xmlns=\"http://www.w3.org/2000/svg\" height=\"24px\"viewBox=\"0 0 24 24\"\n",
              "       width=\"24px\">\n",
              "    <path d=\"M0 0h24v24H0V0z\" fill=\"none\"/>\n",
              "    <path d=\"M18.56 5.44l.94 2.06.94-2.06 2.06-.94-2.06-.94-.94-2.06-.94 2.06-2.06.94zm-11 1L8.5 8.5l.94-2.06 2.06-.94-2.06-.94L8.5 2.5l-.94 2.06-2.06.94zm10 10l.94 2.06.94-2.06 2.06-.94-2.06-.94-.94-2.06-.94 2.06-2.06.94z\"/><path d=\"M17.41 7.96l-1.37-1.37c-.4-.4-.92-.59-1.43-.59-.52 0-1.04.2-1.43.59L10.3 9.45l-7.72 7.72c-.78.78-.78 2.05 0 2.83L4 21.41c.39.39.9.59 1.41.59.51 0 1.02-.2 1.41-.59l7.78-7.78 2.81-2.81c.8-.78.8-2.07 0-2.86zM5.41 20L4 18.59l7.72-7.72 1.47 1.35L5.41 20z\"/>\n",
              "  </svg>\n",
              "      </button>\n",
              "      \n",
              "  <style>\n",
              "    .colab-df-container {\n",
              "      display:flex;\n",
              "      flex-wrap:wrap;\n",
              "      gap: 12px;\n",
              "    }\n",
              "\n",
              "    .colab-df-convert {\n",
              "      background-color: #E8F0FE;\n",
              "      border: none;\n",
              "      border-radius: 50%;\n",
              "      cursor: pointer;\n",
              "      display: none;\n",
              "      fill: #1967D2;\n",
              "      height: 32px;\n",
              "      padding: 0 0 0 0;\n",
              "      width: 32px;\n",
              "    }\n",
              "\n",
              "    .colab-df-convert:hover {\n",
              "      background-color: #E2EBFA;\n",
              "      box-shadow: 0px 1px 2px rgba(60, 64, 67, 0.3), 0px 1px 3px 1px rgba(60, 64, 67, 0.15);\n",
              "      fill: #174EA6;\n",
              "    }\n",
              "\n",
              "    [theme=dark] .colab-df-convert {\n",
              "      background-color: #3B4455;\n",
              "      fill: #D2E3FC;\n",
              "    }\n",
              "\n",
              "    [theme=dark] .colab-df-convert:hover {\n",
              "      background-color: #434B5C;\n",
              "      box-shadow: 0px 1px 3px 1px rgba(0, 0, 0, 0.15);\n",
              "      filter: drop-shadow(0px 1px 2px rgba(0, 0, 0, 0.3));\n",
              "      fill: #FFFFFF;\n",
              "    }\n",
              "  </style>\n",
              "\n",
              "      <script>\n",
              "        const buttonEl =\n",
              "          document.querySelector('#df-e72bee8c-c671-4ebc-8cb5-21d78b5dafa3 button.colab-df-convert');\n",
              "        buttonEl.style.display =\n",
              "          google.colab.kernel.accessAllowed ? 'block' : 'none';\n",
              "\n",
              "        async function convertToInteractive(key) {\n",
              "          const element = document.querySelector('#df-e72bee8c-c671-4ebc-8cb5-21d78b5dafa3');\n",
              "          const dataTable =\n",
              "            await google.colab.kernel.invokeFunction('convertToInteractive',\n",
              "                                                     [key], {});\n",
              "          if (!dataTable) return;\n",
              "\n",
              "          const docLinkHtml = 'Like what you see? Visit the ' +\n",
              "            '<a target=\"_blank\" href=https://colab.research.google.com/notebooks/data_table.ipynb>data table notebook</a>'\n",
              "            + ' to learn more about interactive tables.';\n",
              "          element.innerHTML = '';\n",
              "          dataTable['output_type'] = 'display_data';\n",
              "          await google.colab.output.renderOutput(dataTable, element);\n",
              "          const docLink = document.createElement('div');\n",
              "          docLink.innerHTML = docLinkHtml;\n",
              "          element.appendChild(docLink);\n",
              "        }\n",
              "      </script>\n",
              "    </div>\n",
              "  </div>\n",
              "  "
            ]
          },
          "metadata": {},
          "execution_count": 47
        }
      ],
      "source": [
        "X_train_std.describe().T"
      ],
      "id": "f5d432ae"
    },
    {
      "cell_type": "markdown",
      "metadata": {
        "id": "b07d7b71"
      },
      "source": [
        "## 1. Modelo de Regresión Logística"
      ],
      "id": "b07d7b71"
    },
    {
      "cell_type": "code",
      "execution_count": null,
      "metadata": {
        "id": "9d85c2b2"
      },
      "outputs": [],
      "source": [
        "#Instanciamos el modelo de Regresion logistica y lo entrenamos. Almacenamos las predicciones\n",
        "lr = LogisticRegression(penalty='l2', # Hiperparámetro de regularización\n",
        "                        class_weight='balanced' # Hiperparámetro que modifica el peso de los datos para contemplar el desbalance de clases\n",
        "                       )\n",
        "lr.fit(X_train_std, y_train)\n",
        "\n",
        "y_train_pred = lr.predict(X_train_std)"
      ],
      "id": "9d85c2b2"
    },
    {
      "cell_type": "code",
      "source": [
        "# Función para generar un reporte general del clasificador + matriz de confusión:\n",
        "\n",
        "def clf_report(model, X = X_train, y = y_train, y_pred = None):\n",
        "\n",
        "  model_name = model.__class__.__name__\n",
        "  if y_pred is None:\n",
        "    y_pred = model.predict(X)\n",
        "\n",
        "  sns.heatmap(confusion_matrix(y, y_pred), annot=True, cmap='PuBu', fmt='0.0f', linewidths=0.25,\n",
        "             annot_kws={'size':13} )\n",
        "  plt.xlabel('Predichos')\n",
        "  plt.ylabel('Reales')\n",
        "\n",
        "  print('Accuracy del modelo de ' + model_name + ' :   ', accuracy_score(y, y_pred).round(3))\n",
        "  print('Recall del modelo de ' + model_name + ' :     ', recall_score(y, y_pred).round(3))\n",
        "\n",
        "  print('Rporte del modelo de ' + model_name + ' :   \\n', classification_report(y, y_pred))"
      ],
      "metadata": {
        "id": "QYq7QG6_5enz"
      },
      "id": "QYq7QG6_5enz",
      "execution_count": null,
      "outputs": []
    },
    {
      "cell_type": "code",
      "execution_count": null,
      "metadata": {
        "id": "8597d19f",
        "outputId": "e9434937-8bb7-4102-d9c0-e97aec6f8c13",
        "colab": {
          "base_uri": "https://localhost:8080/",
          "height": 487
        }
      },
      "outputs": [
        {
          "output_type": "stream",
          "name": "stdout",
          "text": [
            "Accuracy del modelo de LogisticRegression :    0.671\n",
            "Recall del modelo de LogisticRegression :      0.67\n",
            "Rporte del modelo de LogisticRegression :   \n",
            "               precision    recall  f1-score   support\n",
            "\n",
            "           0       0.92      0.67      0.78      2325\n",
            "           1       0.27      0.67      0.38       418\n",
            "\n",
            "    accuracy                           0.67      2743\n",
            "   macro avg       0.59      0.67      0.58      2743\n",
            "weighted avg       0.82      0.67      0.72      2743\n",
            "\n"
          ]
        },
        {
          "output_type": "display_data",
          "data": {
            "text/plain": [
              "<Figure size 432x288 with 2 Axes>"
            ],
            "image/png": "[encoded data removed]"
          },
          "metadata": {
            "needs_background": "light"
          }
        }
      ],
      "source": [
        "# Imprimimos resumen de metricas y la matriz de confusion\n",
        "\n",
        "clf_report(lr, X = X_train_std)"
      ],
      "id": "8597d19f"
    },
    {
      "cell_type": "code",
      "source": [],
      "metadata": {
        "id": "3oQ64Avg6osJ"
      },
      "id": "3oQ64Avg6osJ",
      "execution_count": null,
      "outputs": []
    },
    {
      "cell_type": "markdown",
      "source": [
        "#### Observar el valor particularmente bajo para la presición de la clase 1"
      ],
      "metadata": {
        "id": "lRuNwKfF6pvu"
      },
      "id": "lRuNwKfF6pvu"
    },
    {
      "cell_type": "code",
      "source": [],
      "metadata": {
        "id": "JxZefj03A3eR"
      },
      "id": "JxZefj03A3eR",
      "execution_count": null,
      "outputs": []
    },
    {
      "cell_type": "markdown",
      "metadata": {
        "id": "4daf7045"
      },
      "source": [
        "+ ### Cambio en las métricas en función del umbral elegido"
      ],
      "id": "4daf7045"
    },
    {
      "cell_type": "code",
      "execution_count": null,
      "metadata": {
        "id": "dde4bee6"
      },
      "outputs": [],
      "source": [
        "# Realizamos predicciones con un umbral distinto al que se establece por defecto (0.5)\n",
        "umbral = 0.7 # Elegimos el umbral\n",
        "probs = lr.predict_proba(X_train_std)[:,1] # Calculamos las probabilidades con el método .predict_proba\n",
        "y_pred_train_umbral = probs > umbral # Calculamos las predicciones"
      ],
      "id": "dde4bee6"
    },
    {
      "cell_type": "code",
      "execution_count": null,
      "metadata": {
        "id": "33c80ed8",
        "outputId": "8f29a04e-a9bf-438a-b8bb-17fc1abc9c60",
        "colab": {
          "base_uri": "https://localhost:8080/",
          "height": 487
        }
      },
      "outputs": [
        {
          "output_type": "stream",
          "name": "stdout",
          "text": [
            "Accuracy del modelo de LogisticRegression :    0.82\n",
            "Recall del modelo de LogisticRegression :      0.297\n",
            "Rporte del modelo de LogisticRegression :   \n",
            "               precision    recall  f1-score   support\n",
            "\n",
            "           0       0.88      0.91      0.90      2325\n",
            "           1       0.38      0.30      0.33       418\n",
            "\n",
            "    accuracy                           0.82      2743\n",
            "   macro avg       0.63      0.61      0.62      2743\n",
            "weighted avg       0.80      0.82      0.81      2743\n",
            "\n"
          ]
        },
        {
          "output_type": "display_data",
          "data": {
            "text/plain": [
              "<Figure size 432x288 with 2 Axes>"
            ],
            "image/png": "[encoded data removed]"
          },
          "metadata": {
            "needs_background": "light"
          }
        }
      ],
      "source": [
        "# Imprimimos resumen de metricas y la matriz de confusion\n",
        "clf_report(lr, X = X_train_std, y_pred = y_pred_train_umbral)"
      ],
      "id": "33c80ed8"
    },
    {
      "cell_type": "markdown",
      "source": [
        "#### Podemos observar una mejora en el valor de presición para la clase 1, pero a costa de perder recall para la misma clase y presición de la clase 0 (aunque esto último en menor medida)\n",
        "#### ¿Qué ocurre si utilizamos un umbral menor a 0.5?"
      ],
      "metadata": {
        "id": "rnn0Qu087Xn2"
      },
      "id": "rnn0Qu087Xn2"
    },
    {
      "cell_type": "code",
      "source": [],
      "metadata": {
        "id": "K892AKus7WVX"
      },
      "id": "K892AKus7WVX",
      "execution_count": null,
      "outputs": []
    },
    {
      "cell_type": "markdown",
      "metadata": {
        "id": "07d6cf67"
      },
      "source": [
        "+ ### ¿Cómo se comporta el modelo en testeo?"
      ],
      "id": "07d6cf67"
    },
    {
      "cell_type": "code",
      "execution_count": null,
      "metadata": {
        "id": "aea5ba19"
      },
      "outputs": [],
      "source": [
        "# Y ahora hacemos predicciones en testeo con el umbral elegido\n",
        "probs = lr.predict_proba(X_test_std)[:,1]\n",
        "y_pred_test_umbral = probs > umbral"
      ],
      "id": "aea5ba19"
    },
    {
      "cell_type": "code",
      "execution_count": null,
      "metadata": {
        "id": "44b63cfe",
        "outputId": "0d523e41-56fb-4fe3-c369-e7d1223313ae",
        "colab": {
          "base_uri": "https://localhost:8080/",
          "height": 487
        }
      },
      "outputs": [
        {
          "output_type": "stream",
          "name": "stdout",
          "text": [
            "Accuracy del modelo de LogisticRegression :    0.823\n",
            "Recall del modelo de LogisticRegression :      0.281\n",
            "Rporte del modelo de LogisticRegression :   \n",
            "               precision    recall  f1-score   support\n",
            "\n",
            "           0       0.88      0.92      0.90       776\n",
            "           1       0.39      0.28      0.33       139\n",
            "\n",
            "    accuracy                           0.82       915\n",
            "   macro avg       0.63      0.60      0.61       915\n",
            "weighted avg       0.80      0.82      0.81       915\n",
            "\n"
          ]
        },
        {
          "output_type": "display_data",
          "data": {
            "text/plain": [
              "<Figure size 432x288 with 2 Axes>"
            ],
            "image/png": "[encoded data removed]"
          },
          "metadata": {
            "needs_background": "light"
          }
        }
      ],
      "source": [
        "# Imprimimos resumen de metricas y la matriz de confusión\n",
        "clf_report(lr, X = X_test_std, y = y_test, y_pred = y_pred_test_umbral)"
      ],
      "id": "44b63cfe"
    },
    {
      "cell_type": "code",
      "execution_count": null,
      "metadata": {
        "id": "f778f8cf"
      },
      "outputs": [],
      "source": [],
      "id": "f778f8cf"
    },
    {
      "cell_type": "markdown",
      "metadata": {
        "id": "7163beea"
      },
      "source": [
        "## 2. Modelo de Naive Bayes"
      ],
      "id": "7163beea"
    },
    {
      "cell_type": "code",
      "execution_count": null,
      "metadata": {
        "id": "a1520fe4"
      },
      "outputs": [],
      "source": [
        "# Instanciamos el modelo de Naive Bayes y lo entrenamos. Almacenamos las predicciones\n",
        "gnb = GaussianNB()\n",
        "\n",
        "gnb.fit(X_train, y_train)\n",
        "\n",
        "y_train_pred_gnb = gnb.predict(X_train)"
      ],
      "id": "a1520fe4"
    },
    {
      "cell_type": "code",
      "execution_count": null,
      "metadata": {
        "id": "7e97fe36",
        "colab": {
          "base_uri": "https://localhost:8080/",
          "height": 487
        },
        "outputId": "7d0bb459-6273-4253-8cc8-af32789d4355"
      },
      "outputs": [
        {
          "output_type": "stream",
          "name": "stdout",
          "text": [
            "Accuracy del modelo de GaussianNB :    0.82\n",
            "Recall del modelo de GaussianNB :      0.213\n",
            "Rporte del modelo de GaussianNB :   \n",
            "               precision    recall  f1-score   support\n",
            "\n",
            "           0       0.87      0.93      0.90      2325\n",
            "           1       0.35      0.21      0.27       418\n",
            "\n",
            "    accuracy                           0.82      2743\n",
            "   macro avg       0.61      0.57      0.58      2743\n",
            "weighted avg       0.79      0.82      0.80      2743\n",
            "\n"
          ]
        },
        {
          "output_type": "display_data",
          "data": {
            "text/plain": [
              "<Figure size 432x288 with 2 Axes>"
            ],
            "image/png": "[encoded data removed]"
          },
          "metadata": {
            "needs_background": "light"
          }
        }
      ],
      "source": [
        "# Imprimimos resumen de metricas y la matriz de confusión\n",
        "clf_report(gnb)"
      ],
      "id": "7e97fe36"
    },
    {
      "cell_type": "code",
      "source": [],
      "metadata": {
        "id": "GtDW65GN9QGX"
      },
      "id": "GtDW65GN9QGX",
      "execution_count": null,
      "outputs": []
    },
    {
      "cell_type": "markdown",
      "source": [
        "##### Para entender un poco mejor como funciona el umbral de desición del modelo, vamos a graficar el histograma de la clase 1 y la clase 0, en función de la probabilidad que el modelo predice para cada clase:\n"
      ],
      "metadata": {
        "id": "A5o8qQeY9Q3g"
      },
      "id": "A5o8qQeY9Q3g"
    },
    {
      "cell_type": "code",
      "execution_count": null,
      "metadata": {
        "id": "6f1abdaf",
        "outputId": "24295383-749a-4151-b6d6-118f7577223c",
        "colab": {
          "base_uri": "https://localhost:8080/",
          "height": 337
        }
      },
      "outputs": [
        {
          "output_type": "execute_result",
          "data": {
            "text/plain": [
              "<matplotlib.legend.Legend at 0x7f153701e310>"
            ]
          },
          "metadata": {},
          "execution_count": 70
        },
        {
          "output_type": "display_data",
          "data": {
            "text/plain": [
              "<Figure size 936x360 with 1 Axes>"
            ],
            "image/png": "[encoded data removed]"
          },
          "metadata": {
            "needs_background": "light"
          }
        }
      ],
      "source": [
        "# Histograma de probabilidades\n",
        "fig, ax01 = plt.subplots(1,1 , figsize=(13,5))\n",
        "sns.histplot(data = gnb.predict_proba(X_train[y_train==0])[:,1], stat = 'density', ax=ax01)\n",
        "sns.histplot(data = gnb.predict_proba(X_train[y_train==1])[:,1], stat = 'density', color = 'orange', ax=ax01)\n",
        "ylim = plt.ylim()\n",
        "plt.vlines(0.5, ylim[0], ylim[1])\n",
        "plt.ylim(ylim)\n",
        "plt.legend(['Umbral', 'TenYearCHD = 0', 'TenYearCHD = 1'])"
      ],
      "id": "6f1abdaf"
    },
    {
      "cell_type": "markdown",
      "source": [
        " ##### El modelo produce una mejor separación mientras mas separados se encuentren los histogramas de cada clase. En el caso de que las clases esten separadas pero para un valor distinto del umbral por defecto (0.5) solo basta con modificar el umbral de desición para mejorar la performance del modelo"
      ],
      "metadata": {
        "id": "ssrGSPKP9dhi"
      },
      "id": "ssrGSPKP9dhi"
    },
    {
      "cell_type": "code",
      "source": [],
      "metadata": {
        "id": "OAcJA4TM9ePT"
      },
      "id": "OAcJA4TM9ePT",
      "execution_count": null,
      "outputs": []
    },
    {
      "cell_type": "markdown",
      "metadata": {
        "id": "813f3072"
      },
      "source": [
        "+ ### Comportamiento en entrenamiento para un umbral distinto de 0.5"
      ],
      "id": "813f3072"
    },
    {
      "cell_type": "code",
      "execution_count": null,
      "metadata": {
        "id": "5a36ceb9"
      },
      "outputs": [],
      "source": [
        "# Realizamos predicciones con un umbral distinto al que se establece por defecto (0.5)\n",
        "umbral = 0.035 # Elegimos el umbral (en este caso ayudándonos con el gráfico de histogramas de arriba)\n",
        "probs = gnb.predict_proba(X_train)[:,1] # Calculamos las probabilidades con el método .predict_proba\n",
        "y_pred_train_gnb_umbral = probs > umbral # Calculamos las predicciones\n"
      ],
      "id": "5a36ceb9"
    },
    {
      "cell_type": "code",
      "execution_count": null,
      "metadata": {
        "id": "1ddf13cd",
        "outputId": "1e55c387-a0eb-4b4c-bf39-0cc0e9ad8b88",
        "colab": {
          "base_uri": "https://localhost:8080/",
          "height": 487
        }
      },
      "outputs": [
        {
          "output_type": "stream",
          "name": "stdout",
          "text": [
            "Accuracy del modelo de GaussianNB :    0.728\n",
            "Recall del modelo de GaussianNB :      0.514\n",
            "Rporte del modelo de GaussianNB :   \n",
            "               precision    recall  f1-score   support\n",
            "\n",
            "           0       0.90      0.77      0.83      2325\n",
            "           1       0.28      0.51      0.37       418\n",
            "\n",
            "    accuracy                           0.73      2743\n",
            "   macro avg       0.59      0.64      0.60      2743\n",
            "weighted avg       0.80      0.73      0.76      2743\n",
            "\n"
          ]
        },
        {
          "output_type": "display_data",
          "data": {
            "text/plain": [
              "<Figure size 432x288 with 2 Axes>"
            ],
            "image/png": "[encoded data removed]"
          },
          "metadata": {
            "needs_background": "light"
          }
        }
      ],
      "source": [
        "# Imprimimos resumen de metricas y la matriz de confusión\n",
        "clf_report(gnb, y_pred = y_pred_train_gnb_umbral)"
      ],
      "id": "1ddf13cd"
    },
    {
      "cell_type": "markdown",
      "metadata": {
        "id": "0fc57cf0"
      },
      "source": [
        "+ ### Comportamiento en testeo para el umbral elegido"
      ],
      "id": "0fc57cf0"
    },
    {
      "cell_type": "code",
      "execution_count": null,
      "metadata": {
        "id": "d1ac6daf"
      },
      "outputs": [],
      "source": [
        "# Y ahora hacemos predicciones en testeo con el umbral elegido\n",
        "probs = gnb.predict_proba(X_test)[:,1]\n",
        "y_pred_test_gnb_umbral = probs > umbral"
      ],
      "id": "d1ac6daf"
    },
    {
      "cell_type": "code",
      "execution_count": null,
      "metadata": {
        "id": "ab01b665",
        "outputId": "d906658e-7ae1-4977-a0fc-cbb62691f3b7",
        "colab": {
          "base_uri": "https://localhost:8080/",
          "height": 487
        }
      },
      "outputs": [
        {
          "output_type": "stream",
          "name": "stdout",
          "text": [
            "Accuracy del modelo de GaussianNB :    0.753\n",
            "Recall del modelo de GaussianNB :      0.504\n",
            "Rporte del modelo de GaussianNB :   \n",
            "               precision    recall  f1-score   support\n",
            "\n",
            "           0       0.90      0.80      0.85       776\n",
            "           1       0.31      0.50      0.38       139\n",
            "\n",
            "    accuracy                           0.75       915\n",
            "   macro avg       0.60      0.65      0.61       915\n",
            "weighted avg       0.81      0.75      0.78       915\n",
            "\n"
          ]
        },
        {
          "output_type": "display_data",
          "data": {
            "text/plain": [
              "<Figure size 432x288 with 2 Axes>"
            ],
            "image/png": "[encoded data removed]"
          },
          "metadata": {
            "needs_background": "light"
          }
        }
      ],
      "source": [
        "# Imprimimos resumen de metricas y la matriz de confusión\n",
        "clf_report(gnb, X = X_test, y = y_test, y_pred = y_pred_test_gnb_umbral)"
      ],
      "id": "ab01b665"
    },
    {
      "cell_type": "markdown",
      "metadata": {
        "id": "2690ec3d"
      },
      "source": [
        "## 3. Modelo de AdaBoost"
      ],
      "id": "2690ec3d"
    },
    {
      "cell_type": "code",
      "execution_count": null,
      "metadata": {
        "id": "344ee0ee"
      },
      "outputs": [],
      "source": [
        "#Instanciamos el modelo base (un árbol de desición en este caso) y el modelo de ensamble (AdaBoost). Lo entrenamos y almacenamos las predicciones.\n",
        "\n",
        "# Modelo base\n",
        "dtc = DecisionTreeClassifier(max_depth = 2,\n",
        "                             min_samples_split = 6)\n",
        "\n",
        "# AdaBoost (Ensamble)\n",
        "ada = AdaBoostClassifier(base_estimator = dtc,\n",
        "                         n_estimators = 650, #80\n",
        "                         learning_rate = 0.7)"
      ],
      "id": "344ee0ee"
    },
    {
      "cell_type": "code",
      "execution_count": null,
      "metadata": {
        "id": "cf2086f5"
      },
      "outputs": [],
      "source": [
        "ada.fit(X_train, y_train) # Entrenamiento\n",
        "\n",
        "y_train_pred_ada = ada.predict(X_train) # Predicción"
      ],
      "id": "cf2086f5"
    },
    {
      "cell_type": "code",
      "source": [
        "# Imprimimos resumen de metricas y la matriz de confusión\n",
        "clf_report(ada)"
      ],
      "metadata": {
        "colab": {
          "base_uri": "https://localhost:8080/",
          "height": 487
        },
        "id": "5-LcdKG0_lV-",
        "outputId": "b0fdb5c3-e3cf-4eb1-e16f-0ac4954cf20c"
      },
      "id": "5-LcdKG0_lV-",
      "execution_count": null,
      "outputs": [
        {
          "output_type": "stream",
          "name": "stdout",
          "text": [
            "Accuracy del modelo de AdaBoostClassifier :    1.0\n",
            "Recall del modelo de AdaBoostClassifier :      1.0\n",
            "Rporte del modelo de AdaBoostClassifier :   \n",
            "               precision    recall  f1-score   support\n",
            "\n",
            "           0       1.00      1.00      1.00      2325\n",
            "           1       1.00      1.00      1.00       418\n",
            "\n",
            "    accuracy                           1.00      2743\n",
            "   macro avg       1.00      1.00      1.00      2743\n",
            "weighted avg       1.00      1.00      1.00      2743\n",
            "\n"
          ]
        },
        {
          "output_type": "display_data",
          "data": {
            "text/plain": [
              "<Figure size 432x288 with 2 Axes>"
            ],
            "image/png": "[encoded data removed]"
          },
          "metadata": {
            "needs_background": "light"
          }
        }
      ]
    },
    {
      "cell_type": "markdown",
      "source": [
        "##### ¿Qué ocurrión con el modelo?, ¿por qué las métricas son perfectas?"
      ],
      "metadata": {
        "id": "ZlJKMrC3_uJ2"
      },
      "id": "ZlJKMrC3_uJ2"
    },
    {
      "cell_type": "code",
      "source": [
        "# Imprimimos resumen de metricas y la matriz de confusión para el dataset de teste\n",
        "clf_report(gnb, X = X_test, y = y_test)"
      ],
      "metadata": {
        "colab": {
          "base_uri": "https://localhost:8080/",
          "height": 487
        },
        "id": "5vtG1-dI_1ye",
        "outputId": "849d6261-b5a2-4078-b110-2e838cd7afcd"
      },
      "id": "5vtG1-dI_1ye",
      "execution_count": null,
      "outputs": [
        {
          "output_type": "stream",
          "name": "stdout",
          "text": [
            "Accuracy del modelo de GaussianNB :    0.83\n",
            "Recall del modelo de GaussianNB :      0.223\n",
            "Rporte del modelo de GaussianNB :   \n",
            "               precision    recall  f1-score   support\n",
            "\n",
            "           0       0.87      0.94      0.90       776\n",
            "           1       0.39      0.22      0.28       139\n",
            "\n",
            "    accuracy                           0.83       915\n",
            "   macro avg       0.63      0.58      0.59       915\n",
            "weighted avg       0.80      0.83      0.81       915\n",
            "\n"
          ]
        },
        {
          "output_type": "display_data",
          "data": {
            "text/plain": [
              "<Figure size 432x288 with 2 Axes>"
            ],
            "image/png": "[encoded data removed]"
          },
          "metadata": {
            "needs_background": "light"
          }
        }
      ]
    },
    {
      "cell_type": "markdown",
      "source": [
        "##### Podemos ver claramente que el modelo no performa igualmente bien en testeo. Ésto es un claro síntoma de overfitting!"
      ],
      "metadata": {
        "id": "brrxP72FABsf"
      },
      "id": "brrxP72FABsf"
    },
    {
      "cell_type": "markdown",
      "source": [
        "##### Grafiquemos los histogramas en función de la probabilidad predicha para el set de entrenamiento"
      ],
      "metadata": {
        "id": "HhM60scLAMBo"
      },
      "id": "HhM60scLAMBo"
    },
    {
      "cell_type": "code",
      "execution_count": null,
      "metadata": {
        "id": "8a608c6d",
        "outputId": "fa762960-29c7-4bb2-d2ea-14f9a9a5c9ee",
        "colab": {
          "base_uri": "https://localhost:8080/",
          "height": 337
        }
      },
      "outputs": [
        {
          "output_type": "execute_result",
          "data": {
            "text/plain": [
              "<matplotlib.legend.Legend at 0x7f153691bb20>"
            ]
          },
          "metadata": {},
          "execution_count": 94
        },
        {
          "output_type": "display_data",
          "data": {
            "text/plain": [
              "<Figure size 936x360 with 1 Axes>"
            ],
            "image/png": "[encoded data removed]"
          },
          "metadata": {
            "needs_background": "light"
          }
        }
      ],
      "source": [
        "# Histograma de probabilidades\n",
        "fig, ax01 = plt.subplots(1,1 , figsize=(13,5))\n",
        "sns.histplot(data = ada.predict_proba(X_train[y_train==0])[:,1], stat = 'density', ax=ax01)\n",
        "sns.histplot(data = ada.predict_proba(X_train[y_train==1])[:,1], stat = 'density', color = 'orange', ax=ax01)\n",
        "ylim = plt.ylim()\n",
        "plt.vlines(0.2, ylim[0], ylim[1])\n",
        "plt.ylim(ylim)\n",
        "plt.xlim(0, 1)\n",
        "plt.legend(['Umbral', 'TenYearCHD = 0', 'TenYearCHD = 1'])"
      ],
      "id": "8a608c6d"
    },
    {
      "cell_type": "markdown",
      "source": [
        "##### Podemos ver que los histogramas están perfectamente separados (el modelo hizo una clasificación perfecta para el data set de entrenamiento). Resultado que es muy diferente para el dataset de testeo."
      ],
      "metadata": {
        "id": "2Asc54VfAUIw"
      },
      "id": "2Asc54VfAUIw"
    },
    {
      "cell_type": "code",
      "source": [],
      "metadata": {
        "id": "8MR57Ir8AURi"
      },
      "id": "8MR57Ir8AURi",
      "execution_count": null,
      "outputs": []
    },
    {
      "cell_type": "code",
      "execution_count": null,
      "metadata": {
        "id": "058e0205"
      },
      "outputs": [],
      "source": [],
      "id": "058e0205"
    },
    {
      "cell_type": "markdown",
      "metadata": {
        "id": "450b2ba9"
      },
      "source": [
        "## 4.Optimización de hiperparámetros"
      ],
      "id": "450b2ba9"
    },
    {
      "cell_type": "code",
      "execution_count": null,
      "metadata": {
        "id": "51a1c72f"
      },
      "outputs": [],
      "source": [
        "# Al igual que antes, instanciamos el modelo que se quiera optimizar en sus hiperparámetros con GridSearch\n",
        "# En ésta instancia SOLO deben ingresarse hiperparámetros que NO SERAN optimizados, y con un valor distinto al que se asigna por defecto (de lo contrario no tendrá diferencia)\n",
        "dtc = DecisionTreeClassifier()\n",
        "\n",
        "#lrc = LogisticRegression(penalty='l2', C=1.0, class_weight='balanced', solver='saga', tol=0.001, max_iter=1500)\n",
        "\n",
        "ada = AdaBoostClassifier(base_estimator = dtc)"
      ],
      "id": "51a1c72f"
    },
    {
      "cell_type": "code",
      "execution_count": null,
      "metadata": {
        "id": "cfc60cb9"
      },
      "outputs": [],
      "source": [
        "# Instanciamos la grilla de hiperparámetros\n",
        "param_grid = {'base_estimator__max_depth': [2, 3, 5],\n",
        "              'base_estimator__min_samples_split': [6, 24, 96],\n",
        "              'base_estimator__max_features': [None, 10, 6],\n",
        "              'base_estimator__class_weight': [None, 'balanced'],\n",
        "              'base_estimator__splitter': [\"best\", \"random\"],\n",
        "              'n_estimators': [10, 30, 100],\n",
        "              'learning_rate': [0.3, 0.5, 0.7]\n",
        "             }\n",
        "# Notar que para modelos de ensamble, tanto los hiperparámetros del modelo base como los del ensamble en sí mismo pueden ser ingresados en esta grilla"
      ],
      "id": "cfc60cb9"
    },
    {
      "cell_type": "code",
      "execution_count": null,
      "metadata": {
        "id": "fc65e57a"
      },
      "outputs": [],
      "source": [
        "# Instanciamos un objeto GridSearch, al cual ingresamos el modelo objeto, el scoring a mazimizar, y el valor cv (cross validation folds)\n",
        "#scorer = make_scorer(fbeta_score, beta=4)\n",
        "\n",
        "grid_obj = GridSearchCV(ada, param_grid, scoring = 'recall', n_jobs=-1, verbose=1, cv=3)\n",
        "# Para indagar mas sobre los parámetros disponibles de esta funcion, citar la documentación"
      ],
      "id": "fc65e57a"
    },
    {
      "cell_type": "code",
      "execution_count": null,
      "metadata": {
        "id": "8395e5e2",
        "outputId": "3739c855-9343-4bb1-a9b0-2089237021bd",
        "colab": {
          "base_uri": "https://localhost:8080/"
        }
      },
      "outputs": [
        {
          "output_type": "stream",
          "name": "stdout",
          "text": [
            "Fitting 3 folds for each of 972 candidates, totalling 2916 fits\n"
          ]
        }
      ],
      "source": [
        "# Entrenamos el objeto gridsearch\n",
        "grid_fit = grid_obj.fit(X_train, y_train)\n",
        "# Notar la diferencia de tiempo de entrenamiento respecto a los modelos anteriores"
      ],
      "id": "8395e5e2"
    },
    {
      "cell_type": "code",
      "execution_count": null,
      "metadata": {
        "id": "630b0515",
        "outputId": "7b9d2f96-05ae-49d2-b2fc-1332af51508d",
        "colab": {
          "base_uri": "https://localhost:8080/"
        }
      },
      "outputs": [
        {
          "output_type": "stream",
          "name": "stdout",
          "text": [
            "{'base_estimator__class_weight': 'balanced', 'base_estimator__max_depth': 2, 'base_estimator__max_features': None, 'base_estimator__min_samples_split': 6, 'base_estimator__splitter': 'random', 'learning_rate': 0.7, 'n_estimators': 10}\n",
            "0.6913497773210003\n"
          ]
        }
      ],
      "source": [
        "# Imprimimos un resumen del estimador optimizado y lo instanciamos en un nuevo objeto\n",
        "best_ada = grid_fit.best_estimator_ # Instancia del mejor modelo\n",
        "print(grid_fit.best_params_) # Hiperparámetros del mejor modelo entrenado por gridsearch\n",
        "print(grid_fit.best_score_)# Score del mejor modelo entrenado por gridsearch\n",
        "y_train_pred_ada_opt = best_ada.predict(X_train) # Predicción en entrenamiento\n",
        "y_test_pred_ada_opt = best_ada.predict(X_test) # Predicción en testeo"
      ],
      "id": "630b0515"
    },
    {
      "cell_type": "code",
      "execution_count": null,
      "metadata": {
        "id": "ccb9fc2b"
      },
      "outputs": [],
      "source": [],
      "id": "ccb9fc2b"
    },
    {
      "cell_type": "code",
      "execution_count": null,
      "metadata": {
        "id": "ae587eba",
        "outputId": "be412fd4-6f1a-4bba-866a-108e7ff34709",
        "colab": {
          "base_uri": "https://localhost:8080/",
          "height": 487
        }
      },
      "outputs": [
        {
          "output_type": "stream",
          "name": "stdout",
          "text": [
            "Accuracy del modelo de AdaBoostClassifier :    0.655\n",
            "Recall del modelo de AdaBoostClassifier :      0.701\n",
            "Rporte del modelo de AdaBoostClassifier :   \n",
            "               precision    recall  f1-score   support\n",
            "\n",
            "           0       0.92      0.65      0.76      2325\n",
            "           1       0.26      0.70      0.38       418\n",
            "\n",
            "    accuracy                           0.66      2743\n",
            "   macro avg       0.59      0.67      0.57      2743\n",
            "weighted avg       0.82      0.66      0.70      2743\n",
            "\n"
          ]
        },
        {
          "output_type": "display_data",
          "data": {
            "text/plain": [
              "<Figure size 432x288 with 2 Axes>"
            ],
            "image/png": "[encoded data removed]"
          },
          "metadata": {
            "needs_background": "light"
          }
        }
      ],
      "source": [
        "# Imprimimos resumen de metricas y la matriz de confusión para el dataset de teste\n",
        "clf_report(best_ada)"
      ],
      "id": "ae587eba"
    },
    {
      "cell_type": "code",
      "execution_count": null,
      "metadata": {
        "id": "ecc16624",
        "colab": {
          "base_uri": "https://localhost:8080/",
          "height": 487
        },
        "outputId": "e4ceaa4e-9003-4008-e33b-34013777785d"
      },
      "outputs": [
        {
          "output_type": "stream",
          "name": "stdout",
          "text": [
            "Accuracy del modelo de AdaBoostClassifier :    0.677\n",
            "Recall del modelo de AdaBoostClassifier :      0.705\n",
            "Rporte del modelo de AdaBoostClassifier :   \n",
            "               precision    recall  f1-score   support\n",
            "\n",
            "           0       0.93      0.67      0.78       776\n",
            "           1       0.28      0.71      0.40       139\n",
            "\n",
            "    accuracy                           0.68       915\n",
            "   macro avg       0.60      0.69      0.59       915\n",
            "weighted avg       0.83      0.68      0.72       915\n",
            "\n"
          ]
        },
        {
          "output_type": "display_data",
          "data": {
            "text/plain": [
              "<Figure size 432x288 with 2 Axes>"
            ],
            "image/png": "[encoded data removed]"
          },
          "metadata": {
            "needs_background": "light"
          }
        }
      ],
      "source": [
        "# Imprimimos resumen de metricas y la matriz de confusión para el dataset de teste\n",
        "clf_report(best_ada, X = X_test, y = y_test)"
      ],
      "id": "ecc16624"
    },
    {
      "cell_type": "code",
      "execution_count": null,
      "metadata": {
        "id": "e35507d2"
      },
      "outputs": [],
      "source": [],
      "id": "e35507d2"
    },
    {
      "cell_type": "code",
      "execution_count": null,
      "metadata": {
        "id": "78ec29d3"
      },
      "outputs": [],
      "source": [],
      "id": "78ec29d3"
    },
    {
      "cell_type": "code",
      "execution_count": null,
      "metadata": {
        "id": "c2414dc9"
      },
      "outputs": [],
      "source": [],
      "id": "c2414dc9"
    },
    {
      "cell_type": "code",
      "execution_count": null,
      "metadata": {
        "id": "c20a1e87"
      },
      "outputs": [],
      "source": [],
      "id": "c20a1e87"
    },
    {
      "cell_type": "code",
      "execution_count": null,
      "metadata": {
        "id": "5a07bf50"
      },
      "outputs": [],
      "source": [],
      "id": "5a07bf50"
    },
    {
      "cell_type": "code",
      "execution_count": null,
      "metadata": {
        "id": "d4253b16"
      },
      "outputs": [],
      "source": [],
      "id": "d4253b16"
    },
    {
      "cell_type": "code",
      "execution_count": null,
      "metadata": {
        "id": "d42bb772"
      },
      "outputs": [],
      "source": [],
      "id": "d42bb772"
    },
    {
      "cell_type": "code",
      "execution_count": null,
      "metadata": {
        "id": "f51e80df"
      },
      "outputs": [],
      "source": [],
      "id": "f51e80df"
    },
    {
      "cell_type": "code",
      "execution_count": null,
      "metadata": {
        "id": "f48d9edc"
      },
      "outputs": [],
      "source": [],
      "id": "f48d9edc"
    },
    {
      "cell_type": "code",
      "execution_count": null,
      "metadata": {
        "id": "f85c46de"
      },
      "outputs": [],
      "source": [],
      "id": "f85c46de"
    },
    {
      "cell_type": "code",
      "execution_count": null,
      "metadata": {
        "id": "9326d3b2"
      },
      "outputs": [],
      "source": [],
      "id": "9326d3b2"
    },
    {
      "cell_type": "code",
      "execution_count": null,
      "metadata": {
        "id": "a5665409"
      },
      "outputs": [],
      "source": [],
      "id": "a5665409"
    },
    {
      "cell_type": "code",
      "execution_count": null,
      "metadata": {
        "id": "e1e9fbc1"
      },
      "outputs": [],
      "source": [],
      "id": "e1e9fbc1"
    },
    {
      "cell_type": "markdown",
      "source": [
        "# kjsdc"
      ],
      "metadata": {
        "id": "ZrWvO58GfmbS"
      },
      "id": "ZrWvO58GfmbS"
    },
    {
      "cell_type": "code",
      "source": [],
      "metadata": {
        "id": "qb6j83mJfoCB"
      },
      "id": "qb6j83mJfoCB",
      "execution_count": null,
      "outputs": []
    }
  ],
  "metadata": {
    "colab": {
      "provenance": [],
      "include_colab_link": true
    },
    "kernelspec": {
      "display_name": "Python 3 (ipykernel)",
      "language": "python",
      "name": "python3"
    },
    "language_info": {
      "codemirror_mode": {
        "name": "ipython",
        "version": 3
      },
      "file_extension": ".py",
      "mimetype": "text/x-python",
      "name": "python",
      "nbconvert_exporter": "python",
      "pygments_lexer": "ipython3",
      "version": "3.8.11"
    }
  },
  "nbformat": 4,
  "nbformat_minor": 5
}