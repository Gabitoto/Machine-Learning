{
  "cells": [
    {
      "cell_type": "markdown",
      "metadata": {
        "id": "view-in-github",
        "colab_type": "text"
      },
      "source": [
        "<a href=\"https://colab.research.google.com/github/Gabitoto/Gabitoto/blob/main/Copia_de_Modelos_de_Clasificacion_Actividades1.ipynb\" target=\"_parent\"><img src=\"https://colab.research.google.com/assets/colab-badge.svg\" alt=\"Open In Colab\"/></a>"
      ]
    },
    {
      "cell_type": "markdown",
      "metadata": {
        "id": "0a228a7e"
      },
      "source": [
        "# Modelos de Clasificación con SciKit-Learn"
      ],
      "id": "0a228a7e"
    },
    {
      "cell_type": "code",
      "execution_count": 1,
      "metadata": {
        "id": "16ceb68a"
      },
      "outputs": [],
      "source": [
        "import numpy as np\n",
        "import pandas as pd\n",
        "import matplotlib as mlt\n",
        "import matplotlib.pyplot as plt\n",
        "%matplotlib inline\n",
        "import seaborn as sns"
      ],
      "id": "16ceb68a"
    },
    {
      "cell_type": "markdown",
      "metadata": {
        "id": "1a023078"
      },
      "source": [
        "+ ## Descripción y Exploración del Dataset:"
      ],
      "id": "1a023078"
    },
    {
      "cell_type": "code",
      "source": [
        "# Descargar el dataset desde la web (descomprimir el .csv)\n",
        "# https://www.kaggle.com/datasets/mnassrib/telecom-churn-datasets\n",
        "# Nota: Cargar el dataset mas pequeño 'churn-bigml-20.csv'"
      ],
      "metadata": {
        "id": "cFIwB5klEEnj"
      },
      "id": "cFIwB5klEEnj",
      "execution_count": 2,
      "outputs": []
    },
    {
      "cell_type": "code",
      "execution_count": 3,
      "metadata": {
        "id": "qFRc3WSC67Y8"
      },
      "outputs": [],
      "source": [
        "from google.colab import files"
      ],
      "id": "qFRc3WSC67Y8"
    },
    {
      "cell_type": "code",
      "execution_count": 4,
      "metadata": {
        "colab": {
          "base_uri": "https://localhost:8080/",
          "height": 342
        },
        "id": "kYEtlpQ96-30",
        "outputId": "46e87854-5734-44ae-dc25-fb5ecd79bd5d"
      },
      "outputs": [
        {
          "output_type": "display_data",
          "data": {
            "text/plain": [
              "<IPython.core.display.HTML object>"
            ],
            "text/html": [
              "\n",
              "     <input type=\"file\" id=\"files-28fdf971-2c07-4b41-8bcc-620295330afa\" name=\"files[]\" multiple disabled\n",
              "        style=\"border:none\" />\n",
              "     <output id=\"result-28fdf971-2c07-4b41-8bcc-620295330afa\">\n",
              "      Upload widget is only available when the cell has been executed in the\n",
              "      current browser session. Please rerun this cell to enable.\n",
              "      </output>\n",
              "      <script>// Copyright 2017 Google LLC\n",
              "//\n",
              "// Licensed under the Apache License, Version 2.0 (the \"License\");\n",
              "// you may not use this file except in compliance with the License.\n",
              "// You may obtain a copy of the License at\n",
              "//\n",
              "//      http://www.apache.org/licenses/LICENSE-2.0\n",
              "//\n",
              "// Unless required by applicable law or agreed to in writing, software\n",
              "// distributed under the License is distributed on an \"AS IS\" BASIS,\n",
              "// WITHOUT WARRANTIES OR CONDITIONS OF ANY KIND, either express or implied.\n",
              "// See the License for the specific language governing permissions and\n",
              "// limitations under the License.\n",
              "\n",
              "/**\n",
              " * @fileoverview Helpers for google.colab Python module.\n",
              " */\n",
              "(function(scope) {\n",
              "function span(text, styleAttributes = {}) {\n",
              "  const element = document.createElement('span');\n",
              "  element.textContent = text;\n",
              "  for (const key of Object.keys(styleAttributes)) {\n",
              "    element.style[key] = styleAttributes[key];\n",
              "  }\n",
              "  return element;\n",
              "}\n",
              "\n",
              "// Max number of bytes which will be uploaded at a time.\n",
              "const MAX_PAYLOAD_SIZE = 100 * 1024;\n",
              "\n",
              "function _uploadFiles(inputId, outputId) {\n",
              "  const steps = uploadFilesStep(inputId, outputId);\n",
              "  const outputElement = document.getElementById(outputId);\n",
              "  // Cache steps on the outputElement to make it available for the next call\n",
              "  // to uploadFilesContinue from Python.\n",
              "  outputElement.steps = steps;\n",
              "\n",
              "  return _uploadFilesContinue(outputId);\n",
              "}\n",
              "\n",
              "// This is roughly an async generator (not supported in the browser yet),\n",
              "// where there are multiple asynchronous steps and the Python side is going\n",
              "// to poll for completion of each step.\n",
              "// This uses a Promise to block the python side on completion of each step,\n",
              "// then passes the result of the previous step as the input to the next step.\n",
              "function _uploadFilesContinue(outputId) {\n",
              "  const outputElement = document.getElementById(outputId);\n",
              "  const steps = outputElement.steps;\n",
              "\n",
              "  const next = steps.next(outputElement.lastPromiseValue);\n",
              "  return Promise.resolve(next.value.promise).then((value) => {\n",
              "    // Cache the last promise value to make it available to the next\n",
              "    // step of the generator.\n",
              "    outputElement.lastPromiseValue = value;\n",
              "    return next.value.response;\n",
              "  });\n",
              "}\n",
              "\n",
              "/**\n",
              " * Generator function which is called between each async step of the upload\n",
              " * process.\n",
              " * @param {string} inputId Element ID of the input file picker element.\n",
              " * @param {string} outputId Element ID of the output display.\n",
              " * @return {!Iterable<!Object>} Iterable of next steps.\n",
              " */\n",
              "function* uploadFilesStep(inputId, outputId) {\n",
              "  const inputElement = document.getElementById(inputId);\n",
              "  inputElement.disabled = false;\n",
              "\n",
              "  const outputElement = document.getElementById(outputId);\n",
              "  outputElement.innerHTML = '';\n",
              "\n",
              "  const pickedPromise = new Promise((resolve) => {\n",
              "    inputElement.addEventListener('change', (e) => {\n",
              "      resolve(e.target.files);\n",
              "    });\n",
              "  });\n",
              "\n",
              "  const cancel = document.createElement('button');\n",
              "  inputElement.parentElement.appendChild(cancel);\n",
              "  cancel.textContent = 'Cancel upload';\n",
              "  const cancelPromise = new Promise((resolve) => {\n",
              "    cancel.onclick = () => {\n",
              "      resolve(null);\n",
              "    };\n",
              "  });\n",
              "\n",
              "  // Wait for the user to pick the files.\n",
              "  const files = yield {\n",
              "    promise: Promise.race([pickedPromise, cancelPromise]),\n",
              "    response: {\n",
              "      action: 'starting',\n",
              "    }\n",
              "  };\n",
              "\n",
              "  cancel.remove();\n",
              "\n",
              "  // Disable the input element since further picks are not allowed.\n",
              "  inputElement.disabled = true;\n",
              "\n",
              "  if (!files) {\n",
              "    return {\n",
              "      response: {\n",
              "        action: 'complete',\n",
              "      }\n",
              "    };\n",
              "  }\n",
              "\n",
              "  for (const file of files) {\n",
              "    const li = document.createElement('li');\n",
              "    li.append(span(file.name, {fontWeight: 'bold'}));\n",
              "    li.append(span(\n",
              "        `(${file.type || 'n/a'}) - ${file.size} bytes, ` +\n",
              "        `last modified: ${\n",
              "            file.lastModifiedDate ? file.lastModifiedDate.toLocaleDateString() :\n",
              "                                    'n/a'} - `));\n",
              "    const percent = span('0% done');\n",
              "    li.appendChild(percent);\n",
              "\n",
              "    outputElement.appendChild(li);\n",
              "\n",
              "    const fileDataPromise = new Promise((resolve) => {\n",
              "      const reader = new FileReader();\n",
              "      reader.onload = (e) => {\n",
              "        resolve(e.target.result);\n",
              "      };\n",
              "      reader.readAsArrayBuffer(file);\n",
              "    });\n",
              "    // Wait for the data to be ready.\n",
              "    let fileData = yield {\n",
              "      promise: fileDataPromise,\n",
              "      response: {\n",
              "        action: 'continue',\n",
              "      }\n",
              "    };\n",
              "\n",
              "    // Use a chunked sending to avoid message size limits. See b/62115660.\n",
              "    let position = 0;\n",
              "    do {\n",
              "      const length = Math.min(fileData.byteLength - position, MAX_PAYLOAD_SIZE);\n",
              "      const chunk = new Uint8Array(fileData, position, length);\n",
              "      position += length;\n",
              "\n",
              "      const base64 = btoa(String.fromCharCode.apply(null, chunk));\n",
              "      yield {\n",
              "        response: {\n",
              "          action: 'append',\n",
              "          file: file.name,\n",
              "          data: base64,\n",
              "        },\n",
              "      };\n",
              "\n",
              "      let percentDone = fileData.byteLength === 0 ?\n",
              "          100 :\n",
              "          Math.round((position / fileData.byteLength) * 100);\n",
              "      percent.textContent = `${percentDone}% done`;\n",
              "\n",
              "    } while (position < fileData.byteLength);\n",
              "  }\n",
              "\n",
              "  // All done.\n",
              "  yield {\n",
              "    response: {\n",
              "      action: 'complete',\n",
              "    }\n",
              "  };\n",
              "}\n",
              "\n",
              "scope.google = scope.google || {};\n",
              "scope.google.colab = scope.google.colab || {};\n",
              "scope.google.colab._files = {\n",
              "  _uploadFiles,\n",
              "  _uploadFilesContinue,\n",
              "};\n",
              "})(self);\n",
              "</script> "
            ]
          },
          "metadata": {}
        },
        {
          "output_type": "error",
          "ename": "KeyboardInterrupt",
          "evalue": "ignored",
          "traceback": [
            "\u001b[0;31m---------------------------------------------------------------------------\u001b[0m",
            "\u001b[0;31mKeyboardInterrupt\u001b[0m                         Traceback (most recent call last)",
            "\u001b[0;32m<ipython-input-4-ed2fd71b4a2f>\u001b[0m in \u001b[0;36m<cell line: 1>\u001b[0;34m()\u001b[0m\n\u001b[0;32m----> 1\u001b[0;31m \u001b[0muploaded\u001b[0m \u001b[0;34m=\u001b[0m \u001b[0mfiles\u001b[0m\u001b[0;34m.\u001b[0m\u001b[0mupload\u001b[0m\u001b[0;34m(\u001b[0m\u001b[0;34m)\u001b[0m\u001b[0;34m\u001b[0m\u001b[0;34m\u001b[0m\u001b[0m\n\u001b[0m",
            "\u001b[0;32m/usr/local/lib/python3.10/dist-packages/google/colab/files.py\u001b[0m in \u001b[0;36mupload\u001b[0;34m()\u001b[0m\n\u001b[1;32m     67\u001b[0m   \"\"\"\n\u001b[1;32m     68\u001b[0m \u001b[0;34m\u001b[0m\u001b[0m\n\u001b[0;32m---> 69\u001b[0;31m   \u001b[0muploaded_files\u001b[0m \u001b[0;34m=\u001b[0m \u001b[0m_upload_files\u001b[0m\u001b[0;34m(\u001b[0m\u001b[0mmultiple\u001b[0m\u001b[0;34m=\u001b[0m\u001b[0;32mTrue\u001b[0m\u001b[0;34m)\u001b[0m\u001b[0;34m\u001b[0m\u001b[0;34m\u001b[0m\u001b[0m\n\u001b[0m\u001b[1;32m     70\u001b[0m   \u001b[0;31m# Mapping from original filename to filename as saved locally.\u001b[0m\u001b[0;34m\u001b[0m\u001b[0;34m\u001b[0m\u001b[0m\n\u001b[1;32m     71\u001b[0m   \u001b[0mlocal_filenames\u001b[0m \u001b[0;34m=\u001b[0m \u001b[0mdict\u001b[0m\u001b[0;34m(\u001b[0m\u001b[0;34m)\u001b[0m\u001b[0;34m\u001b[0m\u001b[0;34m\u001b[0m\u001b[0m\n",
            "\u001b[0;32m/usr/local/lib/python3.10/dist-packages/google/colab/files.py\u001b[0m in \u001b[0;36m_upload_files\u001b[0;34m(multiple)\u001b[0m\n\u001b[1;32m    154\u001b[0m \u001b[0;34m\u001b[0m\u001b[0m\n\u001b[1;32m    155\u001b[0m   \u001b[0;31m# First result is always an indication that the file picker has completed.\u001b[0m\u001b[0;34m\u001b[0m\u001b[0;34m\u001b[0m\u001b[0m\n\u001b[0;32m--> 156\u001b[0;31m   result = _output.eval_js(\n\u001b[0m\u001b[1;32m    157\u001b[0m       'google.colab._files._uploadFiles(\"{input_id}\", \"{output_id}\")'.format(\n\u001b[1;32m    158\u001b[0m           \u001b[0minput_id\u001b[0m\u001b[0;34m=\u001b[0m\u001b[0minput_id\u001b[0m\u001b[0;34m,\u001b[0m \u001b[0moutput_id\u001b[0m\u001b[0;34m=\u001b[0m\u001b[0moutput_id\u001b[0m\u001b[0;34m\u001b[0m\u001b[0;34m\u001b[0m\u001b[0m\n",
            "\u001b[0;32m/usr/local/lib/python3.10/dist-packages/google/colab/output/_js.py\u001b[0m in \u001b[0;36meval_js\u001b[0;34m(script, ignore_result, timeout_sec)\u001b[0m\n\u001b[1;32m     38\u001b[0m   \u001b[0;32mif\u001b[0m \u001b[0mignore_result\u001b[0m\u001b[0;34m:\u001b[0m\u001b[0;34m\u001b[0m\u001b[0;34m\u001b[0m\u001b[0m\n\u001b[1;32m     39\u001b[0m     \u001b[0;32mreturn\u001b[0m\u001b[0;34m\u001b[0m\u001b[0;34m\u001b[0m\u001b[0m\n\u001b[0;32m---> 40\u001b[0;31m   \u001b[0;32mreturn\u001b[0m \u001b[0m_message\u001b[0m\u001b[0;34m.\u001b[0m\u001b[0mread_reply_from_input\u001b[0m\u001b[0;34m(\u001b[0m\u001b[0mrequest_id\u001b[0m\u001b[0;34m,\u001b[0m \u001b[0mtimeout_sec\u001b[0m\u001b[0;34m)\u001b[0m\u001b[0;34m\u001b[0m\u001b[0;34m\u001b[0m\u001b[0m\n\u001b[0m\u001b[1;32m     41\u001b[0m \u001b[0;34m\u001b[0m\u001b[0m\n\u001b[1;32m     42\u001b[0m \u001b[0;34m\u001b[0m\u001b[0m\n",
            "\u001b[0;32m/usr/local/lib/python3.10/dist-packages/google/colab/_message.py\u001b[0m in \u001b[0;36mread_reply_from_input\u001b[0;34m(message_id, timeout_sec)\u001b[0m\n\u001b[1;32m     94\u001b[0m     \u001b[0mreply\u001b[0m \u001b[0;34m=\u001b[0m \u001b[0m_read_next_input_message\u001b[0m\u001b[0;34m(\u001b[0m\u001b[0;34m)\u001b[0m\u001b[0;34m\u001b[0m\u001b[0;34m\u001b[0m\u001b[0m\n\u001b[1;32m     95\u001b[0m     \u001b[0;32mif\u001b[0m \u001b[0mreply\u001b[0m \u001b[0;34m==\u001b[0m \u001b[0m_NOT_READY\u001b[0m \u001b[0;32mor\u001b[0m \u001b[0;32mnot\u001b[0m \u001b[0misinstance\u001b[0m\u001b[0;34m(\u001b[0m\u001b[0mreply\u001b[0m\u001b[0;34m,\u001b[0m \u001b[0mdict\u001b[0m\u001b[0;34m)\u001b[0m\u001b[0;34m:\u001b[0m\u001b[0;34m\u001b[0m\u001b[0;34m\u001b[0m\u001b[0m\n\u001b[0;32m---> 96\u001b[0;31m       \u001b[0mtime\u001b[0m\u001b[0;34m.\u001b[0m\u001b[0msleep\u001b[0m\u001b[0;34m(\u001b[0m\u001b[0;36m0.025\u001b[0m\u001b[0;34m)\u001b[0m\u001b[0;34m\u001b[0m\u001b[0;34m\u001b[0m\u001b[0m\n\u001b[0m\u001b[1;32m     97\u001b[0m       \u001b[0;32mcontinue\u001b[0m\u001b[0;34m\u001b[0m\u001b[0;34m\u001b[0m\u001b[0m\n\u001b[1;32m     98\u001b[0m     if (\n",
            "\u001b[0;31mKeyboardInterrupt\u001b[0m: "
          ]
        }
      ],
      "source": [
        "uploaded = files.upload()"
      ],
      "id": "kYEtlpQ96-30"
    },
    {
      "cell_type": "code",
      "execution_count": null,
      "metadata": {
        "colab": {
          "base_uri": "https://localhost:8080/",
          "height": 322
        },
        "id": "11df539e",
        "outputId": "1039ba34-daae-43bc-f58a-7d01ac5e94ff"
      },
      "outputs": [
        {
          "output_type": "stream",
          "name": "stdout",
          "text": [
            "(667, 20)\n"
          ]
        },
        {
          "output_type": "execute_result",
          "data": {
            "text/plain": [
              "  State  Account length  Area code International plan Voice mail plan  \\\n",
              "0    LA             117        408                 No              No   \n",
              "1    IN              65        415                 No              No   \n",
              "2    NY             161        415                 No              No   \n",
              "3    SC             111        415                 No              No   \n",
              "4    HI              49        510                 No              No   \n",
              "\n",
              "   Number vmail messages  Total day minutes  Total day calls  \\\n",
              "0                      0              184.5               97   \n",
              "1                      0              129.1              137   \n",
              "2                      0              332.9               67   \n",
              "3                      0              110.4              103   \n",
              "4                      0              119.3              117   \n",
              "\n",
              "   Total day charge  Total eve minutes  Total eve calls  Total eve charge  \\\n",
              "0             31.37              351.6               80             29.89   \n",
              "1             21.95              228.5               83             19.42   \n",
              "2             56.59              317.8               97             27.01   \n",
              "3             18.77              137.3              102             11.67   \n",
              "4             20.28              215.1              109             18.28   \n",
              "\n",
              "   Total night minutes  Total night calls  Total night charge  \\\n",
              "0                215.8                 90                9.71   \n",
              "1                208.8                111                9.40   \n",
              "2                160.6                128                7.23   \n",
              "3                189.6                105                8.53   \n",
              "4                178.7                 90                8.04   \n",
              "\n",
              "   Total intl minutes  Total intl calls  Total intl charge  \\\n",
              "0                 8.7                 4               2.35   \n",
              "1                12.7                 6               3.43   \n",
              "2                 5.4                 9               1.46   \n",
              "3                 7.7                 6               2.08   \n",
              "4                11.1                 1               3.00   \n",
              "\n",
              "   Customer service calls  Churn  \n",
              "0                       1  False  \n",
              "1                       4   True  \n",
              "2                       4   True  \n",
              "3                       2  False  \n",
              "4                       1  False  "
            ],
            "text/html": [
              "\n",
              "  <div id=\"df-adcb13c4-ee26-4f25-838f-2a04f46d65fa\">\n",
              "    <div class=\"colab-df-container\">\n",
              "      <div>\n",
              "<style scoped>\n",
              "    .dataframe tbody tr th:only-of-type {\n",
              "        vertical-align: middle;\n",
              "    }\n",
              "\n",
              "    .dataframe tbody tr th {\n",
              "        vertical-align: top;\n",
              "    }\n",
              "\n",
              "    .dataframe thead th {\n",
              "        text-align: right;\n",
              "    }\n",
              "</style>\n",
              "<table border=\"1\" class=\"dataframe\">\n",
              "  <thead>\n",
              "    <tr style=\"text-align: right;\">\n",
              "      <th></th>\n",
              "      <th>State</th>\n",
              "      <th>Account length</th>\n",
              "      <th>Area code</th>\n",
              "      <th>International plan</th>\n",
              "      <th>Voice mail plan</th>\n",
              "      <th>Number vmail messages</th>\n",
              "      <th>Total day minutes</th>\n",
              "      <th>Total day calls</th>\n",
              "      <th>Total day charge</th>\n",
              "      <th>Total eve minutes</th>\n",
              "      <th>Total eve calls</th>\n",
              "      <th>Total eve charge</th>\n",
              "      <th>Total night minutes</th>\n",
              "      <th>Total night calls</th>\n",
              "      <th>Total night charge</th>\n",
              "      <th>Total intl minutes</th>\n",
              "      <th>Total intl calls</th>\n",
              "      <th>Total intl charge</th>\n",
              "      <th>Customer service calls</th>\n",
              "      <th>Churn</th>\n",
              "    </tr>\n",
              "  </thead>\n",
              "  <tbody>\n",
              "    <tr>\n",
              "      <th>0</th>\n",
              "      <td>LA</td>\n",
              "      <td>117</td>\n",
              "      <td>408</td>\n",
              "      <td>No</td>\n",
              "      <td>No</td>\n",
              "      <td>0</td>\n",
              "      <td>184.5</td>\n",
              "      <td>97</td>\n",
              "      <td>31.37</td>\n",
              "      <td>351.6</td>\n",
              "      <td>80</td>\n",
              "      <td>29.89</td>\n",
              "      <td>215.8</td>\n",
              "      <td>90</td>\n",
              "      <td>9.71</td>\n",
              "      <td>8.7</td>\n",
              "      <td>4</td>\n",
              "      <td>2.35</td>\n",
              "      <td>1</td>\n",
              "      <td>False</td>\n",
              "    </tr>\n",
              "    <tr>\n",
              "      <th>1</th>\n",
              "      <td>IN</td>\n",
              "      <td>65</td>\n",
              "      <td>415</td>\n",
              "      <td>No</td>\n",
              "      <td>No</td>\n",
              "      <td>0</td>\n",
              "      <td>129.1</td>\n",
              "      <td>137</td>\n",
              "      <td>21.95</td>\n",
              "      <td>228.5</td>\n",
              "      <td>83</td>\n",
              "      <td>19.42</td>\n",
              "      <td>208.8</td>\n",
              "      <td>111</td>\n",
              "      <td>9.40</td>\n",
              "      <td>12.7</td>\n",
              "      <td>6</td>\n",
              "      <td>3.43</td>\n",
              "      <td>4</td>\n",
              "      <td>True</td>\n",
              "    </tr>\n",
              "    <tr>\n",
              "      <th>2</th>\n",
              "      <td>NY</td>\n",
              "      <td>161</td>\n",
              "      <td>415</td>\n",
              "      <td>No</td>\n",
              "      <td>No</td>\n",
              "      <td>0</td>\n",
              "      <td>332.9</td>\n",
              "      <td>67</td>\n",
              "      <td>56.59</td>\n",
              "      <td>317.8</td>\n",
              "      <td>97</td>\n",
              "      <td>27.01</td>\n",
              "      <td>160.6</td>\n",
              "      <td>128</td>\n",
              "      <td>7.23</td>\n",
              "      <td>5.4</td>\n",
              "      <td>9</td>\n",
              "      <td>1.46</td>\n",
              "      <td>4</td>\n",
              "      <td>True</td>\n",
              "    </tr>\n",
              "    <tr>\n",
              "      <th>3</th>\n",
              "      <td>SC</td>\n",
              "      <td>111</td>\n",
              "      <td>415</td>\n",
              "      <td>No</td>\n",
              "      <td>No</td>\n",
              "      <td>0</td>\n",
              "      <td>110.4</td>\n",
              "      <td>103</td>\n",
              "      <td>18.77</td>\n",
              "      <td>137.3</td>\n",
              "      <td>102</td>\n",
              "      <td>11.67</td>\n",
              "      <td>189.6</td>\n",
              "      <td>105</td>\n",
              "      <td>8.53</td>\n",
              "      <td>7.7</td>\n",
              "      <td>6</td>\n",
              "      <td>2.08</td>\n",
              "      <td>2</td>\n",
              "      <td>False</td>\n",
              "    </tr>\n",
              "    <tr>\n",
              "      <th>4</th>\n",
              "      <td>HI</td>\n",
              "      <td>49</td>\n",
              "      <td>510</td>\n",
              "      <td>No</td>\n",
              "      <td>No</td>\n",
              "      <td>0</td>\n",
              "      <td>119.3</td>\n",
              "      <td>117</td>\n",
              "      <td>20.28</td>\n",
              "      <td>215.1</td>\n",
              "      <td>109</td>\n",
              "      <td>18.28</td>\n",
              "      <td>178.7</td>\n",
              "      <td>90</td>\n",
              "      <td>8.04</td>\n",
              "      <td>11.1</td>\n",
              "      <td>1</td>\n",
              "      <td>3.00</td>\n",
              "      <td>1</td>\n",
              "      <td>False</td>\n",
              "    </tr>\n",
              "  </tbody>\n",
              "</table>\n",
              "</div>\n",
              "      <button class=\"colab-df-convert\" onclick=\"convertToInteractive('df-adcb13c4-ee26-4f25-838f-2a04f46d65fa')\"\n",
              "              title=\"Convert this dataframe to an interactive table.\"\n",
              "              style=\"display:none;\">\n",
              "        \n",
              "  <svg xmlns=\"http://www.w3.org/2000/svg\" height=\"24px\"viewBox=\"0 0 24 24\"\n",
              "       width=\"24px\">\n",
              "    <path d=\"M0 0h24v24H0V0z\" fill=\"none\"/>\n",
              "    <path d=\"M18.56 5.44l.94 2.06.94-2.06 2.06-.94-2.06-.94-.94-2.06-.94 2.06-2.06.94zm-11 1L8.5 8.5l.94-2.06 2.06-.94-2.06-.94L8.5 2.5l-.94 2.06-2.06.94zm10 10l.94 2.06.94-2.06 2.06-.94-2.06-.94-.94-2.06-.94 2.06-2.06.94z\"/><path d=\"M17.41 7.96l-1.37-1.37c-.4-.4-.92-.59-1.43-.59-.52 0-1.04.2-1.43.59L10.3 9.45l-7.72 7.72c-.78.78-.78 2.05 0 2.83L4 21.41c.39.39.9.59 1.41.59.51 0 1.02-.2 1.41-.59l7.78-7.78 2.81-2.81c.8-.78.8-2.07 0-2.86zM5.41 20L4 18.59l7.72-7.72 1.47 1.35L5.41 20z\"/>\n",
              "  </svg>\n",
              "      </button>\n",
              "      \n",
              "  <style>\n",
              "    .colab-df-container {\n",
              "      display:flex;\n",
              "      flex-wrap:wrap;\n",
              "      gap: 12px;\n",
              "    }\n",
              "\n",
              "    .colab-df-convert {\n",
              "      background-color: #E8F0FE;\n",
              "      border: none;\n",
              "      border-radius: 50%;\n",
              "      cursor: pointer;\n",
              "      display: none;\n",
              "      fill: #1967D2;\n",
              "      height: 32px;\n",
              "      padding: 0 0 0 0;\n",
              "      width: 32px;\n",
              "    }\n",
              "\n",
              "    .colab-df-convert:hover {\n",
              "      background-color: #E2EBFA;\n",
              "      box-shadow: 0px 1px 2px rgba(60, 64, 67, 0.3), 0px 1px 3px 1px rgba(60, 64, 67, 0.15);\n",
              "      fill: #174EA6;\n",
              "    }\n",
              "\n",
              "    [theme=dark] .colab-df-convert {\n",
              "      background-color: #3B4455;\n",
              "      fill: #D2E3FC;\n",
              "    }\n",
              "\n",
              "    [theme=dark] .colab-df-convert:hover {\n",
              "      background-color: #434B5C;\n",
              "      box-shadow: 0px 1px 3px 1px rgba(0, 0, 0, 0.15);\n",
              "      filter: drop-shadow(0px 1px 2px rgba(0, 0, 0, 0.3));\n",
              "      fill: #FFFFFF;\n",
              "    }\n",
              "  </style>\n",
              "\n",
              "      <script>\n",
              "        const buttonEl =\n",
              "          document.querySelector('#df-adcb13c4-ee26-4f25-838f-2a04f46d65fa button.colab-df-convert');\n",
              "        buttonEl.style.display =\n",
              "          google.colab.kernel.accessAllowed ? 'block' : 'none';\n",
              "\n",
              "        async function convertToInteractive(key) {\n",
              "          const element = document.querySelector('#df-adcb13c4-ee26-4f25-838f-2a04f46d65fa');\n",
              "          const dataTable =\n",
              "            await google.colab.kernel.invokeFunction('convertToInteractive',\n",
              "                                                     [key], {});\n",
              "          if (!dataTable) return;\n",
              "\n",
              "          const docLinkHtml = 'Like what you see? Visit the ' +\n",
              "            '<a target=\"_blank\" href=https://colab.research.google.com/notebooks/data_table.ipynb>data table notebook</a>'\n",
              "            + ' to learn more about interactive tables.';\n",
              "          element.innerHTML = '';\n",
              "          dataTable['output_type'] = 'display_data';\n",
              "          await google.colab.output.renderOutput(dataTable, element);\n",
              "          const docLink = document.createElement('div');\n",
              "          docLink.innerHTML = docLinkHtml;\n",
              "          element.appendChild(docLink);\n",
              "        }\n",
              "      </script>\n",
              "    </div>\n",
              "  </div>\n",
              "  "
            ]
          },
          "metadata": {},
          "execution_count": 5
        }
      ],
      "source": [
        "# Importamos el dataset y hacemos un head()\n",
        "df_tel = pd.read_csv('churn-bigml-20.csv')\n",
        "print(df_tel.shape)\n",
        "df_tel.head()"
      ],
      "id": "11df539e"
    },
    {
      "cell_type": "code",
      "execution_count": null,
      "metadata": {
        "id": "37058fe8",
        "outputId": "7ddfc733-ce8e-49ea-c923-f54584eb8796",
        "colab": {
          "base_uri": "https://localhost:8080/"
        }
      },
      "outputs": [
        {
          "output_type": "stream",
          "name": "stdout",
          "text": [
            "<class 'pandas.core.frame.DataFrame'>\n",
            "RangeIndex: 667 entries, 0 to 666\n",
            "Data columns (total 20 columns):\n",
            " #   Column                  Non-Null Count  Dtype  \n",
            "---  ------                  --------------  -----  \n",
            " 0   State                   667 non-null    object \n",
            " 1   Account length          667 non-null    int64  \n",
            " 2   Area code               667 non-null    int64  \n",
            " 3   International plan      667 non-null    object \n",
            " 4   Voice mail plan         667 non-null    object \n",
            " 5   Number vmail messages   667 non-null    int64  \n",
            " 6   Total day minutes       667 non-null    float64\n",
            " 7   Total day calls         667 non-null    int64  \n",
            " 8   Total day charge        667 non-null    float64\n",
            " 9   Total eve minutes       667 non-null    float64\n",
            " 10  Total eve calls         667 non-null    int64  \n",
            " 11  Total eve charge        667 non-null    float64\n",
            " 12  Total night minutes     667 non-null    float64\n",
            " 13  Total night calls       667 non-null    int64  \n",
            " 14  Total night charge      667 non-null    float64\n",
            " 15  Total intl minutes      667 non-null    float64\n",
            " 16  Total intl calls        667 non-null    int64  \n",
            " 17  Total intl charge       667 non-null    float64\n",
            " 18  Customer service calls  667 non-null    int64  \n",
            " 19  Churn                   667 non-null    bool   \n",
            "dtypes: bool(1), float64(8), int64(8), object(3)\n",
            "memory usage: 99.8+ KB\n"
          ]
        }
      ],
      "source": [
        "# ACTIVIDAD: Realizar exploración basica del dataset\n",
        "# Preguntas de ayuda para orientar: ¿como se distribuye el target?, ¿hay valores faltantes?, ¿que tipo de variables contiene?\n",
        "# df_tel.info()"
      ],
      "id": "37058fe8"
    },
    {
      "cell_type": "code",
      "execution_count": null,
      "metadata": {
        "id": "280f64e5"
      },
      "outputs": [],
      "source": [
        "# Creamos un pairplot (scatterplot + histogramas) sobre las variables numericas\n",
        "\n",
        "numeric_features = list(df_tel.select_dtypes(np.number).columns) # Creamos lista de atributos numericos\n",
        "df_numeric = df_tel[numeric_features + ['Churn']] # Cramos un dataframe con las columnas deseadas y la variable target\n",
        "\n",
        "plot01 = sns.pairplot(df_numeric, corner=True, hue = 'Churn') # Instanciamos pairplot\n",
        "plot01.map_lower(sns.kdeplot, levels=4, color=\".2\") # Definimos el tipo de grafico que queremos para auqellos por debajo de la diagona"
      ],
      "id": "280f64e5"
    },
    {
      "cell_type": "code",
      "source": [],
      "metadata": {
        "id": "yb7zMz1VtpUV"
      },
      "id": "yb7zMz1VtpUV",
      "execution_count": null,
      "outputs": []
    },
    {
      "cell_type": "code",
      "source": [
        "# Creamos un grafico de barras de las algunas variables categoricas\n",
        "\n",
        "categorical_features = list(df_tel.select_dtypes(object).columns) # Creamos lista de atributos numericos\n",
        "df_categ = df_tel[categorical_features + ['Churn']] # Cramos un dataframe con las columnas deseadas y la variable target\n",
        "\n",
        "print('categorical_features:    ', categorical_features)\n",
        "\n",
        "plot02 = sns.catplot(kind='count', x = \"Churn\", col = \"International plan\",\n",
        "                     col_wrap = 5, data=df_categ,\n",
        "                     ) # Instanciamos pairplot\n",
        "\n",
        "plot03 = sns.catplot(kind='count', x = \"Churn\", col = \"Voice mail plan\",\n",
        "                     col_wrap = 5, data=df_categ,\n",
        "                     ) # Instanciamos pairplot"
      ],
      "metadata": {
        "id": "1nvHCaToH20g"
      },
      "id": "1nvHCaToH20g",
      "execution_count": null,
      "outputs": []
    },
    {
      "cell_type": "code",
      "execution_count": null,
      "metadata": {
        "id": "3b7f1185"
      },
      "outputs": [],
      "source": [
        "# ACTIVIDAD: Crear un boxplot de las variables numericas\n",
        "\n",
        "# OPCIONAL: Explorar en la documentacion de la libreria seaborn diferentes opciones de graficos: https://seaborn.pydata.org/index.html\n",
        "# Por ejemplo un violinplot para variables numericas"
      ],
      "id": "3b7f1185"
    },
    {
      "cell_type": "code",
      "execution_count": null,
      "metadata": {
        "id": "6c85a9e7"
      },
      "outputs": [],
      "source": [],
      "id": "6c85a9e7"
    },
    {
      "cell_type": "markdown",
      "metadata": {
        "id": "b07d7b71"
      },
      "source": [
        "## 1. Implementacion de modelos de clasificacion"
      ],
      "id": "b07d7b71"
    },
    {
      "cell_type": "code",
      "source": [
        "from sklearn.model_selection import train_test_split\n",
        "from sklearn.preprocessing import StandardScaler\n",
        "from sklearn.linear_model import LogisticRegression\n",
        "from sklearn.metrics import accuracy_score, confusion_matrix, classification_report, recall_score, fbeta_score\n",
        "from sklearn.naive_bayes import GaussianNB\n",
        "from sklearn.tree import DecisionTreeClassifier\n",
        "from sklearn.ensemble import AdaBoostClassifier"
      ],
      "metadata": {
        "id": "JJ3IIlCIPelL"
      },
      "id": "JJ3IIlCIPelL",
      "execution_count": null,
      "outputs": []
    },
    {
      "cell_type": "code",
      "execution_count": null,
      "metadata": {
        "id": "9d85c2b2"
      },
      "outputs": [],
      "source": [
        "# ACTIVIDAD: Seleccionar 2 modelos de clasificacion para implementar\n",
        "# Hint: ¿Alguno de los modelos requiere estandarizacion de variables?, ¿Que hacemos con las variables categoricas?\n",
        "\n",
        "# Instanciar el primer modelo"
      ],
      "id": "9d85c2b2"
    },
    {
      "cell_type": "code",
      "source": [
        "# Creacion de variables dummies:\n",
        "\n",
        "df_cat = df_tel.select_dtypes(object) # Seleccion de las variables categoricas del dataset\n",
        "df_cat = pd.get_dummies(df_tel, drop_first = True) # Creamos variables dummies\n",
        "\n",
        "df_train_test = pd.concat([df_cat, df_tel.select_dtypes(np.number)], axis = 1)"
      ],
      "metadata": {
        "id": "eeXnBlqNQQ5i"
      },
      "id": "eeXnBlqNQQ5i",
      "execution_count": null,
      "outputs": []
    },
    {
      "cell_type": "code",
      "source": [
        "# Crear df con features y la variable target\n",
        "\n",
        "X = ###\n",
        "y = ###\n",
        "\n",
        "# Aplicar split del dataset:\n",
        "\n",
        "X_train, X_test, y_train, y_test = ###"
      ],
      "metadata": {
        "id": "iz3PqlDLP2y5"
      },
      "id": "iz3PqlDLP2y5",
      "execution_count": null,
      "outputs": []
    },
    {
      "cell_type": "code",
      "source": [
        "# De ser necesario aplicar estandarizacion de variables:\n",
        "\n",
        "# scaler =\n",
        "\n",
        "# X_train_st =\n",
        "# X_test_st ="
      ],
      "metadata": {
        "id": "VvXTXwfDQKLK"
      },
      "id": "VvXTXwfDQKLK",
      "execution_count": null,
      "outputs": []
    },
    {
      "cell_type": "code",
      "source": [
        "# Instanciar y entrenar el modelo elegido:\n",
        "\n",
        "model =\n",
        "\n",
        "model.fit('#features_train#', 'target')"
      ],
      "metadata": {
        "id": "8amw_7az1r0e"
      },
      "id": "8amw_7az1r0e",
      "execution_count": null,
      "outputs": []
    },
    {
      "cell_type": "code",
      "source": [
        "# Hacer las predicciones de train y test:\n",
        "\n",
        "y_train_pred = model.predict('#features_train#')\n",
        "y_test_pred = model.predict('#features_test#')"
      ],
      "metadata": {
        "id": "w-Is9MwI1803"
      },
      "id": "w-Is9MwI1803",
      "execution_count": null,
      "outputs": []
    },
    {
      "cell_type": "code",
      "execution_count": null,
      "metadata": {
        "id": "8597d19f"
      },
      "outputs": [],
      "source": [
        "# Imprimimos resumen de metricas y la matriz de confusion:\n",
        "\n",
        "model_name = '##Nombre del Modelo##'\n",
        "\n",
        "y_true = ##\n",
        "y_predicted = ##\n",
        "\n",
        "sns.heatmap(confusion_matrix(y_true, y_predicted), annot=True, cmap='PuBu', fmt='0.0f', linewidths=0.25,\n",
        "           annot_kws={'size':13} )\n",
        "plt.xlabel('Predichos')\n",
        "plt.ylabel('Reales')\n",
        "\n",
        "print('Accuracy del modelo de ' + model_name + ' :   ', accuracy_score(y_true, y_predicted).round(3))\n",
        "print('Recall del modelo de ' + model_name + ' :     ', recall_score(y_true, y_predicted).round(3))\n",
        "\n",
        "print('Rporte del modelo de ' + model_name + ' :   \\n', classification_report(y_true, y_predicted))"
      ],
      "id": "8597d19f"
    },
    {
      "cell_type": "code",
      "source": [
        "# Repetir resumen para test:\n",
        "\n",
        "\n"
      ],
      "metadata": {
        "id": "QCQGcTcD2Xuu"
      },
      "id": "QCQGcTcD2Xuu",
      "execution_count": null,
      "outputs": []
    },
    {
      "cell_type": "code",
      "source": [
        "# Realizar los mismos procedimientos para el segundo modelos elegido"
      ],
      "metadata": {
        "id": "AEqmSxVtTdOi"
      },
      "id": "AEqmSxVtTdOi",
      "execution_count": null,
      "outputs": []
    },
    {
      "cell_type": "code",
      "source": [],
      "metadata": {
        "id": "6lOowFhGTdXP"
      },
      "id": "6lOowFhGTdXP",
      "execution_count": null,
      "outputs": []
    },
    {
      "cell_type": "code",
      "source": [],
      "metadata": {
        "id": "IDHbuYS6Tdde"
      },
      "id": "IDHbuYS6Tdde",
      "execution_count": null,
      "outputs": []
    },
    {
      "cell_type": "markdown",
      "metadata": {
        "id": "12afcfd5"
      },
      "source": [
        "+ ### Visualización de como predice el modelo según la probabilidad y los efectos sobre las métricas"
      ],
      "id": "12afcfd5"
    },
    {
      "cell_type": "code",
      "execution_count": null,
      "metadata": {
        "id": "0a0ccbf2"
      },
      "outputs": [],
      "source": [
        "# Histograma de probabilidades\n",
        "\n",
        "model = ### Instanciar el modelo ya entrenado (no es necesario si se utilizo el nombre 'model')\n",
        "X_train_ = ### Instanciar variable en forma de array (usando metodo .values si es un DataFrame)\n",
        "\n",
        "fig, ax01 = plt.subplots(1,1 , figsize=(13,5))\n",
        "sns.histplot(data = model.predict_proba(X_train_[y_train==0])[:,1], stat = 'count', ax=ax01)\n",
        "sns.histplot(data = model.predict_proba(X_train_[y_train==1])[:,1], stat = 'count', color = 'orange', ax=ax01)\n",
        "ylim = plt.ylim()\n",
        "plt.vlines(0.5, ylim[0], ylim[1])\n",
        "plt.ylim(ylim)\n",
        "plt.legend(['Umbral', 'TenYearCHD = 0', 'TenYearCHD = 1'])"
      ],
      "id": "0a0ccbf2"
    },
    {
      "cell_type": "markdown",
      "metadata": {
        "id": "4daf7045"
      },
      "source": [
        "+ ### Cambio en las métricas en función del umbral elegido"
      ],
      "id": "4daf7045"
    },
    {
      "cell_type": "code",
      "execution_count": null,
      "metadata": {
        "id": "dde4bee6"
      },
      "outputs": [],
      "source": [
        "# OPCIONAL: evaluar como cambia el comportamiento del modelo cambiando el umbral de decision\n",
        "# Realizamos predicciones con un umbral distinto al que se establece por defecto (0.5)\n",
        "umbral = 0.4\n",
        "probs = model.predict_proba('#features#')[:,1]\n",
        "y_pred_test_umbral = probs > umbral"
      ],
      "id": "dde4bee6"
    },
    {
      "cell_type": "code",
      "execution_count": null,
      "metadata": {
        "id": "33c80ed8"
      },
      "outputs": [],
      "source": [
        "# Imprimimos resumen de metricas y la matriz de confusion:\n",
        "\n",
        "model_name = '##Nombre del Modelo##'\n",
        "\n",
        "y_true = ##\n",
        "y_predicted = y_pred_test_umbral\n",
        "\n",
        "sns.heatmap(confusion_matrix(y_true, y_predicted), annot=True, cmap='PuBu', fmt='0.0f', linewidths=0.25,\n",
        "           annot_kws={'size':13} )\n",
        "plt.xlabel('Predichos')\n",
        "plt.ylabel('Reales')\n",
        "\n",
        "print('Accuracy del modelo de ' + model_name + ' :   ', accuracy_score(y_true, y_predicted).round(3))\n",
        "print('Recall del modelo de ' + model_name + ' :     ', recall_score(y_true, y_predicted).round(3))\n",
        "\n",
        "print('Rporte del modelo de ' + model_name + ' :   \\n', classification_report(y_true, y_predicted))"
      ],
      "id": "33c80ed8"
    },
    {
      "cell_type": "code",
      "execution_count": null,
      "metadata": {
        "id": "f778f8cf"
      },
      "outputs": [],
      "source": [],
      "id": "f778f8cf"
    },
    {
      "cell_type": "markdown",
      "metadata": {
        "id": "450b2ba9"
      },
      "source": [
        "## Optimización de hiperparámetros"
      ],
      "id": "450b2ba9"
    },
    {
      "cell_type": "code",
      "execution_count": null,
      "metadata": {
        "id": "51a1c72f"
      },
      "outputs": [],
      "source": [
        "# ACTIVIDAD: Optimizar los hiperparametros de un modelo de clasificacion\n",
        "\n",
        "model = ####\n"
      ],
      "id": "51a1c72f"
    },
    {
      "cell_type": "code",
      "execution_count": null,
      "metadata": {
        "id": "cfc60cb9"
      },
      "outputs": [],
      "source": [
        "param_grid = {'hiperparametro1': 'valor1',\n",
        "              'hiperparametro1': 'valor2',\n",
        "              'hiperparametro1': 'valor3',\n",
        "              'hiperparametro1': 'valor4'\n",
        "             }"
      ],
      "id": "cfc60cb9"
    },
    {
      "cell_type": "code",
      "execution_count": null,
      "metadata": {
        "id": "fc65e57a"
      },
      "outputs": [],
      "source": [
        "# Instanciar GridSearch con los argumentos correspondientes\n",
        "grid_obj = GridSearchCV('####')"
      ],
      "id": "fc65e57a"
    },
    {
      "cell_type": "code",
      "execution_count": null,
      "metadata": {
        "id": "8395e5e2"
      },
      "outputs": [],
      "source": [
        "# Entrenamiento del objeto gridsearch\n",
        "grid_fit = grid_obj.fit(X_train, y_train)"
      ],
      "id": "8395e5e2"
    },
    {
      "cell_type": "code",
      "execution_count": null,
      "metadata": {
        "id": "630b0515"
      },
      "outputs": [],
      "source": [
        "# Seleccion del mejor modelo e impresion de sus hiperparametros\n",
        "best_model = grid_fit.best_estimator_\n",
        "print(grid_fit.best_params_)\n",
        "print(grid_fit.best_score_)\n",
        "y_train_pred_model_opt = best_model.predict(X_train)\n",
        "y_test_pred_model_opt = best_model.predict(X_test)"
      ],
      "id": "630b0515"
    },
    {
      "cell_type": "code",
      "execution_count": null,
      "metadata": {
        "id": "ae587eba"
      },
      "outputs": [],
      "source": [
        "# Imprimimos resumen de metricas y la matriz de confusion\n",
        "sns.heatmap(confusion_matrix(y_train, y_train_pred_model_opt), annot=True, cmap='PuBu', fmt='0.0f', linewidths=0.25,\n",
        "           annot_kws={'size':13} )\n",
        "plt.xlabel('Predichos')\n",
        "plt.ylabel('Reales')\n",
        "\n",
        "print('Accuracy del modelo optimizado:    ', accuracy_score(y_train, y_train_pred_model_opt).round(3))\n",
        "print('Recall del modelo optimizado:      ', recall_score(y_train, y_train_pred_model_opt).round(3))"
      ],
      "id": "ae587eba"
    },
    {
      "cell_type": "code",
      "execution_count": null,
      "metadata": {
        "id": "9de709fd"
      },
      "outputs": [],
      "source": [
        "# Imprimimos resumen de metricas y la matriz de confusion (Testeo)\n",
        "sns.heatmap(confusion_matrix(y_test, y_test_pred_model_opt), annot=True, cmap='PuBu', fmt='0.0f', linewidths=0.25,\n",
        "           annot_kws={'size':13} )\n",
        "plt.xlabel('Predichos')\n",
        "plt.ylabel('Reales')\n",
        "\n",
        "print('Accuracy del modelo optimizado (Testeo):    ', accuracy_score(y_test, y_test_pred_model_opt).round(3))\n",
        "print('Recall del modelo optimizado (Testeo):      ', recall_score(y_test, y_test_pred_model_opt).round(3))"
      ],
      "id": "9de709fd"
    },
    {
      "cell_type": "code",
      "execution_count": null,
      "metadata": {
        "id": "e35507d2"
      },
      "outputs": [],
      "source": [],
      "id": "e35507d2"
    },
    {
      "cell_type": "code",
      "execution_count": null,
      "metadata": {
        "id": "78ec29d3"
      },
      "outputs": [],
      "source": [],
      "id": "78ec29d3"
    },
    {
      "cell_type": "code",
      "execution_count": null,
      "metadata": {
        "id": "c2414dc9"
      },
      "outputs": [],
      "source": [],
      "id": "c2414dc9"
    },
    {
      "cell_type": "code",
      "execution_count": null,
      "metadata": {
        "id": "c20a1e87"
      },
      "outputs": [],
      "source": [],
      "id": "c20a1e87"
    },
    {
      "cell_type": "code",
      "execution_count": null,
      "metadata": {
        "id": "5a07bf50"
      },
      "outputs": [],
      "source": [],
      "id": "5a07bf50"
    },
    {
      "cell_type": "code",
      "execution_count": null,
      "metadata": {
        "id": "d4253b16"
      },
      "outputs": [],
      "source": [],
      "id": "d4253b16"
    },
    {
      "cell_type": "code",
      "execution_count": null,
      "metadata": {
        "id": "d42bb772"
      },
      "outputs": [],
      "source": [],
      "id": "d42bb772"
    },
    {
      "cell_type": "code",
      "execution_count": null,
      "metadata": {
        "id": "f51e80df"
      },
      "outputs": [],
      "source": [],
      "id": "f51e80df"
    },
    {
      "cell_type": "code",
      "execution_count": null,
      "metadata": {
        "id": "f48d9edc"
      },
      "outputs": [],
      "source": [],
      "id": "f48d9edc"
    },
    {
      "cell_type": "code",
      "execution_count": null,
      "metadata": {
        "id": "f85c46de"
      },
      "outputs": [],
      "source": [],
      "id": "f85c46de"
    },
    {
      "cell_type": "code",
      "execution_count": null,
      "metadata": {
        "id": "9326d3b2"
      },
      "outputs": [],
      "source": [],
      "id": "9326d3b2"
    },
    {
      "cell_type": "code",
      "execution_count": null,
      "metadata": {
        "id": "a5665409"
      },
      "outputs": [],
      "source": [],
      "id": "a5665409"
    },
    {
      "cell_type": "code",
      "execution_count": null,
      "metadata": {
        "id": "e1e9fbc1"
      },
      "outputs": [],
      "source": [],
      "id": "e1e9fbc1"
    }
  ],
  "metadata": {
    "colab": {
      "provenance": [],
      "include_colab_link": true
    },
    "kernelspec": {
      "display_name": "Python 3 (ipykernel)",
      "language": "python",
      "name": "python3"
    },
    "language_info": {
      "codemirror_mode": {
        "name": "ipython",
        "version": 3
      },
      "file_extension": ".py",
      "mimetype": "text/x-python",
      "name": "python",
      "nbconvert_exporter": "python",
      "pygments_lexer": "ipython3",
      "version": "3.8.11"
    }
  },
  "nbformat": 4,
  "nbformat_minor": 5
}